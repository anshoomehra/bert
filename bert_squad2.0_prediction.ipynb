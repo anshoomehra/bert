{
 "cells": [
  {
   "cell_type": "markdown",
   "metadata": {},
   "source": [
    "# <span style=\"color:navy\"> <center>Bert Learning SQUAD 2.0 Prediction</center> </span>\n",
    "\n",
    "####  <span style=\"color:navy\"> <center>Anshoo Mehra</center>"
   ]
  },
  {
   "cell_type": "markdown",
   "metadata": {
    "heading_collapsed": true
   },
   "source": [
    "# <span style=\"color:navy\"> Import & Install Libraries"
   ]
  },
  {
   "cell_type": "code",
   "execution_count": 1,
   "metadata": {
    "hidden": true
   },
   "outputs": [
    {
     "name": "stderr",
     "output_type": "stream",
     "text": [
      "/home/anmehra/anaconda3/lib/python3.6/site-packages/h5py/__init__.py:36: FutureWarning: Conversion of the second argument of issubdtype from `float` to `np.floating` is deprecated. In future, it will be treated as `np.float64 == np.dtype(float).type`.\n",
      "  from ._conv import register_converters as _register_converters\n",
      "WARNING: Logging before flag parsing goes to stderr.\n",
      "W0502 03:08:16.789860 139747718563584 __init__.py:56] Some hub symbols are not available because TensorFlow version is less than 1.14\n"
     ]
    }
   ],
   "source": [
    "from __future__ import absolute_import\n",
    "from __future__ import division\n",
    "from __future__ import print_function\n",
    "\n",
    "import collections\n",
    "import json\n",
    "import math\n",
    "import os\n",
    "import random\n",
    "import modeling\n",
    "import optimization\n",
    "import tokenization\n",
    "import six\n",
    "import tensorflow as tf\n",
    "import zipfile\n",
    "import pandas as pd\n",
    "import os\n",
    "import numpy as np\n",
    "import pandas as pd\n",
    "from matplotlib import pyplot as plt\n",
    "%matplotlib inline\n",
    "import sys\n",
    "import datetime\n",
    "\n",
    "from sklearn.model_selection import train_test_split\n",
    "import tensorflow_hub as hub\n",
    "from datetime import datetime"
   ]
  },
  {
   "cell_type": "code",
   "execution_count": 2,
   "metadata": {
    "hidden": true
   },
   "outputs": [
    {
     "data": {
      "text/plain": [
       "'/home/anmehra/code/bert'"
      ]
     },
     "execution_count": 2,
     "metadata": {},
     "output_type": "execute_result"
    }
   ],
   "source": [
    "#os.chdir('models')\n",
    "os.getcwd()"
   ]
  },
  {
   "cell_type": "markdown",
   "metadata": {},
   "source": [
    "# <span style=\"color:navy\"> Define Base Classes & Functions"
   ]
  },
  {
   "cell_type": "code",
   "execution_count": 3,
   "metadata": {},
   "outputs": [],
   "source": [
    "class SquadExample(object):\n",
    "  \"\"\"A single training/test example for simple sequence classification.\n",
    "\n",
    "     For examples without an answer, the start and end position are -1.\n",
    "  \"\"\"\n",
    "\n",
    "  def __init__(self,\n",
    "               qas_id,\n",
    "               question_text,\n",
    "               doc_tokens,\n",
    "               orig_answer_text=None,\n",
    "               start_position=None,\n",
    "               end_position=None,\n",
    "               is_impossible=False):\n",
    "    self.qas_id = qas_id\n",
    "    self.question_text = question_text\n",
    "    self.doc_tokens = doc_tokens\n",
    "    self.orig_answer_text = orig_answer_text\n",
    "    self.start_position = start_position\n",
    "    self.end_position = end_position\n",
    "    self.is_impossible = is_impossible\n",
    "\n",
    "  def __str__(self):\n",
    "    return self.__repr__()\n",
    "\n",
    "  def __repr__(self):\n",
    "    s = \"\"\n",
    "    s += \"qas_id: %s\" % (tokenization.printable_text(self.qas_id))\n",
    "    s += \", question_text: %s\" % (\n",
    "        tokenization.printable_text(self.question_text))\n",
    "    s += \", doc_tokens: [%s]\" % (\" \".join(self.doc_tokens))\n",
    "    if self.start_position:\n",
    "      s += \", start_position: %d\" % (self.start_position)\n",
    "    if self.start_position:\n",
    "      s += \", end_position: %d\" % (self.end_position)\n",
    "    if self.start_position:\n",
    "      s += \", is_impossible: %r\" % (self.is_impossible)\n",
    "    return s"
   ]
  },
  {
   "cell_type": "code",
   "execution_count": 4,
   "metadata": {},
   "outputs": [],
   "source": [
    "class InputFeatures(object):\n",
    "  \"\"\"A single set of features of data.\"\"\"\n",
    "\n",
    "  def __init__(self,\n",
    "               unique_id,\n",
    "               example_index,\n",
    "               doc_span_index,\n",
    "               tokens,\n",
    "               token_to_orig_map,\n",
    "               token_is_max_context,\n",
    "               input_ids,\n",
    "               input_mask,\n",
    "               segment_ids,\n",
    "               start_position=None,\n",
    "               end_position=None,\n",
    "               is_impossible=None):\n",
    "    self.unique_id = unique_id\n",
    "    self.example_index = example_index\n",
    "    self.doc_span_index = doc_span_index\n",
    "    self.tokens = tokens\n",
    "    self.token_to_orig_map = token_to_orig_map\n",
    "    self.token_is_max_context = token_is_max_context\n",
    "    self.input_ids = input_ids\n",
    "    self.input_mask = input_mask\n",
    "    self.segment_ids = segment_ids\n",
    "    self.start_position = start_position\n",
    "    self.end_position = end_position\n",
    "    self.is_impossible = is_impossible"
   ]
  },
  {
   "cell_type": "code",
   "execution_count": 5,
   "metadata": {},
   "outputs": [],
   "source": [
    "def read_squad_examples(input_file, is_training):\n",
    "  \"\"\"Read a SQuAD json file into a list of SquadExample.\"\"\"\n",
    "  with tf.gfile.Open(input_file, \"r\") as reader:\n",
    "    input_data = json.load(reader)[\"data\"]\n",
    "\n",
    "  def is_whitespace(c):\n",
    "    if c == \" \" or c == \"\\t\" or c == \"\\r\" or c == \"\\n\" or ord(c) == 0x202F:\n",
    "      return True\n",
    "    return False\n",
    "\n",
    "  examples = []\n",
    "  for entry in input_data:\n",
    "    for paragraph in entry[\"paragraphs\"]:\n",
    "      paragraph_text = paragraph[\"context\"]\n",
    "      doc_tokens = []\n",
    "      char_to_word_offset = []\n",
    "      prev_is_whitespace = True\n",
    "      for c in paragraph_text:\n",
    "        if is_whitespace(c):\n",
    "          prev_is_whitespace = True\n",
    "        else:\n",
    "          if prev_is_whitespace:\n",
    "            doc_tokens.append(c)\n",
    "          else:\n",
    "            doc_tokens[-1] += c\n",
    "          prev_is_whitespace = False\n",
    "        char_to_word_offset.append(len(doc_tokens) - 1)\n",
    "\n",
    "      for qa in paragraph[\"qas\"]:\n",
    "        qas_id = qa[\"id\"]\n",
    "        question_text = qa[\"question\"]\n",
    "        start_position = None\n",
    "        end_position = None\n",
    "        orig_answer_text = None\n",
    "        is_impossible = False\n",
    "        if is_training:\n",
    "\n",
    "          if FLAGS.version_2_with_negative:\n",
    "            is_impossible = qa[\"is_impossible\"]\n",
    "          if (len(qa[\"answers\"]) != 1) and (not is_impossible):\n",
    "            raise ValueError(\n",
    "                \"For training, each question should have exactly 1 answer.\")\n",
    "          if not is_impossible:\n",
    "            answer = qa[\"answers\"][0]\n",
    "            orig_answer_text = answer[\"text\"]\n",
    "            answer_offset = answer[\"answer_start\"]\n",
    "            answer_length = len(orig_answer_text)\n",
    "            start_position = char_to_word_offset[answer_offset]\n",
    "            end_position = char_to_word_offset[answer_offset + answer_length -\n",
    "                                               1]\n",
    "            # Only add answers where the text can be exactly recovered from the\n",
    "            # document. If this CAN'T happen it's likely due to weird Unicode\n",
    "            # stuff so we will just skip the example.\n",
    "            #\n",
    "            # Note that this means for training mode, every example is NOT\n",
    "            # guaranteed to be preserved.\n",
    "            actual_text = \" \".join(\n",
    "                doc_tokens[start_position:(end_position + 1)])\n",
    "            cleaned_answer_text = \" \".join(\n",
    "                tokenization.whitespace_tokenize(orig_answer_text))\n",
    "            if actual_text.find(cleaned_answer_text) == -1:\n",
    "              tf.logging.warning(\"Could not find answer: '%s' vs. '%s'\",\n",
    "                                 actual_text, cleaned_answer_text)\n",
    "              continue\n",
    "          else:\n",
    "            start_position = -1\n",
    "            end_position = -1\n",
    "            orig_answer_text = \"\"\n",
    "\n",
    "        example = SquadExample(\n",
    "            qas_id=qas_id,\n",
    "            question_text=question_text,\n",
    "            doc_tokens=doc_tokens,\n",
    "            orig_answer_text=orig_answer_text,\n",
    "            start_position=start_position,\n",
    "            end_position=end_position,\n",
    "            is_impossible=is_impossible)\n",
    "        examples.append(example)\n",
    "\n",
    "  return examples"
   ]
  },
  {
   "cell_type": "code",
   "execution_count": 6,
   "metadata": {},
   "outputs": [],
   "source": [
    "def convert_examples_to_features(examples, tokenizer, max_seq_length,\n",
    "                                 doc_stride, max_query_length, is_training,\n",
    "                                 output_fn):\n",
    "  \"\"\"Loads a data file into a list of `InputBatch`s.\"\"\"\n",
    "\n",
    "  unique_id = 1000000000\n",
    "\n",
    "  for (example_index, example) in enumerate(examples):\n",
    "    query_tokens = tokenizer.tokenize(example.question_text)\n",
    "\n",
    "    if len(query_tokens) > max_query_length:\n",
    "      query_tokens = query_tokens[0:max_query_length]\n",
    "\n",
    "    tok_to_orig_index = []\n",
    "    orig_to_tok_index = []\n",
    "    all_doc_tokens = []\n",
    "    for (i, token) in enumerate(example.doc_tokens):\n",
    "      orig_to_tok_index.append(len(all_doc_tokens))\n",
    "      sub_tokens = tokenizer.tokenize(token)\n",
    "      for sub_token in sub_tokens:\n",
    "        tok_to_orig_index.append(i)\n",
    "        all_doc_tokens.append(sub_token)\n",
    "\n",
    "    tok_start_position = None\n",
    "    tok_end_position = None\n",
    "    if is_training and example.is_impossible:\n",
    "      tok_start_position = -1\n",
    "      tok_end_position = -1\n",
    "    if is_training and not example.is_impossible:\n",
    "      tok_start_position = orig_to_tok_index[example.start_position]\n",
    "      if example.end_position < len(example.doc_tokens) - 1:\n",
    "        tok_end_position = orig_to_tok_index[example.end_position + 1] - 1\n",
    "      else:\n",
    "        tok_end_position = len(all_doc_tokens) - 1\n",
    "      (tok_start_position, tok_end_position) = _improve_answer_span(\n",
    "          all_doc_tokens, tok_start_position, tok_end_position, tokenizer,\n",
    "          example.orig_answer_text)\n",
    "\n",
    "    # The -3 accounts for [CLS], [SEP] and [SEP]\n",
    "    max_tokens_for_doc = max_seq_length - len(query_tokens) - 3\n",
    "\n",
    "    # We can have documents that are longer than the maximum sequence length.\n",
    "    # To deal with this we do a sliding window approach, where we take chunks\n",
    "    # of the up to our max length with a stride of `doc_stride`.\n",
    "    _DocSpan = collections.namedtuple(  # pylint: disable=invalid-name\n",
    "        \"DocSpan\", [\"start\", \"length\"])\n",
    "    doc_spans = []\n",
    "    start_offset = 0\n",
    "    while start_offset < len(all_doc_tokens):\n",
    "      length = len(all_doc_tokens) - start_offset\n",
    "      if length > max_tokens_for_doc:\n",
    "        length = max_tokens_for_doc\n",
    "      doc_spans.append(_DocSpan(start=start_offset, length=length))\n",
    "      if start_offset + length == len(all_doc_tokens):\n",
    "        break\n",
    "      start_offset += min(length, doc_stride)\n",
    "\n",
    "    for (doc_span_index, doc_span) in enumerate(doc_spans):\n",
    "      tokens = []\n",
    "      token_to_orig_map = {}\n",
    "      token_is_max_context = {}\n",
    "      segment_ids = []\n",
    "      tokens.append(\"[CLS]\")\n",
    "      segment_ids.append(0)\n",
    "      for token in query_tokens:\n",
    "        tokens.append(token)\n",
    "        segment_ids.append(0)\n",
    "      tokens.append(\"[SEP]\")\n",
    "      segment_ids.append(0)\n",
    "\n",
    "      for i in range(doc_span.length):\n",
    "        split_token_index = doc_span.start + i\n",
    "        token_to_orig_map[len(tokens)] = tok_to_orig_index[split_token_index]\n",
    "\n",
    "        is_max_context = _check_is_max_context(doc_spans, doc_span_index,\n",
    "                                               split_token_index)\n",
    "        token_is_max_context[len(tokens)] = is_max_context\n",
    "        tokens.append(all_doc_tokens[split_token_index])\n",
    "        segment_ids.append(1)\n",
    "      tokens.append(\"[SEP]\")\n",
    "      segment_ids.append(1)\n",
    "\n",
    "      input_ids = tokenizer.convert_tokens_to_ids(tokens)\n",
    "\n",
    "      # The mask has 1 for real tokens and 0 for padding tokens. Only real\n",
    "      # tokens are attended to.\n",
    "      input_mask = [1] * len(input_ids)\n",
    "\n",
    "      # Zero-pad up to the sequence length.\n",
    "      while len(input_ids) < max_seq_length:\n",
    "        input_ids.append(0)\n",
    "        input_mask.append(0)\n",
    "        segment_ids.append(0)\n",
    "\n",
    "      assert len(input_ids) == max_seq_length\n",
    "      assert len(input_mask) == max_seq_length\n",
    "      assert len(segment_ids) == max_seq_length\n",
    "\n",
    "      start_position = None\n",
    "      end_position = None\n",
    "      if is_training and not example.is_impossible:\n",
    "        # For training, if our document chunk does not contain an annotation\n",
    "        # we throw it out, since there is nothing to predict.\n",
    "        doc_start = doc_span.start\n",
    "        doc_end = doc_span.start + doc_span.length - 1\n",
    "        out_of_span = False\n",
    "        if not (tok_start_position >= doc_start and\n",
    "                tok_end_position <= doc_end):\n",
    "          out_of_span = True\n",
    "        if out_of_span:\n",
    "          start_position = 0\n",
    "          end_position = 0\n",
    "        else:\n",
    "          doc_offset = len(query_tokens) + 2\n",
    "          start_position = tok_start_position - doc_start + doc_offset\n",
    "          end_position = tok_end_position - doc_start + doc_offset\n",
    "\n",
    "      if is_training and example.is_impossible:\n",
    "        start_position = 0\n",
    "        end_position = 0\n",
    "\n",
    "      if example_index < 20:\n",
    "        tf.logging.info(\"*** Example ***\")\n",
    "        tf.logging.info(\"unique_id: %s\" % (unique_id))\n",
    "        tf.logging.info(\"example_index: %s\" % (example_index))\n",
    "        tf.logging.info(\"doc_span_index: %s\" % (doc_span_index))\n",
    "        tf.logging.info(\"tokens: %s\" % \" \".join(\n",
    "            [tokenization.printable_text(x) for x in tokens]))\n",
    "        tf.logging.info(\"token_to_orig_map: %s\" % \" \".join(\n",
    "            [\"%d:%d\" % (x, y) for (x, y) in six.iteritems(token_to_orig_map)]))\n",
    "        tf.logging.info(\"token_is_max_context: %s\" % \" \".join([\n",
    "            \"%d:%s\" % (x, y) for (x, y) in six.iteritems(token_is_max_context)\n",
    "        ]))\n",
    "        tf.logging.info(\"input_ids: %s\" % \" \".join([str(x) for x in input_ids]))\n",
    "        tf.logging.info(\n",
    "            \"input_mask: %s\" % \" \".join([str(x) for x in input_mask]))\n",
    "        tf.logging.info(\n",
    "            \"segment_ids: %s\" % \" \".join([str(x) for x in segment_ids]))\n",
    "        if is_training and example.is_impossible:\n",
    "          tf.logging.info(\"impossible example\")\n",
    "        if is_training and not example.is_impossible:\n",
    "          answer_text = \" \".join(tokens[start_position:(end_position + 1)])\n",
    "          tf.logging.info(\"start_position: %d\" % (start_position))\n",
    "          tf.logging.info(\"end_position: %d\" % (end_position))\n",
    "          tf.logging.info(\n",
    "              \"answer: %s\" % (tokenization.printable_text(answer_text)))\n",
    "\n",
    "      feature = InputFeatures(\n",
    "          unique_id=unique_id,\n",
    "          example_index=example_index,\n",
    "          doc_span_index=doc_span_index,\n",
    "          tokens=tokens,\n",
    "          token_to_orig_map=token_to_orig_map,\n",
    "          token_is_max_context=token_is_max_context,\n",
    "          input_ids=input_ids,\n",
    "          input_mask=input_mask,\n",
    "          segment_ids=segment_ids,\n",
    "          start_position=start_position,\n",
    "          end_position=end_position,\n",
    "          is_impossible=example.is_impossible)\n",
    "\n",
    "      # Run callback\n",
    "      output_fn(feature)\n",
    "\n",
    "      unique_id += 1"
   ]
  },
  {
   "cell_type": "code",
   "execution_count": 7,
   "metadata": {},
   "outputs": [],
   "source": [
    "def _improve_answer_span(doc_tokens, input_start, input_end, tokenizer,\n",
    "                         orig_answer_text):\n",
    "  \"\"\"Returns tokenized answer spans that better match the annotated answer.\"\"\"\n",
    "\n",
    "  # The SQuAD annotations are character based. We first project them to\n",
    "  # whitespace-tokenized words. But then after WordPiece tokenization, we can\n",
    "  # often find a \"better match\". For example:\n",
    "  #\n",
    "  #   Question: What year was John Smith born?\n",
    "  #   Context: The leader was John Smith (1895-1943).\n",
    "  #   Answer: 1895\n",
    "  #\n",
    "  # The original whitespace-tokenized answer will be \"(1895-1943).\". However\n",
    "  # after tokenization, our tokens will be \"( 1895 - 1943 ) .\". So we can match\n",
    "  # the exact answer, 1895.\n",
    "  #\n",
    "  # However, this is not always possible. Consider the following:\n",
    "  #\n",
    "  #   Question: What country is the top exporter of electornics?\n",
    "  #   Context: The Japanese electronics industry is the lagest in the world.\n",
    "  #   Answer: Japan\n",
    "  #\n",
    "  # In this case, the annotator chose \"Japan\" as a character sub-span of\n",
    "  # the word \"Japanese\". Since our WordPiece tokenizer does not split\n",
    "  # \"Japanese\", we just use \"Japanese\" as the annotation. This is fairly rare\n",
    "  # in SQuAD, but does happen.\n",
    "  tok_answer_text = \" \".join(tokenizer.tokenize(orig_answer_text))\n",
    "\n",
    "  for new_start in range(input_start, input_end + 1):\n",
    "    for new_end in range(input_end, new_start - 1, -1):\n",
    "      text_span = \" \".join(doc_tokens[new_start:(new_end + 1)])\n",
    "      if text_span == tok_answer_text:\n",
    "        return (new_start, new_end)\n",
    "\n",
    "  return (input_start, input_end)"
   ]
  },
  {
   "cell_type": "code",
   "execution_count": 8,
   "metadata": {},
   "outputs": [],
   "source": [
    "def _check_is_max_context(doc_spans, cur_span_index, position):\n",
    "  \"\"\"Check if this is the 'max context' doc span for the token.\"\"\"\n",
    "\n",
    "  # Because of the sliding window approach taken to scoring documents, a single\n",
    "  # token can appear in multiple documents. E.g.\n",
    "  #  Doc: the man went to the store and bought a gallon of milk\n",
    "  #  Span A: the man went to the\n",
    "  #  Span B: to the store and bought\n",
    "  #  Span C: and bought a gallon of\n",
    "  #  ...\n",
    "  #\n",
    "  # Now the word 'bought' will have two scores from spans B and C. We only\n",
    "  # want to consider the score with \"maximum context\", which we define as\n",
    "  # the *minimum* of its left and right context (the *sum* of left and\n",
    "  # right context will always be the same, of course).\n",
    "  #\n",
    "  # In the example the maximum context for 'bought' would be span C since\n",
    "  # it has 1 left context and 3 right context, while span B has 4 left context\n",
    "  # and 0 right context.\n",
    "  best_score = None\n",
    "  best_span_index = None\n",
    "  for (span_index, doc_span) in enumerate(doc_spans):\n",
    "    end = doc_span.start + doc_span.length - 1\n",
    "    if position < doc_span.start:\n",
    "      continue\n",
    "    if position > end:\n",
    "      continue\n",
    "    num_left_context = position - doc_span.start\n",
    "    num_right_context = end - position\n",
    "    score = min(num_left_context, num_right_context) + 0.01 * doc_span.length\n",
    "    if best_score is None or score > best_score:\n",
    "      best_score = score\n",
    "      best_span_index = span_index\n",
    "\n",
    "  return cur_span_index == best_span_index"
   ]
  },
  {
   "cell_type": "code",
   "execution_count": 9,
   "metadata": {},
   "outputs": [],
   "source": [
    "def create_model(bert_config, is_training, input_ids, input_mask, segment_ids,\n",
    "                 use_one_hot_embeddings):\n",
    "  \"\"\"Creates a classification model.\"\"\"\n",
    "  model = modeling.BertModel(\n",
    "      config=bert_config,\n",
    "      is_training=is_training,\n",
    "      input_ids=input_ids,\n",
    "      input_mask=input_mask,\n",
    "      token_type_ids=segment_ids,\n",
    "      use_one_hot_embeddings=use_one_hot_embeddings)\n",
    "\n",
    "  final_hidden = model.get_sequence_output()\n",
    "\n",
    "  final_hidden_shape = modeling.get_shape_list(final_hidden, expected_rank=3)\n",
    "  batch_size = final_hidden_shape[0]\n",
    "  seq_length = final_hidden_shape[1]\n",
    "  hidden_size = final_hidden_shape[2]\n",
    "\n",
    "  output_weights = tf.get_variable(\n",
    "      \"cls/squad/output_weights\", [2, hidden_size],\n",
    "      initializer=tf.truncated_normal_initializer(stddev=0.02))\n",
    "\n",
    "  output_bias = tf.get_variable(\n",
    "      \"cls/squad/output_bias\", [2], initializer=tf.zeros_initializer())\n",
    "\n",
    "  final_hidden_matrix = tf.reshape(final_hidden,\n",
    "                                   [batch_size * seq_length, hidden_size])\n",
    "  logits = tf.matmul(final_hidden_matrix, output_weights, transpose_b=True)\n",
    "  logits = tf.nn.bias_add(logits, output_bias)\n",
    "\n",
    "  logits = tf.reshape(logits, [batch_size, seq_length, 2])\n",
    "  logits = tf.transpose(logits, [2, 0, 1])\n",
    "\n",
    "  unstacked_logits = tf.unstack(logits, axis=0)\n",
    "\n",
    "  (start_logits, end_logits) = (unstacked_logits[0], unstacked_logits[1])\n",
    "\n",
    "  return (start_logits, end_logits)"
   ]
  },
  {
   "cell_type": "code",
   "execution_count": 10,
   "metadata": {},
   "outputs": [],
   "source": [
    "def model_fn_builder(bert_config, init_checkpoint, learning_rate,\n",
    "                     num_train_steps, num_warmup_steps, use_tpu,\n",
    "                     use_one_hot_embeddings):\n",
    "  \"\"\"Returns `model_fn` closure for TPUEstimator.\"\"\"\n",
    "\n",
    "  def model_fn(features, labels, mode, params):  # pylint: disable=unused-argument\n",
    "    \"\"\"The `model_fn` for TPUEstimator.\"\"\"\n",
    "\n",
    "    tf.logging.info(\"*** Features ***\")\n",
    "    for name in sorted(features.keys()):\n",
    "      tf.logging.info(\"  name = %s, shape = %s\" % (name, features[name].shape))\n",
    "\n",
    "    unique_ids = features[\"unique_ids\"]\n",
    "    input_ids = features[\"input_ids\"]\n",
    "    input_mask = features[\"input_mask\"]\n",
    "    segment_ids = features[\"segment_ids\"]\n",
    "\n",
    "    is_training = (mode == tf.estimator.ModeKeys.TRAIN)\n",
    "\n",
    "    (start_logits, end_logits) = create_model(\n",
    "        bert_config=bert_config,\n",
    "        is_training=is_training,\n",
    "        input_ids=input_ids,\n",
    "        input_mask=input_mask,\n",
    "        segment_ids=segment_ids,\n",
    "        use_one_hot_embeddings=use_one_hot_embeddings)\n",
    "\n",
    "    tvars = tf.trainable_variables()\n",
    "\n",
    "    initialized_variable_names = {}\n",
    "    scaffold_fn = None\n",
    "    if init_checkpoint:\n",
    "      (assignment_map, initialized_variable_names\n",
    "      ) = modeling.get_assignment_map_from_checkpoint(tvars, init_checkpoint)\n",
    "      if use_tpu:\n",
    "\n",
    "        def tpu_scaffold():\n",
    "          tf.train.init_from_checkpoint(init_checkpoint, assignment_map)\n",
    "          return tf.train.Scaffold()\n",
    "\n",
    "        scaffold_fn = tpu_scaffold\n",
    "      else:\n",
    "        tf.train.init_from_checkpoint(init_checkpoint, assignment_map)\n",
    "\n",
    "    tf.logging.info(\"**** Trainable Variables ****\")\n",
    "    for var in tvars:\n",
    "      init_string = \"\"\n",
    "      if var.name in initialized_variable_names:\n",
    "        init_string = \", *INIT_FROM_CKPT*\"\n",
    "      tf.logging.info(\"  name = %s, shape = %s%s\", var.name, var.shape,\n",
    "                      init_string)\n",
    "\n",
    "    output_spec = None\n",
    "    if mode == tf.estimator.ModeKeys.TRAIN:\n",
    "      seq_length = modeling.get_shape_list(input_ids)[1]\n",
    "\n",
    "      def compute_loss(logits, positions):\n",
    "        one_hot_positions = tf.one_hot(\n",
    "            positions, depth=seq_length, dtype=tf.float32)\n",
    "        log_probs = tf.nn.log_softmax(logits, axis=-1)\n",
    "        loss = -tf.reduce_mean(\n",
    "            tf.reduce_sum(one_hot_positions * log_probs, axis=-1))\n",
    "        return loss\n",
    "\n",
    "      start_positions = features[\"start_positions\"]\n",
    "      end_positions = features[\"end_positions\"]\n",
    "\n",
    "      start_loss = compute_loss(start_logits, start_positions)\n",
    "      end_loss = compute_loss(end_logits, end_positions)\n",
    "\n",
    "      total_loss = (start_loss + end_loss) / 2.0\n",
    "\n",
    "      train_op = optimization.create_optimizer(\n",
    "          total_loss, learning_rate, num_train_steps, num_warmup_steps, use_tpu)\n",
    "\n",
    "      output_spec = tf.contrib.tpu.TPUEstimatorSpec(\n",
    "          mode=mode,\n",
    "          loss=total_loss,\n",
    "          train_op=train_op,\n",
    "          scaffold_fn=scaffold_fn)\n",
    "    elif mode == tf.estimator.ModeKeys.PREDICT:\n",
    "      predictions = {\n",
    "          \"unique_ids\": unique_ids,\n",
    "          \"start_logits\": start_logits,\n",
    "          \"end_logits\": end_logits,\n",
    "      }\n",
    "      output_spec = tf.contrib.tpu.TPUEstimatorSpec(\n",
    "          mode=mode, predictions=predictions, scaffold_fn=scaffold_fn)\n",
    "    else:\n",
    "      raise ValueError(\n",
    "          \"Only TRAIN and PREDICT modes are supported: %s\" % (mode))\n",
    "\n",
    "    return output_spec\n",
    "\n",
    "  return model_fn"
   ]
  },
  {
   "cell_type": "code",
   "execution_count": 11,
   "metadata": {},
   "outputs": [],
   "source": [
    "def input_fn_builder(input_file, seq_length, is_training, drop_remainder):\n",
    "  \"\"\"Creates an `input_fn` closure to be passed to TPUEstimator.\"\"\"\n",
    "\n",
    "  name_to_features = {\n",
    "      \"unique_ids\": tf.FixedLenFeature([], tf.int64),\n",
    "      \"input_ids\": tf.FixedLenFeature([seq_length], tf.int64),\n",
    "      \"input_mask\": tf.FixedLenFeature([seq_length], tf.int64),\n",
    "      \"segment_ids\": tf.FixedLenFeature([seq_length], tf.int64),\n",
    "  }\n",
    "\n",
    "  if is_training:\n",
    "    name_to_features[\"start_positions\"] = tf.FixedLenFeature([], tf.int64)\n",
    "    name_to_features[\"end_positions\"] = tf.FixedLenFeature([], tf.int64)\n",
    "\n",
    "  def _decode_record(record, name_to_features):\n",
    "    \"\"\"Decodes a record to a TensorFlow example.\"\"\"\n",
    "    example = tf.parse_single_example(record, name_to_features)\n",
    "\n",
    "    # tf.Example only supports tf.int64, but the TPU only supports tf.int32.\n",
    "    # So cast all int64 to int32.\n",
    "    for name in list(example.keys()):\n",
    "      t = example[name]\n",
    "      if t.dtype == tf.int64:\n",
    "        t = tf.to_int32(t)\n",
    "      example[name] = t\n",
    "\n",
    "    return example\n",
    "\n",
    "  def input_fn(params):\n",
    "    \"\"\"The actual input function.\"\"\"\n",
    "    batch_size = params[\"batch_size\"]\n",
    "\n",
    "    # For training, we want a lot of parallel reading and shuffling.\n",
    "    # For eval, we want no shuffling and parallel reading doesn't matter.\n",
    "    d = tf.data.TFRecordDataset(input_file)\n",
    "    if is_training:\n",
    "      d = d.repeat()\n",
    "      d = d.shuffle(buffer_size=100)\n",
    "\n",
    "    d = d.apply(\n",
    "        tf.contrib.data.map_and_batch(\n",
    "            lambda record: _decode_record(record, name_to_features),\n",
    "            batch_size=batch_size,\n",
    "            drop_remainder=drop_remainder))\n",
    "\n",
    "    return d\n",
    "\n",
    "  return input_fn"
   ]
  },
  {
   "cell_type": "code",
   "execution_count": 12,
   "metadata": {},
   "outputs": [],
   "source": [
    "RawResult = collections.namedtuple(\"RawResult\",\n",
    "                                   [\"unique_id\", \"start_logits\", \"end_logits\"])"
   ]
  },
  {
   "cell_type": "code",
   "execution_count": 13,
   "metadata": {},
   "outputs": [],
   "source": [
    "def write_predictions(all_examples, all_features, all_results, n_best_size,\n",
    "                      max_answer_length, do_lower_case, output_prediction_file,\n",
    "                      output_nbest_file, output_null_log_odds_file):\n",
    "  \"\"\"Write final predictions to the json file and log-odds of null if needed.\"\"\"\n",
    "  tf.logging.info(\"Writing predictions to: %s\" % (output_prediction_file))\n",
    "  tf.logging.info(\"Writing nbest to: %s\" % (output_nbest_file))\n",
    "\n",
    "  example_index_to_features = collections.defaultdict(list)\n",
    "  for feature in all_features:\n",
    "    example_index_to_features[feature.example_index].append(feature)\n",
    "\n",
    "  unique_id_to_result = {}\n",
    "  for result in all_results:\n",
    "    unique_id_to_result[result.unique_id] = result\n",
    "\n",
    "  _PrelimPrediction = collections.namedtuple(  # pylint: disable=invalid-name\n",
    "      \"PrelimPrediction\",\n",
    "      [\"feature_index\", \"start_index\", \"end_index\", \"start_logit\", \"end_logit\"])\n",
    "\n",
    "  all_predictions = collections.OrderedDict()\n",
    "  all_nbest_json = collections.OrderedDict()\n",
    "  scores_diff_json = collections.OrderedDict()\n",
    "\n",
    "  for (example_index, example) in enumerate(all_examples):\n",
    "    features = example_index_to_features[example_index]\n",
    "\n",
    "    prelim_predictions = []\n",
    "    # keep track of the minimum score of null start+end of position 0\n",
    "    score_null = 1000000  # large and positive\n",
    "    min_null_feature_index = 0  # the paragraph slice with min mull score\n",
    "    null_start_logit = 0  # the start logit at the slice with min null score\n",
    "    null_end_logit = 0  # the end logit at the slice with min null score\n",
    "    for (feature_index, feature) in enumerate(features):\n",
    "      result = unique_id_to_result[feature.unique_id]\n",
    "      start_indexes = _get_best_indexes(result.start_logits, n_best_size)\n",
    "      end_indexes = _get_best_indexes(result.end_logits, n_best_size)\n",
    "      # if we could have irrelevant answers, get the min score of irrelevant\n",
    "      if FLAGS.version_2_with_negative:\n",
    "        feature_null_score = result.start_logits[0] + result.end_logits[0]\n",
    "        if feature_null_score < score_null:\n",
    "          score_null = feature_null_score\n",
    "          min_null_feature_index = feature_index\n",
    "          null_start_logit = result.start_logits[0]\n",
    "          null_end_logit = result.end_logits[0]\n",
    "      for start_index in start_indexes:\n",
    "        for end_index in end_indexes:\n",
    "          # We could hypothetically create invalid predictions, e.g., predict\n",
    "          # that the start of the span is in the question. We throw out all\n",
    "          # invalid predictions.\n",
    "          if start_index >= len(feature.tokens):\n",
    "            continue\n",
    "          if end_index >= len(feature.tokens):\n",
    "            continue\n",
    "          if start_index not in feature.token_to_orig_map:\n",
    "            continue\n",
    "          if end_index not in feature.token_to_orig_map:\n",
    "            continue\n",
    "          if not feature.token_is_max_context.get(start_index, False):\n",
    "            continue\n",
    "          if end_index < start_index:\n",
    "            continue\n",
    "          length = end_index - start_index + 1\n",
    "          if length > max_answer_length:\n",
    "            continue\n",
    "          prelim_predictions.append(\n",
    "              _PrelimPrediction(\n",
    "                  feature_index=feature_index,\n",
    "                  start_index=start_index,\n",
    "                  end_index=end_index,\n",
    "                  start_logit=result.start_logits[start_index],\n",
    "                  end_logit=result.end_logits[end_index]))\n",
    "\n",
    "    if FLAGS.version_2_with_negative:\n",
    "      prelim_predictions.append(\n",
    "          _PrelimPrediction(\n",
    "              feature_index=min_null_feature_index,\n",
    "              start_index=0,\n",
    "              end_index=0,\n",
    "              start_logit=null_start_logit,\n",
    "              end_logit=null_end_logit))\n",
    "    prelim_predictions = sorted(\n",
    "        prelim_predictions,\n",
    "        key=lambda x: (x.start_logit + x.end_logit),\n",
    "        reverse=True)\n",
    "\n",
    "    _NbestPrediction = collections.namedtuple(  # pylint: disable=invalid-name\n",
    "        \"NbestPrediction\", [\"text\", \"start_logit\", \"end_logit\"])\n",
    "\n",
    "    seen_predictions = {}\n",
    "    nbest = []\n",
    "    for pred in prelim_predictions:\n",
    "      if len(nbest) >= n_best_size:\n",
    "        break\n",
    "      feature = features[pred.feature_index]\n",
    "      if pred.start_index > 0:  # this is a non-null prediction\n",
    "        tok_tokens = feature.tokens[pred.start_index:(pred.end_index + 1)]\n",
    "        orig_doc_start = feature.token_to_orig_map[pred.start_index]\n",
    "        orig_doc_end = feature.token_to_orig_map[pred.end_index]\n",
    "        orig_tokens = example.doc_tokens[orig_doc_start:(orig_doc_end + 1)]\n",
    "        tok_text = \" \".join(tok_tokens)\n",
    "\n",
    "        # De-tokenize WordPieces that have been split off.\n",
    "        tok_text = tok_text.replace(\" ##\", \"\")\n",
    "        tok_text = tok_text.replace(\"##\", \"\")\n",
    "\n",
    "        # Clean whitespace\n",
    "        tok_text = tok_text.strip()\n",
    "        tok_text = \" \".join(tok_text.split())\n",
    "        orig_text = \" \".join(orig_tokens)\n",
    "\n",
    "        final_text = get_final_text(tok_text, orig_text, do_lower_case)\n",
    "        if final_text in seen_predictions:\n",
    "          continue\n",
    "\n",
    "        seen_predictions[final_text] = True\n",
    "      else:\n",
    "        final_text = \"\"\n",
    "        seen_predictions[final_text] = True\n",
    "\n",
    "      nbest.append(\n",
    "          _NbestPrediction(\n",
    "              text=final_text,\n",
    "              start_logit=pred.start_logit,\n",
    "              end_logit=pred.end_logit))\n",
    "\n",
    "    # if we didn't inlude the empty option in the n-best, inlcude it\n",
    "    if FLAGS.version_2_with_negative:\n",
    "      if \"\" not in seen_predictions:\n",
    "        nbest.append(\n",
    "            _NbestPrediction(\n",
    "                text=\"\", start_logit=null_start_logit,\n",
    "                end_logit=null_end_logit))\n",
    "    # In very rare edge cases we could have no valid predictions. So we\n",
    "    # just create a nonce prediction in this case to avoid failure.\n",
    "    if not nbest:\n",
    "      nbest.append(\n",
    "          _NbestPrediction(text=\"empty\", start_logit=0.0, end_logit=0.0))\n",
    "\n",
    "    assert len(nbest) >= 1\n",
    "\n",
    "    total_scores = []\n",
    "    best_non_null_entry = None\n",
    "    for entry in nbest:\n",
    "      total_scores.append(entry.start_logit + entry.end_logit)\n",
    "      if not best_non_null_entry:\n",
    "        if entry.text:\n",
    "          best_non_null_entry = entry\n",
    "\n",
    "    probs = _compute_softmax(total_scores)\n",
    "\n",
    "    nbest_json = []\n",
    "    for (i, entry) in enumerate(nbest):\n",
    "      output = collections.OrderedDict()\n",
    "      output[\"text\"] = entry.text\n",
    "      output[\"probability\"] = probs[i]\n",
    "      output[\"start_logit\"] = entry.start_logit\n",
    "      output[\"end_logit\"] = entry.end_logit\n",
    "      nbest_json.append(output)\n",
    "\n",
    "    assert len(nbest_json) >= 1\n",
    "\n",
    "    if not FLAGS.version_2_with_negative:\n",
    "      all_predictions[example.qas_id] = nbest_json[0][\"text\"]\n",
    "    else:\n",
    "      # predict \"\" iff the null score - the score of best non-null > threshold\n",
    "      score_diff = score_null - best_non_null_entry.start_logit - (\n",
    "          best_non_null_entry.end_logit)\n",
    "      scores_diff_json[example.qas_id] = score_diff\n",
    "      if score_diff > FLAGS.null_score_diff_threshold:\n",
    "        all_predictions[example.qas_id] = \"\"\n",
    "      else:\n",
    "        all_predictions[example.qas_id] = best_non_null_entry.text\n",
    "\n",
    "    all_nbest_json[example.qas_id] = nbest_json\n",
    "\n",
    "  with tf.gfile.GFile(output_prediction_file, \"w\") as writer:\n",
    "    writer.write(json.dumps(all_predictions, indent=4) + \"\\n\")\n",
    "\n",
    "  with tf.gfile.GFile(output_nbest_file, \"w\") as writer:\n",
    "    writer.write(json.dumps(all_nbest_json, indent=4) + \"\\n\")\n",
    "\n",
    "  if FLAGS.version_2_with_negative:\n",
    "    with tf.gfile.GFile(output_null_log_odds_file, \"w\") as writer:\n",
    "      writer.write(json.dumps(scores_diff_json, indent=4) + \"\\n\")"
   ]
  },
  {
   "cell_type": "code",
   "execution_count": 14,
   "metadata": {},
   "outputs": [],
   "source": [
    "def get_final_text(pred_text, orig_text, do_lower_case):\n",
    "  \"\"\"Project the tokenized prediction back to the original text.\"\"\"\n",
    "\n",
    "  # When we created the data, we kept track of the alignment between original\n",
    "  # (whitespace tokenized) tokens and our WordPiece tokenized tokens. So\n",
    "  # now `orig_text` contains the span of our original text corresponding to the\n",
    "  # span that we predicted.\n",
    "  #\n",
    "  # However, `orig_text` may contain extra characters that we don't want in\n",
    "  # our prediction.\n",
    "  #\n",
    "  # For example, let's say:\n",
    "  #   pred_text = steve smith\n",
    "  #   orig_text = Steve Smith's\n",
    "  #\n",
    "  # We don't want to return `orig_text` because it contains the extra \"'s\".\n",
    "  #\n",
    "  # We don't want to return `pred_text` because it's already been normalized\n",
    "  # (the SQuAD eval script also does punctuation stripping/lower casing but\n",
    "  # our tokenizer does additional normalization like stripping accent\n",
    "  # characters).\n",
    "  #\n",
    "  # What we really want to return is \"Steve Smith\".\n",
    "  #\n",
    "  # Therefore, we have to apply a semi-complicated alignment heruistic between\n",
    "  # `pred_text` and `orig_text` to get a character-to-charcter alignment. This\n",
    "  # can fail in certain cases in which case we just return `orig_text`.\n",
    "\n",
    "  def _strip_spaces(text):\n",
    "    ns_chars = []\n",
    "    ns_to_s_map = collections.OrderedDict()\n",
    "    for (i, c) in enumerate(text):\n",
    "      if c == \" \":\n",
    "        continue\n",
    "      ns_to_s_map[len(ns_chars)] = i\n",
    "      ns_chars.append(c)\n",
    "    ns_text = \"\".join(ns_chars)\n",
    "    return (ns_text, ns_to_s_map)\n",
    "\n",
    "  # We first tokenize `orig_text`, strip whitespace from the result\n",
    "  # and `pred_text`, and check if they are the same length. If they are\n",
    "  # NOT the same length, the heuristic has failed. If they are the same\n",
    "  # length, we assume the characters are one-to-one aligned.\n",
    "  tokenizer = tokenization.BasicTokenizer(do_lower_case=do_lower_case)\n",
    "\n",
    "  tok_text = \" \".join(tokenizer.tokenize(orig_text))\n",
    "\n",
    "  start_position = tok_text.find(pred_text)\n",
    "  if start_position == -1:\n",
    "    if FLAGS.verbose_logging:\n",
    "      tf.logging.info(\n",
    "          \"Unable to find text: '%s' in '%s'\" % (pred_text, orig_text))\n",
    "    return orig_text\n",
    "  end_position = start_position + len(pred_text) - 1\n",
    "\n",
    "  (orig_ns_text, orig_ns_to_s_map) = _strip_spaces(orig_text)\n",
    "  (tok_ns_text, tok_ns_to_s_map) = _strip_spaces(tok_text)\n",
    "\n",
    "  if len(orig_ns_text) != len(tok_ns_text):\n",
    "    if FLAGS.verbose_logging:\n",
    "      tf.logging.info(\"Length not equal after stripping spaces: '%s' vs '%s'\",\n",
    "                      orig_ns_text, tok_ns_text)\n",
    "    return orig_text\n",
    "\n",
    "  # We then project the characters in `pred_text` back to `orig_text` using\n",
    "  # the character-to-character alignment.\n",
    "  tok_s_to_ns_map = {}\n",
    "  for (i, tok_index) in six.iteritems(tok_ns_to_s_map):\n",
    "    tok_s_to_ns_map[tok_index] = i\n",
    "\n",
    "  orig_start_position = None\n",
    "  if start_position in tok_s_to_ns_map:\n",
    "    ns_start_position = tok_s_to_ns_map[start_position]\n",
    "    if ns_start_position in orig_ns_to_s_map:\n",
    "      orig_start_position = orig_ns_to_s_map[ns_start_position]\n",
    "\n",
    "  if orig_start_position is None:\n",
    "    if FLAGS.verbose_logging:\n",
    "      tf.logging.info(\"Couldn't map start position\")\n",
    "    return orig_text\n",
    "\n",
    "  orig_end_position = None\n",
    "  if end_position in tok_s_to_ns_map:\n",
    "    ns_end_position = tok_s_to_ns_map[end_position]\n",
    "    if ns_end_position in orig_ns_to_s_map:\n",
    "      orig_end_position = orig_ns_to_s_map[ns_end_position]\n",
    "\n",
    "  if orig_end_position is None:\n",
    "    if FLAGS.verbose_logging:\n",
    "      tf.logging.info(\"Couldn't map end position\")\n",
    "    return orig_text\n",
    "\n",
    "  output_text = orig_text[orig_start_position:(orig_end_position + 1)]\n",
    "  return output_text"
   ]
  },
  {
   "cell_type": "code",
   "execution_count": 15,
   "metadata": {},
   "outputs": [],
   "source": [
    "def _get_best_indexes(logits, n_best_size):\n",
    "  \"\"\"Get the n-best logits from a list.\"\"\"\n",
    "  index_and_score = sorted(enumerate(logits), key=lambda x: x[1], reverse=True)\n",
    "\n",
    "  best_indexes = []\n",
    "  for i in range(len(index_and_score)):\n",
    "    if i >= n_best_size:\n",
    "      break\n",
    "    best_indexes.append(index_and_score[i][0])\n",
    "  return best_indexes"
   ]
  },
  {
   "cell_type": "code",
   "execution_count": 16,
   "metadata": {},
   "outputs": [],
   "source": [
    "def _compute_softmax(scores):\n",
    "  \"\"\"Compute softmax probability over raw logits.\"\"\"\n",
    "  if not scores:\n",
    "    return []\n",
    "\n",
    "  max_score = None\n",
    "  for score in scores:\n",
    "    if max_score is None or score > max_score:\n",
    "      max_score = score\n",
    "\n",
    "  exp_scores = []\n",
    "  total_sum = 0.0\n",
    "  for score in scores:\n",
    "    x = math.exp(score - max_score)\n",
    "    exp_scores.append(x)\n",
    "    total_sum += x\n",
    "\n",
    "  probs = []\n",
    "  for score in exp_scores:\n",
    "    probs.append(score / total_sum)\n",
    "  return probs"
   ]
  },
  {
   "cell_type": "code",
   "execution_count": 17,
   "metadata": {},
   "outputs": [],
   "source": [
    "class FeatureWriter(object):\n",
    "  \"\"\"Writes InputFeature to TF example file.\"\"\"\n",
    "\n",
    "  def __init__(self, filename, is_training):\n",
    "    self.filename = filename\n",
    "    self.is_training = is_training\n",
    "    self.num_features = 0\n",
    "    self._writer = tf.python_io.TFRecordWriter(filename)\n",
    "\n",
    "  def process_feature(self, feature):\n",
    "    \"\"\"Write a InputFeature to the TFRecordWriter as a tf.train.Example.\"\"\"\n",
    "    self.num_features += 1\n",
    "\n",
    "    def create_int_feature(values):\n",
    "      feature = tf.train.Feature(\n",
    "          int64_list=tf.train.Int64List(value=list(values)))\n",
    "      return feature\n",
    "\n",
    "    features = collections.OrderedDict()\n",
    "    features[\"unique_ids\"] = create_int_feature([feature.unique_id])\n",
    "    features[\"input_ids\"] = create_int_feature(feature.input_ids)\n",
    "    features[\"input_mask\"] = create_int_feature(feature.input_mask)\n",
    "    features[\"segment_ids\"] = create_int_feature(feature.segment_ids)\n",
    "\n",
    "    if self.is_training:\n",
    "      features[\"start_positions\"] = create_int_feature([feature.start_position])\n",
    "      features[\"end_positions\"] = create_int_feature([feature.end_position])\n",
    "      impossible = 0\n",
    "      if feature.is_impossible:\n",
    "        impossible = 1\n",
    "      features[\"is_impossible\"] = create_int_feature([impossible])\n",
    "\n",
    "    tf_example = tf.train.Example(features=tf.train.Features(feature=features))\n",
    "    self._writer.write(tf_example.SerializeToString())\n",
    "\n",
    "  def close(self):\n",
    "    self._writer.close()"
   ]
  },
  {
   "cell_type": "code",
   "execution_count": 18,
   "metadata": {},
   "outputs": [],
   "source": [
    "def validate_flags_or_throw(bert_config):\n",
    "  \"\"\"Validate the input FLAGS or throw an exception.\"\"\"\n",
    "  tokenization.validate_case_matches_checkpoint(FLAGS.do_lower_case,\n",
    "                                                FLAGS.init_checkpoint)\n",
    "\n",
    "  if not FLAGS.do_train and not FLAGS.do_predict:\n",
    "    raise ValueError(\"At least one of `do_train` or `do_predict` must be True.\")\n",
    "\n",
    "  if FLAGS.do_train:\n",
    "    if not FLAGS.train_file:\n",
    "      raise ValueError(\n",
    "          \"If `do_train` is True, then `train_file` must be specified.\")\n",
    "  if FLAGS.do_predict:\n",
    "    if not FLAGS.predict_file:\n",
    "      raise ValueError(\n",
    "          \"If `do_predict` is True, then `predict_file` must be specified.\")\n",
    "\n",
    "  if FLAGS.max_seq_length > bert_config.max_position_embeddings:\n",
    "    raise ValueError(\n",
    "        \"Cannot use sequence length %d because the BERT model \"\n",
    "        \"was only trained up to sequence length %d\" %\n",
    "        (FLAGS.max_seq_length, bert_config.max_position_embeddings))\n",
    "\n",
    "  if FLAGS.max_seq_length <= FLAGS.max_query_length + 3:\n",
    "    raise ValueError(\n",
    "        \"The max_seq_length (%d) must be greater than max_query_length \"\n",
    "        \"(%d) + 3\" % (FLAGS.max_seq_length, FLAGS.max_query_length))"
   ]
  },
  {
   "cell_type": "code",
   "execution_count": 67,
   "metadata": {},
   "outputs": [],
   "source": [
    "def print_predictions(all_examples, all_features, all_results, n_best_size,\n",
    "                      max_answer_length, do_lower_case):\n",
    "\n",
    "  example_index_to_features = collections.defaultdict(list)\n",
    "  for feature in all_features:\n",
    "    example_index_to_features[feature.example_index].append(feature)\n",
    "\n",
    "  unique_id_to_result = {}\n",
    "  for result in all_results:\n",
    "    unique_id_to_result[result.unique_id] = result\n",
    "\n",
    "  _PrelimPrediction = collections.namedtuple(  # pylint: disable=invalid-name\n",
    "      \"PrelimPrediction\",\n",
    "      [\"feature_index\", \"start_index\", \"end_index\", \"start_logit\", \"end_logit\"])\n",
    "\n",
    "  all_predictions = collections.OrderedDict()\n",
    "  all_nbest_json = collections.OrderedDict()\n",
    "  scores_diff_json = collections.OrderedDict()\n",
    "\n",
    "  for (example_index, example) in enumerate(all_examples):\n",
    "    features = example_index_to_features[example_index]\n",
    "\n",
    "    prelim_predictions = []\n",
    "    # keep track of the minimum score of null start+end of position 0\n",
    "    score_null = 1000000  # large and positive\n",
    "    min_null_feature_index = 0  # the paragraph slice with min mull score\n",
    "    null_start_logit = 0  # the start logit at the slice with min null score\n",
    "    null_end_logit = 0  # the end logit at the slice with min null score\n",
    "\n",
    "    for (feature_index, feature) in enumerate(features):\n",
    "      result = unique_id_to_result[feature.unique_id]\n",
    "      start_indexes = _get_best_indexes(result.start_logits, n_best_size)\n",
    "      end_indexes = _get_best_indexes(result.end_logits, n_best_size)\n",
    "      # if we could have irrelevant answers, get the min score of irrelevant\n",
    "      if 1==1: #FLAGS.version_2_with_negative:\n",
    "        feature_null_score = result.start_logits[0] + result.end_logits[0]\n",
    "        if feature_null_score < score_null:\n",
    "          score_null = feature_null_score\n",
    "          min_null_feature_index = feature_index\n",
    "          null_start_logit = result.start_logits[0]\n",
    "          null_end_logit = result.end_logits[0]\n",
    "      for start_index in start_indexes:\n",
    "        for end_index in end_indexes:\n",
    "          # We could hypothetically create invalid predictions, e.g., predict\n",
    "          # that the start of the span is in the question. We throw out all\n",
    "          # invalid predictions.\n",
    "          if start_index >= len(feature.tokens):\n",
    "            continue\n",
    "          if end_index >= len(feature.tokens):\n",
    "            continue\n",
    "          if start_index not in feature.token_to_orig_map:\n",
    "            continue\n",
    "          if end_index not in feature.token_to_orig_map:\n",
    "            continue\n",
    "          if not feature.token_is_max_context.get(start_index, False):\n",
    "            continue\n",
    "          if end_index < start_index:\n",
    "            continue\n",
    "          length = end_index - start_index + 1\n",
    "          if length > max_answer_length:\n",
    "            continue\n",
    "          prelim_predictions.append(\n",
    "              _PrelimPrediction(\n",
    "                  feature_index=feature_index,\n",
    "                  start_index=start_index,\n",
    "                  end_index=end_index,\n",
    "                  start_logit=result.start_logits[start_index],\n",
    "                  end_logit=result.end_logits[end_index]))\n",
    "\n",
    "    if 1==1: #FLAGS.version_2_with_negative:\n",
    "      prelim_predictions.append(\n",
    "          _PrelimPrediction(\n",
    "              feature_index=min_null_feature_index,\n",
    "              start_index=0,\n",
    "              end_index=0,\n",
    "              start_logit=null_start_logit,\n",
    "              end_logit=null_end_logit))\n",
    "    prelim_predictions = sorted(\n",
    "        prelim_predictions,\n",
    "        key=lambda x: (x.start_logit + x.end_logit),\n",
    "        reverse=True)\n",
    "\n",
    "    _NbestPrediction = collections.namedtuple(  # pylint: disable=invalid-name\n",
    "        \"NbestPrediction\", [\"text\", \"start_logit\", \"end_logit\"])\n",
    "\n",
    "    seen_predictions = {}\n",
    "    nbest = []\n",
    "    for pred in prelim_predictions:\n",
    "      if len(nbest) >= n_best_size:\n",
    "        break\n",
    "      feature = features[pred.feature_index]\n",
    "      if pred.start_index > 0:  # this is a non-null prediction\n",
    "        tok_tokens = feature.tokens[pred.start_index:(pred.end_index + 1)]\n",
    "        orig_doc_start = feature.token_to_orig_map[pred.start_index]\n",
    "        orig_doc_end = feature.token_to_orig_map[pred.end_index]\n",
    "        orig_tokens = example.doc_tokens[orig_doc_start:(orig_doc_end + 1)]\n",
    "        tok_text = \" \".join(tok_tokens)\n",
    "\n",
    "        # De-tokenize WordPieces that have been split off.\n",
    "        tok_text = tok_text.replace(\" ##\", \"\")\n",
    "        tok_text = tok_text.replace(\"##\", \"\")\n",
    "\n",
    "        # Clean whitespace\n",
    "        tok_text = tok_text.strip()\n",
    "        tok_text = \" \".join(tok_text.split())\n",
    "        orig_text = \" \".join(orig_tokens)\n",
    "\n",
    "        final_text = get_final_text(tok_text, orig_text, do_lower_case)\n",
    "        if final_text in seen_predictions:\n",
    "          continue\n",
    "\n",
    "        seen_predictions[final_text] = True\n",
    "      else:\n",
    "        final_text = \"\"\n",
    "        seen_predictions[final_text] = True\n",
    "\n",
    "      nbest.append(\n",
    "          _NbestPrediction(\n",
    "              text=final_text,\n",
    "              start_logit=pred.start_logit,\n",
    "              end_logit=pred.end_logit))\n",
    "\n",
    "    # if we didn't inlude the empty option in the n-best, inlcude it\n",
    "    if 1==1: #FLAGS.version_2_with_negative:\n",
    "      if \"\" not in seen_predictions:\n",
    "        nbest.append(\n",
    "            _NbestPrediction(\n",
    "                text=\"\", start_logit=null_start_logit,\n",
    "                end_logit=null_end_logit))\n",
    "    # In very rare edge cases we could have no valid predictions. So we\n",
    "    # just create a nonce prediction in this case to avoid failure.\n",
    "    if not nbest:\n",
    "      nbest.append(\n",
    "          _NbestPrediction(text=\"empty\", start_logit=0.0, end_logit=0.0))\n",
    "\n",
    "    assert len(nbest) >= 1\n",
    "\n",
    "    total_scores = []\n",
    "    best_non_null_entry = None\n",
    "    for entry in nbest:\n",
    "      total_scores.append(entry.start_logit + entry.end_logit)\n",
    "      if not best_non_null_entry:\n",
    "        if entry.text:\n",
    "          best_non_null_entry = entry\n",
    "\n",
    "    probs = _compute_softmax(total_scores)\n",
    "\n",
    "    nbest_json = []\n",
    "    for (i, entry) in enumerate(nbest):\n",
    "      output = collections.OrderedDict()\n",
    "      output[\"text\"] = entry.text\n",
    "      output[\"probability\"] = probs[i]\n",
    "      output[\"start_logit\"] = entry.start_logit\n",
    "      output[\"end_logit\"] = entry.end_logit\n",
    "      nbest_json.append(output)\n",
    "\n",
    "    assert len(nbest_json) >= 1\n",
    "\n",
    "    if not 1==1: #FLAGS.version_2_with_negative:\n",
    "      all_predictions[example.qas_id] = nbest_json[0][\"text\"]\n",
    "    else:\n",
    "      # predict \"\" iff the null score - the score of best non-null > threshold\n",
    "      score_diff = score_null - best_non_null_entry.start_logit - (\n",
    "          best_non_null_entry.end_logit)\n",
    "      scores_diff_json[example.qas_id] = score_diff\n",
    "      if score_diff > 0.0: #FLAGS.null_score_diff_threshold:\n",
    "        all_predictions[example.qas_id] = \"\"\n",
    "      else:\n",
    "        all_predictions[example.qas_id] = best_non_null_entry.text\n",
    "\n",
    "    all_nbest_json[example.qas_id] = nbest_json\n",
    "\n",
    " \n",
    "  print (\"ALL PREDICTIONS\\n\")\n",
    "  print (all_predictions)\n",
    "\n",
    "  print(\"\")\n",
    "  print (\"ALL NBEST\\n\")\n",
    "  print (all_nbest_json)\n",
    "\n",
    "  print(\"\")\n",
    "  print (\"ALL NULL LOG ODDS\\n\")\n",
    "  print (scores_diff_json)\n",
    "\n",
    "#   with tf.gfile.GFile(output_prediction_file, \"w\") as writer:\n",
    "#     writer.write(json.dumps(all_predictions, indent=4) + \"\\n\")\n",
    "\n",
    "#   with tf.gfile.GFile(output_nbest_file, \"w\") as writer:\n",
    "#     writer.write(json.dumps(all_nbest_json, indent=4) + \"\\n\")\n",
    "\n",
    "#   if FLAGS.version_2_with_negative:\n",
    "#     with tf.gfile.GFile(output_null_log_odds_file, \"w\") as writer:\n",
    "#       writer.write(json.dumps(scores_diff_json, indent=4) + \"\\n\")"
   ]
  },
  {
   "cell_type": "markdown",
   "metadata": {},
   "source": [
    "# <span style=\"color:navy\"> Prediction Pipeline"
   ]
  },
  {
   "cell_type": "code",
   "execution_count": 52,
   "metadata": {},
   "outputs": [],
   "source": [
    "tf.logging.set_verbosity(tf.logging.INFO)\n",
    "\n",
    "bert_config = modeling.BertConfig.from_json_file('models/model_repo/uncased_L-12_H-768_A-12/bert_config.json')"
   ]
  },
  {
   "cell_type": "code",
   "execution_count": 53,
   "metadata": {},
   "outputs": [],
   "source": [
    "tokenizer = tokenization.FullTokenizer(\n",
    "  vocab_file='models/model_repo/uncased_L-12_H-768_A-12/vocab.txt', do_lower_case=True)"
   ]
  },
  {
   "cell_type": "code",
   "execution_count": 54,
   "metadata": {},
   "outputs": [],
   "source": [
    "is_per_host = tf.contrib.tpu.InputPipelineConfig.PER_HOST_V2\n",
    "run_config = tf.contrib.tpu.RunConfig(\n",
    "  #cluster=tpu_cluster_resolver,\n",
    "  master=None,\n",
    "  model_dir='squad/output/oneoff',\n",
    "  save_checkpoints_steps=1000,\n",
    "  tpu_config=tf.contrib.tpu.TPUConfig(\n",
    "      iterations_per_loop=1000,\n",
    "      num_shards=8,\n",
    "      per_host_input_for_training=is_per_host))"
   ]
  },
  {
   "cell_type": "code",
   "execution_count": 55,
   "metadata": {},
   "outputs": [],
   "source": [
    "model_fn = model_fn_builder(\n",
    "  bert_config=bert_config,\n",
    "  init_checkpoint='squad/output/jupyter/model.ckpt-21719',\n",
    "  learning_rate=3e-5,\n",
    "  num_train_steps=1,\n",
    "  num_warmup_steps=1,\n",
    "  use_tpu=False,\n",
    "  use_one_hot_embeddings=False)"
   ]
  },
  {
   "cell_type": "code",
   "execution_count": 56,
   "metadata": {},
   "outputs": [
    {
     "name": "stdout",
     "output_type": "stream",
     "text": [
      "WARNING:tensorflow:Estimator's model_fn (<function model_fn_builder.<locals>.model_fn at 0x7f18e09babf8>) includes params argument, but params are not passed to Estimator.\n"
     ]
    },
    {
     "name": "stderr",
     "output_type": "stream",
     "text": [
      "W0502 03:11:32.381139 139747718563584 tf_logging.py:125] Estimator's model_fn (<function model_fn_builder.<locals>.model_fn at 0x7f18e09babf8>) includes params argument, but params are not passed to Estimator.\n"
     ]
    },
    {
     "name": "stdout",
     "output_type": "stream",
     "text": [
      "INFO:tensorflow:Using config: {'_model_dir': 'squad/output/oneoff', '_tf_random_seed': None, '_save_summary_steps': 100, '_save_checkpoints_steps': 1000, '_save_checkpoints_secs': None, '_session_config': None, '_keep_checkpoint_max': 5, '_keep_checkpoint_every_n_hours': 10000, '_log_step_count_steps': None, '_train_distribute': None, '_device_fn': None, '_service': None, '_cluster_spec': <tensorflow.python.training.server_lib.ClusterSpec object at 0x7f18f0fd6550>, '_task_type': 'worker', '_task_id': 0, '_global_id_in_cluster': 0, '_master': '', '_evaluation_master': '', '_is_chief': True, '_num_ps_replicas': 0, '_num_worker_replicas': 1, '_tpu_config': TPUConfig(iterations_per_loop=1000, num_shards=8, computation_shape=None, per_host_input_for_training=3, tpu_job_name=None, initial_infeed_sleep_secs=None), '_cluster': None}\n"
     ]
    },
    {
     "name": "stderr",
     "output_type": "stream",
     "text": [
      "I0502 03:11:32.387573 139747718563584 tf_logging.py:115] Using config: {'_model_dir': 'squad/output/oneoff', '_tf_random_seed': None, '_save_summary_steps': 100, '_save_checkpoints_steps': 1000, '_save_checkpoints_secs': None, '_session_config': None, '_keep_checkpoint_max': 5, '_keep_checkpoint_every_n_hours': 10000, '_log_step_count_steps': None, '_train_distribute': None, '_device_fn': None, '_service': None, '_cluster_spec': <tensorflow.python.training.server_lib.ClusterSpec object at 0x7f18f0fd6550>, '_task_type': 'worker', '_task_id': 0, '_global_id_in_cluster': 0, '_master': '', '_evaluation_master': '', '_is_chief': True, '_num_ps_replicas': 0, '_num_worker_replicas': 1, '_tpu_config': TPUConfig(iterations_per_loop=1000, num_shards=8, computation_shape=None, per_host_input_for_training=3, tpu_job_name=None, initial_infeed_sleep_secs=None), '_cluster': None}\n"
     ]
    },
    {
     "name": "stdout",
     "output_type": "stream",
     "text": [
      "INFO:tensorflow:_TPUContext: eval_on_tpu True\n"
     ]
    },
    {
     "name": "stderr",
     "output_type": "stream",
     "text": [
      "I0502 03:11:32.389107 139747718563584 tf_logging.py:115] _TPUContext: eval_on_tpu True\n"
     ]
    },
    {
     "name": "stdout",
     "output_type": "stream",
     "text": [
      "WARNING:tensorflow:eval_on_tpu ignored because use_tpu is False.\n"
     ]
    },
    {
     "name": "stderr",
     "output_type": "stream",
     "text": [
      "W0502 03:11:32.390614 139747718563584 tf_logging.py:125] eval_on_tpu ignored because use_tpu is False.\n"
     ]
    }
   ],
   "source": [
    "# If TPU is not available, this will fall back to normal Estimator on CPU\n",
    "# or GPU.\n",
    "estimator = tf.contrib.tpu.TPUEstimator(\n",
    "  use_tpu=False,\n",
    "  model_fn=model_fn,\n",
    "  config=run_config,\n",
    "  train_batch_size=12,\n",
    "  predict_batch_size=8)"
   ]
  },
  {
   "cell_type": "code",
   "execution_count": 68,
   "metadata": {},
   "outputs": [],
   "source": [
    "eval_examples = read_squad_examples(\n",
    "    input_file='squad/dev-v2.0.json', is_training=False)"
   ]
  },
  {
   "cell_type": "code",
   "execution_count": 69,
   "metadata": {},
   "outputs": [
    {
     "name": "stdout",
     "output_type": "stream",
     "text": [
      "<class 'list'>\n"
     ]
    }
   ],
   "source": [
    "print (type(eval_examples))"
   ]
  },
  {
   "cell_type": "code",
   "execution_count": 70,
   "metadata": {
    "scrolled": false
   },
   "outputs": [],
   "source": [
    "eval_examples = eval_examples[0:1]"
   ]
  },
  {
   "cell_type": "code",
   "execution_count": 71,
   "metadata": {},
   "outputs": [
    {
     "data": {
      "text/plain": [
       "[qas_id: 56ddde6b9a695914005b9628, question_text: In what country is Normandy located?, doc_tokens: [The Normans (Norman: Nourmands; French: Normands; Latin: Normanni) were the people who in the 10th and 11th centuries gave their name to Normandy, a region in France. They were descended from Norse (\"Norman\" comes from \"Norseman\") raiders and pirates from Denmark, Iceland and Norway who, under their leader Rollo, agreed to swear fealty to King Charles III of West Francia. Through generations of assimilation and mixing with the native Frankish and Roman-Gaulish populations, their descendants would gradually merge with the Carolingian-based cultures of West Francia. The distinct cultural and ethnic identity of the Normans emerged initially in the first half of the 10th century, and it continued to evolve over the succeeding centuries.]]"
      ]
     },
     "execution_count": 71,
     "metadata": {},
     "output_type": "execute_result"
    }
   ],
   "source": [
    "eval_examples"
   ]
  },
  {
   "cell_type": "code",
   "execution_count": 72,
   "metadata": {},
   "outputs": [],
   "source": [
    "eval_writer = FeatureWriter(\n",
    "    filename=os.path.join('squad/output/oneoff', \"eval.tf_record\"),\n",
    "    is_training=False)\n",
    "\n",
    "eval_features = []\n",
    "\n",
    "def append_feature(feature):\n",
    "    eval_features.append(feature)\n",
    "    eval_writer.process_feature(feature)"
   ]
  },
  {
   "cell_type": "code",
   "execution_count": 73,
   "metadata": {
    "scrolled": true
   },
   "outputs": [
    {
     "name": "stdout",
     "output_type": "stream",
     "text": [
      "INFO:tensorflow:*** Example ***\n"
     ]
    },
    {
     "name": "stderr",
     "output_type": "stream",
     "text": [
      "I0502 03:25:53.302818 139747718563584 tf_logging.py:115] *** Example ***\n"
     ]
    },
    {
     "name": "stdout",
     "output_type": "stream",
     "text": [
      "INFO:tensorflow:unique_id: 1000000000\n"
     ]
    },
    {
     "name": "stderr",
     "output_type": "stream",
     "text": [
      "I0502 03:25:53.304546 139747718563584 tf_logging.py:115] unique_id: 1000000000\n"
     ]
    },
    {
     "name": "stdout",
     "output_type": "stream",
     "text": [
      "INFO:tensorflow:example_index: 0\n"
     ]
    },
    {
     "name": "stderr",
     "output_type": "stream",
     "text": [
      "I0502 03:25:53.306037 139747718563584 tf_logging.py:115] example_index: 0\n"
     ]
    },
    {
     "name": "stdout",
     "output_type": "stream",
     "text": [
      "INFO:tensorflow:doc_span_index: 0\n"
     ]
    },
    {
     "name": "stderr",
     "output_type": "stream",
     "text": [
      "I0502 03:25:53.307361 139747718563584 tf_logging.py:115] doc_span_index: 0\n"
     ]
    },
    {
     "name": "stdout",
     "output_type": "stream",
     "text": [
      "INFO:tensorflow:tokens: [CLS] in what country is normandy located ? [SEP] the norman ##s ( norman : no ##ur ##man ##ds ; french : norman ##ds ; latin : norman ##ni ) were the people who in the 10th and 11th centuries gave their name to normandy , a region in france . they were descended from norse ( \" norman \" comes from \" norse ##man \" ) raiders and pirates from denmark , iceland and norway who , under their leader roll ##o , agreed to swear fe ##al ##ty to king charles iii of west fran ##cia . through generations of assimilation and mixing with the native frankish and roman - gaul ##ish populations , their descendants would gradually merge with the carol ##ing ##ian - based cultures of west fran ##cia . the distinct cultural and ethnic identity of the norman ##s emerged initially in the first half of the 10th century , and it continued to evolve over the succeeding centuries . [SEP]\n"
     ]
    },
    {
     "name": "stderr",
     "output_type": "stream",
     "text": [
      "I0502 03:25:53.308748 139747718563584 tf_logging.py:115] tokens: [CLS] in what country is normandy located ? [SEP] the norman ##s ( norman : no ##ur ##man ##ds ; french : norman ##ds ; latin : norman ##ni ) were the people who in the 10th and 11th centuries gave their name to normandy , a region in france . they were descended from norse ( \" norman \" comes from \" norse ##man \" ) raiders and pirates from denmark , iceland and norway who , under their leader roll ##o , agreed to swear fe ##al ##ty to king charles iii of west fran ##cia . through generations of assimilation and mixing with the native frankish and roman - gaul ##ish populations , their descendants would gradually merge with the carol ##ing ##ian - based cultures of west fran ##cia . the distinct cultural and ethnic identity of the norman ##s emerged initially in the first half of the 10th century , and it continued to evolve over the succeeding centuries . [SEP]\n"
     ]
    },
    {
     "name": "stdout",
     "output_type": "stream",
     "text": [
      "INFO:tensorflow:token_to_orig_map: 9:0 10:1 11:1 12:2 13:2 14:2 15:3 16:3 17:3 18:3 19:3 20:4 21:4 22:5 23:5 24:5 25:6 26:6 27:7 28:7 29:7 30:8 31:9 32:10 33:11 34:12 35:13 36:14 37:15 38:16 39:17 40:18 41:19 42:20 43:21 44:22 45:22 46:23 47:24 48:25 49:26 50:26 51:27 52:28 53:29 54:30 55:31 56:32 57:32 58:32 59:32 60:33 61:34 62:35 63:35 64:35 65:35 66:35 67:36 68:37 69:38 70:39 71:40 72:40 73:41 74:42 75:43 76:44 77:44 78:45 79:46 80:47 81:48 82:48 83:48 84:49 85:50 86:51 87:52 88:52 89:52 90:53 91:54 92:55 93:56 94:57 95:58 96:59 97:59 98:59 99:60 100:61 101:62 102:63 103:64 104:65 105:66 106:67 107:68 108:69 109:70 110:71 111:71 112:71 113:71 114:72 115:72 116:73 117:74 118:75 119:76 120:77 121:78 122:79 123:80 124:80 125:80 126:80 127:80 128:81 129:82 130:83 131:84 132:84 133:84 134:85 135:86 136:87 137:88 138:89 139:90 140:91 141:92 142:93 143:93 144:94 145:95 146:96 147:97 148:98 149:99 150:100 151:101 152:102 153:103 154:103 155:104 156:105 157:106 158:107 159:108 160:109 161:110 162:111 163:112 164:112\n"
     ]
    },
    {
     "name": "stderr",
     "output_type": "stream",
     "text": [
      "I0502 03:25:53.310032 139747718563584 tf_logging.py:115] token_to_orig_map: 9:0 10:1 11:1 12:2 13:2 14:2 15:3 16:3 17:3 18:3 19:3 20:4 21:4 22:5 23:5 24:5 25:6 26:6 27:7 28:7 29:7 30:8 31:9 32:10 33:11 34:12 35:13 36:14 37:15 38:16 39:17 40:18 41:19 42:20 43:21 44:22 45:22 46:23 47:24 48:25 49:26 50:26 51:27 52:28 53:29 54:30 55:31 56:32 57:32 58:32 59:32 60:33 61:34 62:35 63:35 64:35 65:35 66:35 67:36 68:37 69:38 70:39 71:40 72:40 73:41 74:42 75:43 76:44 77:44 78:45 79:46 80:47 81:48 82:48 83:48 84:49 85:50 86:51 87:52 88:52 89:52 90:53 91:54 92:55 93:56 94:57 95:58 96:59 97:59 98:59 99:60 100:61 101:62 102:63 103:64 104:65 105:66 106:67 107:68 108:69 109:70 110:71 111:71 112:71 113:71 114:72 115:72 116:73 117:74 118:75 119:76 120:77 121:78 122:79 123:80 124:80 125:80 126:80 127:80 128:81 129:82 130:83 131:84 132:84 133:84 134:85 135:86 136:87 137:88 138:89 139:90 140:91 141:92 142:93 143:93 144:94 145:95 146:96 147:97 148:98 149:99 150:100 151:101 152:102 153:103 154:103 155:104 156:105 157:106 158:107 159:108 160:109 161:110 162:111 163:112 164:112\n"
     ]
    },
    {
     "name": "stdout",
     "output_type": "stream",
     "text": [
      "INFO:tensorflow:token_is_max_context: 9:True 10:True 11:True 12:True 13:True 14:True 15:True 16:True 17:True 18:True 19:True 20:True 21:True 22:True 23:True 24:True 25:True 26:True 27:True 28:True 29:True 30:True 31:True 32:True 33:True 34:True 35:True 36:True 37:True 38:True 39:True 40:True 41:True 42:True 43:True 44:True 45:True 46:True 47:True 48:True 49:True 50:True 51:True 52:True 53:True 54:True 55:True 56:True 57:True 58:True 59:True 60:True 61:True 62:True 63:True 64:True 65:True 66:True 67:True 68:True 69:True 70:True 71:True 72:True 73:True 74:True 75:True 76:True 77:True 78:True 79:True 80:True 81:True 82:True 83:True 84:True 85:True 86:True 87:True 88:True 89:True 90:True 91:True 92:True 93:True 94:True 95:True 96:True 97:True 98:True 99:True 100:True 101:True 102:True 103:True 104:True 105:True 106:True 107:True 108:True 109:True 110:True 111:True 112:True 113:True 114:True 115:True 116:True 117:True 118:True 119:True 120:True 121:True 122:True 123:True 124:True 125:True 126:True 127:True 128:True 129:True 130:True 131:True 132:True 133:True 134:True 135:True 136:True 137:True 138:True 139:True 140:True 141:True 142:True 143:True 144:True 145:True 146:True 147:True 148:True 149:True 150:True 151:True 152:True 153:True 154:True 155:True 156:True 157:True 158:True 159:True 160:True 161:True 162:True 163:True 164:True\n"
     ]
    },
    {
     "name": "stderr",
     "output_type": "stream",
     "text": [
      "I0502 03:25:53.311948 139747718563584 tf_logging.py:115] token_is_max_context: 9:True 10:True 11:True 12:True 13:True 14:True 15:True 16:True 17:True 18:True 19:True 20:True 21:True 22:True 23:True 24:True 25:True 26:True 27:True 28:True 29:True 30:True 31:True 32:True 33:True 34:True 35:True 36:True 37:True 38:True 39:True 40:True 41:True 42:True 43:True 44:True 45:True 46:True 47:True 48:True 49:True 50:True 51:True 52:True 53:True 54:True 55:True 56:True 57:True 58:True 59:True 60:True 61:True 62:True 63:True 64:True 65:True 66:True 67:True 68:True 69:True 70:True 71:True 72:True 73:True 74:True 75:True 76:True 77:True 78:True 79:True 80:True 81:True 82:True 83:True 84:True 85:True 86:True 87:True 88:True 89:True 90:True 91:True 92:True 93:True 94:True 95:True 96:True 97:True 98:True 99:True 100:True 101:True 102:True 103:True 104:True 105:True 106:True 107:True 108:True 109:True 110:True 111:True 112:True 113:True 114:True 115:True 116:True 117:True 118:True 119:True 120:True 121:True 122:True 123:True 124:True 125:True 126:True 127:True 128:True 129:True 130:True 131:True 132:True 133:True 134:True 135:True 136:True 137:True 138:True 139:True 140:True 141:True 142:True 143:True 144:True 145:True 146:True 147:True 148:True 149:True 150:True 151:True 152:True 153:True 154:True 155:True 156:True 157:True 158:True 159:True 160:True 161:True 162:True 163:True 164:True\n"
     ]
    },
    {
     "name": "stdout",
     "output_type": "stream",
     "text": [
      "INFO:tensorflow:input_ids: 101 1999 2054 2406 2003 13298 2284 1029 102 1996 5879 2015 1006 5879 1024 2053 3126 2386 5104 1025 2413 1024 5879 5104 1025 3763 1024 5879 3490 1007 2020 1996 2111 2040 1999 1996 6049 1998 6252 4693 2435 2037 2171 2000 13298 1010 1037 2555 1999 2605 1012 2027 2020 9287 2013 15342 1006 1000 5879 1000 3310 2013 1000 15342 2386 1000 1007 10642 1998 8350 2013 5842 1010 10399 1998 5120 2040 1010 2104 2037 3003 4897 2080 1010 3530 2000 8415 10768 2389 3723 2000 2332 2798 3523 1997 2225 23151 7405 1012 2083 8213 1997 27574 1998 6809 2007 1996 3128 26165 1998 3142 1011 26522 4509 7080 1010 2037 8481 2052 6360 13590 2007 1996 8594 2075 2937 1011 2241 8578 1997 2225 23151 7405 1012 1996 5664 3451 1998 5636 4767 1997 1996 5879 2015 6003 3322 1999 1996 2034 2431 1997 1996 6049 2301 1010 1998 2009 2506 2000 19852 2058 1996 13034 4693 1012 102 0 0 0 0 0 0 0 0 0 0 0 0 0 0 0 0 0 0 0 0 0 0 0 0 0 0 0 0 0 0 0 0 0 0 0 0 0 0 0 0 0 0 0 0 0 0 0 0 0 0 0 0 0 0 0 0 0 0 0 0 0 0 0 0 0 0 0 0 0 0 0 0 0 0 0 0 0 0 0 0 0 0 0 0 0 0 0 0 0 0 0 0 0 0 0 0 0 0 0 0 0 0 0 0 0 0 0 0 0 0 0 0 0 0 0 0 0 0 0 0 0 0 0 0 0 0 0 0 0 0 0 0 0 0 0 0 0 0 0 0 0 0 0 0 0 0 0 0 0 0 0 0 0 0 0 0 0 0 0 0 0 0 0 0 0 0 0 0 0 0 0 0 0 0 0 0 0 0 0 0 0 0 0 0 0 0 0 0 0 0 0 0 0 0 0 0 0 0 0 0 0 0 0 0 0 0 0 0 0 0 0 0 0 0 0 0 0 0\n"
     ]
    },
    {
     "name": "stderr",
     "output_type": "stream",
     "text": [
      "I0502 03:25:53.313580 139747718563584 tf_logging.py:115] input_ids: 101 1999 2054 2406 2003 13298 2284 1029 102 1996 5879 2015 1006 5879 1024 2053 3126 2386 5104 1025 2413 1024 5879 5104 1025 3763 1024 5879 3490 1007 2020 1996 2111 2040 1999 1996 6049 1998 6252 4693 2435 2037 2171 2000 13298 1010 1037 2555 1999 2605 1012 2027 2020 9287 2013 15342 1006 1000 5879 1000 3310 2013 1000 15342 2386 1000 1007 10642 1998 8350 2013 5842 1010 10399 1998 5120 2040 1010 2104 2037 3003 4897 2080 1010 3530 2000 8415 10768 2389 3723 2000 2332 2798 3523 1997 2225 23151 7405 1012 2083 8213 1997 27574 1998 6809 2007 1996 3128 26165 1998 3142 1011 26522 4509 7080 1010 2037 8481 2052 6360 13590 2007 1996 8594 2075 2937 1011 2241 8578 1997 2225 23151 7405 1012 1996 5664 3451 1998 5636 4767 1997 1996 5879 2015 6003 3322 1999 1996 2034 2431 1997 1996 6049 2301 1010 1998 2009 2506 2000 19852 2058 1996 13034 4693 1012 102 0 0 0 0 0 0 0 0 0 0 0 0 0 0 0 0 0 0 0 0 0 0 0 0 0 0 0 0 0 0 0 0 0 0 0 0 0 0 0 0 0 0 0 0 0 0 0 0 0 0 0 0 0 0 0 0 0 0 0 0 0 0 0 0 0 0 0 0 0 0 0 0 0 0 0 0 0 0 0 0 0 0 0 0 0 0 0 0 0 0 0 0 0 0 0 0 0 0 0 0 0 0 0 0 0 0 0 0 0 0 0 0 0 0 0 0 0 0 0 0 0 0 0 0 0 0 0 0 0 0 0 0 0 0 0 0 0 0 0 0 0 0 0 0 0 0 0 0 0 0 0 0 0 0 0 0 0 0 0 0 0 0 0 0 0 0 0 0 0 0 0 0 0 0 0 0 0 0 0 0 0 0 0 0 0 0 0 0 0 0 0 0 0 0 0 0 0 0 0 0 0 0 0 0 0 0 0 0 0 0 0 0 0 0 0 0 0 0\n"
     ]
    },
    {
     "name": "stdout",
     "output_type": "stream",
     "text": [
      "INFO:tensorflow:input_mask: 1 1 1 1 1 1 1 1 1 1 1 1 1 1 1 1 1 1 1 1 1 1 1 1 1 1 1 1 1 1 1 1 1 1 1 1 1 1 1 1 1 1 1 1 1 1 1 1 1 1 1 1 1 1 1 1 1 1 1 1 1 1 1 1 1 1 1 1 1 1 1 1 1 1 1 1 1 1 1 1 1 1 1 1 1 1 1 1 1 1 1 1 1 1 1 1 1 1 1 1 1 1 1 1 1 1 1 1 1 1 1 1 1 1 1 1 1 1 1 1 1 1 1 1 1 1 1 1 1 1 1 1 1 1 1 1 1 1 1 1 1 1 1 1 1 1 1 1 1 1 1 1 1 1 1 1 1 1 1 1 1 1 1 1 1 1 0 0 0 0 0 0 0 0 0 0 0 0 0 0 0 0 0 0 0 0 0 0 0 0 0 0 0 0 0 0 0 0 0 0 0 0 0 0 0 0 0 0 0 0 0 0 0 0 0 0 0 0 0 0 0 0 0 0 0 0 0 0 0 0 0 0 0 0 0 0 0 0 0 0 0 0 0 0 0 0 0 0 0 0 0 0 0 0 0 0 0 0 0 0 0 0 0 0 0 0 0 0 0 0 0 0 0 0 0 0 0 0 0 0 0 0 0 0 0 0 0 0 0 0 0 0 0 0 0 0 0 0 0 0 0 0 0 0 0 0 0 0 0 0 0 0 0 0 0 0 0 0 0 0 0 0 0 0 0 0 0 0 0 0 0 0 0 0 0 0 0 0 0 0 0 0 0 0 0 0 0 0 0 0 0 0 0 0 0 0 0 0 0 0 0 0 0 0 0 0 0 0 0 0 0 0 0 0 0 0 0 0 0 0 0 0 0 0\n"
     ]
    },
    {
     "name": "stderr",
     "output_type": "stream",
     "text": [
      "I0502 03:25:53.315068 139747718563584 tf_logging.py:115] input_mask: 1 1 1 1 1 1 1 1 1 1 1 1 1 1 1 1 1 1 1 1 1 1 1 1 1 1 1 1 1 1 1 1 1 1 1 1 1 1 1 1 1 1 1 1 1 1 1 1 1 1 1 1 1 1 1 1 1 1 1 1 1 1 1 1 1 1 1 1 1 1 1 1 1 1 1 1 1 1 1 1 1 1 1 1 1 1 1 1 1 1 1 1 1 1 1 1 1 1 1 1 1 1 1 1 1 1 1 1 1 1 1 1 1 1 1 1 1 1 1 1 1 1 1 1 1 1 1 1 1 1 1 1 1 1 1 1 1 1 1 1 1 1 1 1 1 1 1 1 1 1 1 1 1 1 1 1 1 1 1 1 1 1 1 1 1 1 0 0 0 0 0 0 0 0 0 0 0 0 0 0 0 0 0 0 0 0 0 0 0 0 0 0 0 0 0 0 0 0 0 0 0 0 0 0 0 0 0 0 0 0 0 0 0 0 0 0 0 0 0 0 0 0 0 0 0 0 0 0 0 0 0 0 0 0 0 0 0 0 0 0 0 0 0 0 0 0 0 0 0 0 0 0 0 0 0 0 0 0 0 0 0 0 0 0 0 0 0 0 0 0 0 0 0 0 0 0 0 0 0 0 0 0 0 0 0 0 0 0 0 0 0 0 0 0 0 0 0 0 0 0 0 0 0 0 0 0 0 0 0 0 0 0 0 0 0 0 0 0 0 0 0 0 0 0 0 0 0 0 0 0 0 0 0 0 0 0 0 0 0 0 0 0 0 0 0 0 0 0 0 0 0 0 0 0 0 0 0 0 0 0 0 0 0 0 0 0 0 0 0 0 0 0 0 0 0 0 0 0 0 0 0 0 0 0\n"
     ]
    },
    {
     "name": "stdout",
     "output_type": "stream",
     "text": [
      "INFO:tensorflow:segment_ids: 0 0 0 0 0 0 0 0 0 1 1 1 1 1 1 1 1 1 1 1 1 1 1 1 1 1 1 1 1 1 1 1 1 1 1 1 1 1 1 1 1 1 1 1 1 1 1 1 1 1 1 1 1 1 1 1 1 1 1 1 1 1 1 1 1 1 1 1 1 1 1 1 1 1 1 1 1 1 1 1 1 1 1 1 1 1 1 1 1 1 1 1 1 1 1 1 1 1 1 1 1 1 1 1 1 1 1 1 1 1 1 1 1 1 1 1 1 1 1 1 1 1 1 1 1 1 1 1 1 1 1 1 1 1 1 1 1 1 1 1 1 1 1 1 1 1 1 1 1 1 1 1 1 1 1 1 1 1 1 1 1 1 1 1 1 1 0 0 0 0 0 0 0 0 0 0 0 0 0 0 0 0 0 0 0 0 0 0 0 0 0 0 0 0 0 0 0 0 0 0 0 0 0 0 0 0 0 0 0 0 0 0 0 0 0 0 0 0 0 0 0 0 0 0 0 0 0 0 0 0 0 0 0 0 0 0 0 0 0 0 0 0 0 0 0 0 0 0 0 0 0 0 0 0 0 0 0 0 0 0 0 0 0 0 0 0 0 0 0 0 0 0 0 0 0 0 0 0 0 0 0 0 0 0 0 0 0 0 0 0 0 0 0 0 0 0 0 0 0 0 0 0 0 0 0 0 0 0 0 0 0 0 0 0 0 0 0 0 0 0 0 0 0 0 0 0 0 0 0 0 0 0 0 0 0 0 0 0 0 0 0 0 0 0 0 0 0 0 0 0 0 0 0 0 0 0 0 0 0 0 0 0 0 0 0 0 0 0 0 0 0 0 0 0 0 0 0 0 0 0 0 0 0 0\n"
     ]
    },
    {
     "name": "stderr",
     "output_type": "stream",
     "text": [
      "I0502 03:25:53.316509 139747718563584 tf_logging.py:115] segment_ids: 0 0 0 0 0 0 0 0 0 1 1 1 1 1 1 1 1 1 1 1 1 1 1 1 1 1 1 1 1 1 1 1 1 1 1 1 1 1 1 1 1 1 1 1 1 1 1 1 1 1 1 1 1 1 1 1 1 1 1 1 1 1 1 1 1 1 1 1 1 1 1 1 1 1 1 1 1 1 1 1 1 1 1 1 1 1 1 1 1 1 1 1 1 1 1 1 1 1 1 1 1 1 1 1 1 1 1 1 1 1 1 1 1 1 1 1 1 1 1 1 1 1 1 1 1 1 1 1 1 1 1 1 1 1 1 1 1 1 1 1 1 1 1 1 1 1 1 1 1 1 1 1 1 1 1 1 1 1 1 1 1 1 1 1 1 1 0 0 0 0 0 0 0 0 0 0 0 0 0 0 0 0 0 0 0 0 0 0 0 0 0 0 0 0 0 0 0 0 0 0 0 0 0 0 0 0 0 0 0 0 0 0 0 0 0 0 0 0 0 0 0 0 0 0 0 0 0 0 0 0 0 0 0 0 0 0 0 0 0 0 0 0 0 0 0 0 0 0 0 0 0 0 0 0 0 0 0 0 0 0 0 0 0 0 0 0 0 0 0 0 0 0 0 0 0 0 0 0 0 0 0 0 0 0 0 0 0 0 0 0 0 0 0 0 0 0 0 0 0 0 0 0 0 0 0 0 0 0 0 0 0 0 0 0 0 0 0 0 0 0 0 0 0 0 0 0 0 0 0 0 0 0 0 0 0 0 0 0 0 0 0 0 0 0 0 0 0 0 0 0 0 0 0 0 0 0 0 0 0 0 0 0 0 0 0 0 0 0 0 0 0 0 0 0 0 0 0 0 0 0 0 0 0 0\n"
     ]
    }
   ],
   "source": [
    "convert_examples_to_features(\n",
    "    examples=eval_examples,\n",
    "    tokenizer=tokenizer,\n",
    "    max_seq_length=384,\n",
    "    doc_stride=128,\n",
    "    max_query_length=64,\n",
    "    is_training=False,\n",
    "    output_fn=append_feature)"
   ]
  },
  {
   "cell_type": "code",
   "execution_count": 74,
   "metadata": {},
   "outputs": [
    {
     "name": "stdout",
     "output_type": "stream",
     "text": [
      "INFO:tensorflow:***** Running predictions *****\n"
     ]
    },
    {
     "name": "stderr",
     "output_type": "stream",
     "text": [
      "I0502 03:26:21.244773 139747718563584 tf_logging.py:115] ***** Running predictions *****\n"
     ]
    },
    {
     "name": "stdout",
     "output_type": "stream",
     "text": [
      "INFO:tensorflow:  Num orig examples = 1\n"
     ]
    },
    {
     "name": "stderr",
     "output_type": "stream",
     "text": [
      "I0502 03:26:21.246729 139747718563584 tf_logging.py:115]   Num orig examples = 1\n"
     ]
    },
    {
     "name": "stdout",
     "output_type": "stream",
     "text": [
      "INFO:tensorflow:  Num split examples = 1\n"
     ]
    },
    {
     "name": "stderr",
     "output_type": "stream",
     "text": [
      "I0502 03:26:21.248294 139747718563584 tf_logging.py:115]   Num split examples = 1\n"
     ]
    },
    {
     "name": "stdout",
     "output_type": "stream",
     "text": [
      "INFO:tensorflow:  Batch size = 8\n"
     ]
    },
    {
     "name": "stderr",
     "output_type": "stream",
     "text": [
      "I0502 03:26:21.249651 139747718563584 tf_logging.py:115]   Batch size = 8\n"
     ]
    }
   ],
   "source": [
    "tf.logging.info(\"***** Running predictions *****\")\n",
    "tf.logging.info(\"  Num orig examples = %d\", len(eval_examples))\n",
    "tf.logging.info(\"  Num split examples = %d\", len(eval_features))\n",
    "tf.logging.info(\"  Batch size = %d\", 8)"
   ]
  },
  {
   "cell_type": "code",
   "execution_count": 75,
   "metadata": {},
   "outputs": [
    {
     "name": "stdout",
     "output_type": "stream",
     "text": [
      "squad/output/oneoff/eval.tf_record\n"
     ]
    }
   ],
   "source": [
    "print (eval_writer.filename)"
   ]
  },
  {
   "cell_type": "code",
   "execution_count": 76,
   "metadata": {},
   "outputs": [],
   "source": [
    "all_results = []\n",
    "\n",
    "predict_input_fn = input_fn_builder(\n",
    "    input_file=eval_writer.filename,\n",
    "    seq_length=384,\n",
    "    is_training=False,\n",
    "    drop_remainder=False)"
   ]
  },
  {
   "cell_type": "code",
   "execution_count": 77,
   "metadata": {},
   "outputs": [
    {
     "name": "stdout",
     "output_type": "stream",
     "text": [
      "INFO:tensorflow:Could not find trained model in model_dir: squad/output/oneoff, running initialization to predict.\n"
     ]
    },
    {
     "name": "stderr",
     "output_type": "stream",
     "text": [
      "I0502 03:27:14.005700 139747718563584 tf_logging.py:115] Could not find trained model in model_dir: squad/output/oneoff, running initialization to predict.\n"
     ]
    },
    {
     "name": "stdout",
     "output_type": "stream",
     "text": [
      "INFO:tensorflow:Calling model_fn.\n"
     ]
    },
    {
     "name": "stderr",
     "output_type": "stream",
     "text": [
      "I0502 03:27:14.038941 139747718563584 tf_logging.py:115] Calling model_fn.\n"
     ]
    },
    {
     "name": "stdout",
     "output_type": "stream",
     "text": [
      "INFO:tensorflow:Running infer on CPU\n"
     ]
    },
    {
     "name": "stderr",
     "output_type": "stream",
     "text": [
      "I0502 03:27:14.040457 139747718563584 tf_logging.py:115] Running infer on CPU\n"
     ]
    },
    {
     "name": "stdout",
     "output_type": "stream",
     "text": [
      "INFO:tensorflow:*** Features ***\n"
     ]
    },
    {
     "name": "stderr",
     "output_type": "stream",
     "text": [
      "I0502 03:27:14.042162 139747718563584 tf_logging.py:115] *** Features ***\n"
     ]
    },
    {
     "name": "stdout",
     "output_type": "stream",
     "text": [
      "INFO:tensorflow:  name = input_ids, shape = (?, 384)\n"
     ]
    },
    {
     "name": "stderr",
     "output_type": "stream",
     "text": [
      "I0502 03:27:14.046264 139747718563584 tf_logging.py:115]   name = input_ids, shape = (?, 384)\n"
     ]
    },
    {
     "name": "stdout",
     "output_type": "stream",
     "text": [
      "INFO:tensorflow:  name = input_mask, shape = (?, 384)\n"
     ]
    },
    {
     "name": "stderr",
     "output_type": "stream",
     "text": [
      "I0502 03:27:14.047474 139747718563584 tf_logging.py:115]   name = input_mask, shape = (?, 384)\n"
     ]
    },
    {
     "name": "stdout",
     "output_type": "stream",
     "text": [
      "INFO:tensorflow:  name = segment_ids, shape = (?, 384)\n"
     ]
    },
    {
     "name": "stderr",
     "output_type": "stream",
     "text": [
      "I0502 03:27:14.048816 139747718563584 tf_logging.py:115]   name = segment_ids, shape = (?, 384)\n"
     ]
    },
    {
     "name": "stdout",
     "output_type": "stream",
     "text": [
      "INFO:tensorflow:  name = unique_ids, shape = (?,)\n"
     ]
    },
    {
     "name": "stderr",
     "output_type": "stream",
     "text": [
      "I0502 03:27:14.050071 139747718563584 tf_logging.py:115]   name = unique_ids, shape = (?,)\n"
     ]
    },
    {
     "name": "stdout",
     "output_type": "stream",
     "text": [
      "INFO:tensorflow:Initialize variable bert/embeddings/LayerNorm/beta:0 from checkpoint squad/output/jupyter/model.ckpt-21719 with bert/embeddings/LayerNorm/beta\n"
     ]
    },
    {
     "name": "stderr",
     "output_type": "stream",
     "text": [
      "I0502 03:27:16.143059 139747718563584 tf_logging.py:115] Initialize variable bert/embeddings/LayerNorm/beta:0 from checkpoint squad/output/jupyter/model.ckpt-21719 with bert/embeddings/LayerNorm/beta\n"
     ]
    },
    {
     "name": "stdout",
     "output_type": "stream",
     "text": [
      "INFO:tensorflow:Initialize variable bert/embeddings/LayerNorm/gamma:0 from checkpoint squad/output/jupyter/model.ckpt-21719 with bert/embeddings/LayerNorm/gamma\n"
     ]
    },
    {
     "name": "stderr",
     "output_type": "stream",
     "text": [
      "I0502 03:27:16.147766 139747718563584 tf_logging.py:115] Initialize variable bert/embeddings/LayerNorm/gamma:0 from checkpoint squad/output/jupyter/model.ckpt-21719 with bert/embeddings/LayerNorm/gamma\n"
     ]
    },
    {
     "name": "stdout",
     "output_type": "stream",
     "text": [
      "INFO:tensorflow:Initialize variable bert/embeddings/position_embeddings:0 from checkpoint squad/output/jupyter/model.ckpt-21719 with bert/embeddings/position_embeddings\n"
     ]
    },
    {
     "name": "stderr",
     "output_type": "stream",
     "text": [
      "I0502 03:27:16.152013 139747718563584 tf_logging.py:115] Initialize variable bert/embeddings/position_embeddings:0 from checkpoint squad/output/jupyter/model.ckpt-21719 with bert/embeddings/position_embeddings\n"
     ]
    },
    {
     "name": "stdout",
     "output_type": "stream",
     "text": [
      "INFO:tensorflow:Initialize variable bert/embeddings/token_type_embeddings:0 from checkpoint squad/output/jupyter/model.ckpt-21719 with bert/embeddings/token_type_embeddings\n"
     ]
    },
    {
     "name": "stderr",
     "output_type": "stream",
     "text": [
      "I0502 03:27:16.156291 139747718563584 tf_logging.py:115] Initialize variable bert/embeddings/token_type_embeddings:0 from checkpoint squad/output/jupyter/model.ckpt-21719 with bert/embeddings/token_type_embeddings\n"
     ]
    },
    {
     "name": "stdout",
     "output_type": "stream",
     "text": [
      "INFO:tensorflow:Initialize variable bert/embeddings/word_embeddings:0 from checkpoint squad/output/jupyter/model.ckpt-21719 with bert/embeddings/word_embeddings\n"
     ]
    },
    {
     "name": "stderr",
     "output_type": "stream",
     "text": [
      "I0502 03:27:16.160841 139747718563584 tf_logging.py:115] Initialize variable bert/embeddings/word_embeddings:0 from checkpoint squad/output/jupyter/model.ckpt-21719 with bert/embeddings/word_embeddings\n"
     ]
    },
    {
     "name": "stdout",
     "output_type": "stream",
     "text": [
      "INFO:tensorflow:Initialize variable bert/encoder/layer_0/attention/output/LayerNorm/beta:0 from checkpoint squad/output/jupyter/model.ckpt-21719 with bert/encoder/layer_0/attention/output/LayerNorm/beta\n"
     ]
    },
    {
     "name": "stderr",
     "output_type": "stream",
     "text": [
      "I0502 03:27:16.165093 139747718563584 tf_logging.py:115] Initialize variable bert/encoder/layer_0/attention/output/LayerNorm/beta:0 from checkpoint squad/output/jupyter/model.ckpt-21719 with bert/encoder/layer_0/attention/output/LayerNorm/beta\n"
     ]
    },
    {
     "name": "stdout",
     "output_type": "stream",
     "text": [
      "INFO:tensorflow:Initialize variable bert/encoder/layer_0/attention/output/LayerNorm/gamma:0 from checkpoint squad/output/jupyter/model.ckpt-21719 with bert/encoder/layer_0/attention/output/LayerNorm/gamma\n"
     ]
    },
    {
     "name": "stderr",
     "output_type": "stream",
     "text": [
      "I0502 03:27:16.169821 139747718563584 tf_logging.py:115] Initialize variable bert/encoder/layer_0/attention/output/LayerNorm/gamma:0 from checkpoint squad/output/jupyter/model.ckpt-21719 with bert/encoder/layer_0/attention/output/LayerNorm/gamma\n"
     ]
    },
    {
     "name": "stdout",
     "output_type": "stream",
     "text": [
      "INFO:tensorflow:Initialize variable bert/encoder/layer_0/attention/output/dense/bias:0 from checkpoint squad/output/jupyter/model.ckpt-21719 with bert/encoder/layer_0/attention/output/dense/bias\n"
     ]
    },
    {
     "name": "stderr",
     "output_type": "stream",
     "text": [
      "I0502 03:27:16.173987 139747718563584 tf_logging.py:115] Initialize variable bert/encoder/layer_0/attention/output/dense/bias:0 from checkpoint squad/output/jupyter/model.ckpt-21719 with bert/encoder/layer_0/attention/output/dense/bias\n"
     ]
    },
    {
     "name": "stdout",
     "output_type": "stream",
     "text": [
      "INFO:tensorflow:Initialize variable bert/encoder/layer_0/attention/output/dense/kernel:0 from checkpoint squad/output/jupyter/model.ckpt-21719 with bert/encoder/layer_0/attention/output/dense/kernel\n"
     ]
    },
    {
     "name": "stderr",
     "output_type": "stream",
     "text": [
      "I0502 03:27:16.178199 139747718563584 tf_logging.py:115] Initialize variable bert/encoder/layer_0/attention/output/dense/kernel:0 from checkpoint squad/output/jupyter/model.ckpt-21719 with bert/encoder/layer_0/attention/output/dense/kernel\n"
     ]
    },
    {
     "name": "stdout",
     "output_type": "stream",
     "text": [
      "INFO:tensorflow:Initialize variable bert/encoder/layer_0/attention/self/key/bias:0 from checkpoint squad/output/jupyter/model.ckpt-21719 with bert/encoder/layer_0/attention/self/key/bias\n"
     ]
    },
    {
     "name": "stderr",
     "output_type": "stream",
     "text": [
      "I0502 03:27:16.280590 139747718563584 tf_logging.py:115] Initialize variable bert/encoder/layer_0/attention/self/key/bias:0 from checkpoint squad/output/jupyter/model.ckpt-21719 with bert/encoder/layer_0/attention/self/key/bias\n"
     ]
    },
    {
     "name": "stdout",
     "output_type": "stream",
     "text": [
      "INFO:tensorflow:Initialize variable bert/encoder/layer_0/attention/self/key/kernel:0 from checkpoint squad/output/jupyter/model.ckpt-21719 with bert/encoder/layer_0/attention/self/key/kernel\n"
     ]
    },
    {
     "name": "stderr",
     "output_type": "stream",
     "text": [
      "I0502 03:27:16.284964 139747718563584 tf_logging.py:115] Initialize variable bert/encoder/layer_0/attention/self/key/kernel:0 from checkpoint squad/output/jupyter/model.ckpt-21719 with bert/encoder/layer_0/attention/self/key/kernel\n"
     ]
    },
    {
     "name": "stdout",
     "output_type": "stream",
     "text": [
      "INFO:tensorflow:Initialize variable bert/encoder/layer_0/attention/self/query/bias:0 from checkpoint squad/output/jupyter/model.ckpt-21719 with bert/encoder/layer_0/attention/self/query/bias\n"
     ]
    },
    {
     "name": "stderr",
     "output_type": "stream",
     "text": [
      "I0502 03:27:16.289183 139747718563584 tf_logging.py:115] Initialize variable bert/encoder/layer_0/attention/self/query/bias:0 from checkpoint squad/output/jupyter/model.ckpt-21719 with bert/encoder/layer_0/attention/self/query/bias\n"
     ]
    },
    {
     "name": "stdout",
     "output_type": "stream",
     "text": [
      "INFO:tensorflow:Initialize variable bert/encoder/layer_0/attention/self/query/kernel:0 from checkpoint squad/output/jupyter/model.ckpt-21719 with bert/encoder/layer_0/attention/self/query/kernel\n"
     ]
    },
    {
     "name": "stderr",
     "output_type": "stream",
     "text": [
      "I0502 03:27:16.293531 139747718563584 tf_logging.py:115] Initialize variable bert/encoder/layer_0/attention/self/query/kernel:0 from checkpoint squad/output/jupyter/model.ckpt-21719 with bert/encoder/layer_0/attention/self/query/kernel\n"
     ]
    },
    {
     "name": "stdout",
     "output_type": "stream",
     "text": [
      "INFO:tensorflow:Initialize variable bert/encoder/layer_0/attention/self/value/bias:0 from checkpoint squad/output/jupyter/model.ckpt-21719 with bert/encoder/layer_0/attention/self/value/bias\n"
     ]
    },
    {
     "name": "stderr",
     "output_type": "stream",
     "text": [
      "I0502 03:27:16.297755 139747718563584 tf_logging.py:115] Initialize variable bert/encoder/layer_0/attention/self/value/bias:0 from checkpoint squad/output/jupyter/model.ckpt-21719 with bert/encoder/layer_0/attention/self/value/bias\n"
     ]
    },
    {
     "name": "stdout",
     "output_type": "stream",
     "text": [
      "INFO:tensorflow:Initialize variable bert/encoder/layer_0/attention/self/value/kernel:0 from checkpoint squad/output/jupyter/model.ckpt-21719 with bert/encoder/layer_0/attention/self/value/kernel\n"
     ]
    },
    {
     "name": "stderr",
     "output_type": "stream",
     "text": [
      "I0502 03:27:16.301915 139747718563584 tf_logging.py:115] Initialize variable bert/encoder/layer_0/attention/self/value/kernel:0 from checkpoint squad/output/jupyter/model.ckpt-21719 with bert/encoder/layer_0/attention/self/value/kernel\n"
     ]
    },
    {
     "name": "stdout",
     "output_type": "stream",
     "text": [
      "INFO:tensorflow:Initialize variable bert/encoder/layer_0/intermediate/dense/bias:0 from checkpoint squad/output/jupyter/model.ckpt-21719 with bert/encoder/layer_0/intermediate/dense/bias\n"
     ]
    },
    {
     "name": "stderr",
     "output_type": "stream",
     "text": [
      "I0502 03:27:16.306065 139747718563584 tf_logging.py:115] Initialize variable bert/encoder/layer_0/intermediate/dense/bias:0 from checkpoint squad/output/jupyter/model.ckpt-21719 with bert/encoder/layer_0/intermediate/dense/bias\n"
     ]
    },
    {
     "name": "stdout",
     "output_type": "stream",
     "text": [
      "INFO:tensorflow:Initialize variable bert/encoder/layer_0/intermediate/dense/kernel:0 from checkpoint squad/output/jupyter/model.ckpt-21719 with bert/encoder/layer_0/intermediate/dense/kernel\n"
     ]
    },
    {
     "name": "stderr",
     "output_type": "stream",
     "text": [
      "I0502 03:27:16.310292 139747718563584 tf_logging.py:115] Initialize variable bert/encoder/layer_0/intermediate/dense/kernel:0 from checkpoint squad/output/jupyter/model.ckpt-21719 with bert/encoder/layer_0/intermediate/dense/kernel\n"
     ]
    },
    {
     "name": "stdout",
     "output_type": "stream",
     "text": [
      "INFO:tensorflow:Initialize variable bert/encoder/layer_0/output/LayerNorm/beta:0 from checkpoint squad/output/jupyter/model.ckpt-21719 with bert/encoder/layer_0/output/LayerNorm/beta\n"
     ]
    },
    {
     "name": "stderr",
     "output_type": "stream",
     "text": [
      "I0502 03:27:16.314465 139747718563584 tf_logging.py:115] Initialize variable bert/encoder/layer_0/output/LayerNorm/beta:0 from checkpoint squad/output/jupyter/model.ckpt-21719 with bert/encoder/layer_0/output/LayerNorm/beta\n"
     ]
    },
    {
     "name": "stdout",
     "output_type": "stream",
     "text": [
      "INFO:tensorflow:Initialize variable bert/encoder/layer_0/output/LayerNorm/gamma:0 from checkpoint squad/output/jupyter/model.ckpt-21719 with bert/encoder/layer_0/output/LayerNorm/gamma\n"
     ]
    },
    {
     "name": "stderr",
     "output_type": "stream",
     "text": [
      "I0502 03:27:16.318822 139747718563584 tf_logging.py:115] Initialize variable bert/encoder/layer_0/output/LayerNorm/gamma:0 from checkpoint squad/output/jupyter/model.ckpt-21719 with bert/encoder/layer_0/output/LayerNorm/gamma\n"
     ]
    },
    {
     "name": "stdout",
     "output_type": "stream",
     "text": [
      "INFO:tensorflow:Initialize variable bert/encoder/layer_0/output/dense/bias:0 from checkpoint squad/output/jupyter/model.ckpt-21719 with bert/encoder/layer_0/output/dense/bias\n"
     ]
    },
    {
     "name": "stderr",
     "output_type": "stream",
     "text": [
      "I0502 03:27:16.322936 139747718563584 tf_logging.py:115] Initialize variable bert/encoder/layer_0/output/dense/bias:0 from checkpoint squad/output/jupyter/model.ckpt-21719 with bert/encoder/layer_0/output/dense/bias\n"
     ]
    },
    {
     "name": "stdout",
     "output_type": "stream",
     "text": [
      "INFO:tensorflow:Initialize variable bert/encoder/layer_0/output/dense/kernel:0 from checkpoint squad/output/jupyter/model.ckpt-21719 with bert/encoder/layer_0/output/dense/kernel\n"
     ]
    },
    {
     "name": "stderr",
     "output_type": "stream",
     "text": [
      "I0502 03:27:16.327174 139747718563584 tf_logging.py:115] Initialize variable bert/encoder/layer_0/output/dense/kernel:0 from checkpoint squad/output/jupyter/model.ckpt-21719 with bert/encoder/layer_0/output/dense/kernel\n"
     ]
    },
    {
     "name": "stdout",
     "output_type": "stream",
     "text": [
      "INFO:tensorflow:Initialize variable bert/encoder/layer_1/attention/output/LayerNorm/beta:0 from checkpoint squad/output/jupyter/model.ckpt-21719 with bert/encoder/layer_1/attention/output/LayerNorm/beta\n"
     ]
    },
    {
     "name": "stderr",
     "output_type": "stream",
     "text": [
      "I0502 03:27:16.331447 139747718563584 tf_logging.py:115] Initialize variable bert/encoder/layer_1/attention/output/LayerNorm/beta:0 from checkpoint squad/output/jupyter/model.ckpt-21719 with bert/encoder/layer_1/attention/output/LayerNorm/beta\n"
     ]
    },
    {
     "name": "stdout",
     "output_type": "stream",
     "text": [
      "INFO:tensorflow:Initialize variable bert/encoder/layer_1/attention/output/LayerNorm/gamma:0 from checkpoint squad/output/jupyter/model.ckpt-21719 with bert/encoder/layer_1/attention/output/LayerNorm/gamma\n"
     ]
    },
    {
     "name": "stderr",
     "output_type": "stream",
     "text": [
      "I0502 03:27:16.335671 139747718563584 tf_logging.py:115] Initialize variable bert/encoder/layer_1/attention/output/LayerNorm/gamma:0 from checkpoint squad/output/jupyter/model.ckpt-21719 with bert/encoder/layer_1/attention/output/LayerNorm/gamma\n"
     ]
    },
    {
     "name": "stdout",
     "output_type": "stream",
     "text": [
      "INFO:tensorflow:Initialize variable bert/encoder/layer_1/attention/output/dense/bias:0 from checkpoint squad/output/jupyter/model.ckpt-21719 with bert/encoder/layer_1/attention/output/dense/bias\n"
     ]
    },
    {
     "name": "stderr",
     "output_type": "stream",
     "text": [
      "I0502 03:27:16.339895 139747718563584 tf_logging.py:115] Initialize variable bert/encoder/layer_1/attention/output/dense/bias:0 from checkpoint squad/output/jupyter/model.ckpt-21719 with bert/encoder/layer_1/attention/output/dense/bias\n"
     ]
    },
    {
     "name": "stdout",
     "output_type": "stream",
     "text": [
      "INFO:tensorflow:Initialize variable bert/encoder/layer_1/attention/output/dense/kernel:0 from checkpoint squad/output/jupyter/model.ckpt-21719 with bert/encoder/layer_1/attention/output/dense/kernel\n"
     ]
    },
    {
     "name": "stderr",
     "output_type": "stream",
     "text": [
      "I0502 03:27:16.344112 139747718563584 tf_logging.py:115] Initialize variable bert/encoder/layer_1/attention/output/dense/kernel:0 from checkpoint squad/output/jupyter/model.ckpt-21719 with bert/encoder/layer_1/attention/output/dense/kernel\n"
     ]
    },
    {
     "name": "stdout",
     "output_type": "stream",
     "text": [
      "INFO:tensorflow:Initialize variable bert/encoder/layer_1/attention/self/key/bias:0 from checkpoint squad/output/jupyter/model.ckpt-21719 with bert/encoder/layer_1/attention/self/key/bias\n"
     ]
    },
    {
     "name": "stderr",
     "output_type": "stream",
     "text": [
      "I0502 03:27:16.348320 139747718563584 tf_logging.py:115] Initialize variable bert/encoder/layer_1/attention/self/key/bias:0 from checkpoint squad/output/jupyter/model.ckpt-21719 with bert/encoder/layer_1/attention/self/key/bias\n"
     ]
    },
    {
     "name": "stdout",
     "output_type": "stream",
     "text": [
      "INFO:tensorflow:Initialize variable bert/encoder/layer_1/attention/self/key/kernel:0 from checkpoint squad/output/jupyter/model.ckpt-21719 with bert/encoder/layer_1/attention/self/key/kernel\n"
     ]
    },
    {
     "name": "stderr",
     "output_type": "stream",
     "text": [
      "I0502 03:27:16.352471 139747718563584 tf_logging.py:115] Initialize variable bert/encoder/layer_1/attention/self/key/kernel:0 from checkpoint squad/output/jupyter/model.ckpt-21719 with bert/encoder/layer_1/attention/self/key/kernel\n"
     ]
    },
    {
     "name": "stdout",
     "output_type": "stream",
     "text": [
      "INFO:tensorflow:Initialize variable bert/encoder/layer_1/attention/self/query/bias:0 from checkpoint squad/output/jupyter/model.ckpt-21719 with bert/encoder/layer_1/attention/self/query/bias\n"
     ]
    },
    {
     "name": "stderr",
     "output_type": "stream",
     "text": [
      "I0502 03:27:16.356631 139747718563584 tf_logging.py:115] Initialize variable bert/encoder/layer_1/attention/self/query/bias:0 from checkpoint squad/output/jupyter/model.ckpt-21719 with bert/encoder/layer_1/attention/self/query/bias\n"
     ]
    },
    {
     "name": "stdout",
     "output_type": "stream",
     "text": [
      "INFO:tensorflow:Initialize variable bert/encoder/layer_1/attention/self/query/kernel:0 from checkpoint squad/output/jupyter/model.ckpt-21719 with bert/encoder/layer_1/attention/self/query/kernel\n"
     ]
    },
    {
     "name": "stderr",
     "output_type": "stream",
     "text": [
      "I0502 03:27:16.360895 139747718563584 tf_logging.py:115] Initialize variable bert/encoder/layer_1/attention/self/query/kernel:0 from checkpoint squad/output/jupyter/model.ckpt-21719 with bert/encoder/layer_1/attention/self/query/kernel\n"
     ]
    },
    {
     "name": "stdout",
     "output_type": "stream",
     "text": [
      "INFO:tensorflow:Initialize variable bert/encoder/layer_1/attention/self/value/bias:0 from checkpoint squad/output/jupyter/model.ckpt-21719 with bert/encoder/layer_1/attention/self/value/bias\n"
     ]
    },
    {
     "name": "stderr",
     "output_type": "stream",
     "text": [
      "I0502 03:27:16.365086 139747718563584 tf_logging.py:115] Initialize variable bert/encoder/layer_1/attention/self/value/bias:0 from checkpoint squad/output/jupyter/model.ckpt-21719 with bert/encoder/layer_1/attention/self/value/bias\n"
     ]
    },
    {
     "name": "stdout",
     "output_type": "stream",
     "text": [
      "INFO:tensorflow:Initialize variable bert/encoder/layer_1/attention/self/value/kernel:0 from checkpoint squad/output/jupyter/model.ckpt-21719 with bert/encoder/layer_1/attention/self/value/kernel\n"
     ]
    },
    {
     "name": "stderr",
     "output_type": "stream",
     "text": [
      "I0502 03:27:16.369435 139747718563584 tf_logging.py:115] Initialize variable bert/encoder/layer_1/attention/self/value/kernel:0 from checkpoint squad/output/jupyter/model.ckpt-21719 with bert/encoder/layer_1/attention/self/value/kernel\n"
     ]
    },
    {
     "name": "stdout",
     "output_type": "stream",
     "text": [
      "INFO:tensorflow:Initialize variable bert/encoder/layer_1/intermediate/dense/bias:0 from checkpoint squad/output/jupyter/model.ckpt-21719 with bert/encoder/layer_1/intermediate/dense/bias\n"
     ]
    },
    {
     "name": "stderr",
     "output_type": "stream",
     "text": [
      "I0502 03:27:16.373570 139747718563584 tf_logging.py:115] Initialize variable bert/encoder/layer_1/intermediate/dense/bias:0 from checkpoint squad/output/jupyter/model.ckpt-21719 with bert/encoder/layer_1/intermediate/dense/bias\n"
     ]
    },
    {
     "name": "stdout",
     "output_type": "stream",
     "text": [
      "INFO:tensorflow:Initialize variable bert/encoder/layer_1/intermediate/dense/kernel:0 from checkpoint squad/output/jupyter/model.ckpt-21719 with bert/encoder/layer_1/intermediate/dense/kernel\n"
     ]
    },
    {
     "name": "stderr",
     "output_type": "stream",
     "text": [
      "I0502 03:27:16.380267 139747718563584 tf_logging.py:115] Initialize variable bert/encoder/layer_1/intermediate/dense/kernel:0 from checkpoint squad/output/jupyter/model.ckpt-21719 with bert/encoder/layer_1/intermediate/dense/kernel\n"
     ]
    },
    {
     "name": "stdout",
     "output_type": "stream",
     "text": [
      "INFO:tensorflow:Initialize variable bert/encoder/layer_1/output/LayerNorm/beta:0 from checkpoint squad/output/jupyter/model.ckpt-21719 with bert/encoder/layer_1/output/LayerNorm/beta\n"
     ]
    },
    {
     "name": "stderr",
     "output_type": "stream",
     "text": [
      "I0502 03:27:16.384600 139747718563584 tf_logging.py:115] Initialize variable bert/encoder/layer_1/output/LayerNorm/beta:0 from checkpoint squad/output/jupyter/model.ckpt-21719 with bert/encoder/layer_1/output/LayerNorm/beta\n"
     ]
    },
    {
     "name": "stdout",
     "output_type": "stream",
     "text": [
      "INFO:tensorflow:Initialize variable bert/encoder/layer_1/output/LayerNorm/gamma:0 from checkpoint squad/output/jupyter/model.ckpt-21719 with bert/encoder/layer_1/output/LayerNorm/gamma\n"
     ]
    },
    {
     "name": "stderr",
     "output_type": "stream",
     "text": [
      "I0502 03:27:16.388586 139747718563584 tf_logging.py:115] Initialize variable bert/encoder/layer_1/output/LayerNorm/gamma:0 from checkpoint squad/output/jupyter/model.ckpt-21719 with bert/encoder/layer_1/output/LayerNorm/gamma\n"
     ]
    },
    {
     "name": "stdout",
     "output_type": "stream",
     "text": [
      "INFO:tensorflow:Initialize variable bert/encoder/layer_1/output/dense/bias:0 from checkpoint squad/output/jupyter/model.ckpt-21719 with bert/encoder/layer_1/output/dense/bias\n"
     ]
    },
    {
     "name": "stderr",
     "output_type": "stream",
     "text": [
      "I0502 03:27:16.392877 139747718563584 tf_logging.py:115] Initialize variable bert/encoder/layer_1/output/dense/bias:0 from checkpoint squad/output/jupyter/model.ckpt-21719 with bert/encoder/layer_1/output/dense/bias\n"
     ]
    },
    {
     "name": "stdout",
     "output_type": "stream",
     "text": [
      "INFO:tensorflow:Initialize variable bert/encoder/layer_1/output/dense/kernel:0 from checkpoint squad/output/jupyter/model.ckpt-21719 with bert/encoder/layer_1/output/dense/kernel\n"
     ]
    },
    {
     "name": "stderr",
     "output_type": "stream",
     "text": [
      "I0502 03:27:16.397022 139747718563584 tf_logging.py:115] Initialize variable bert/encoder/layer_1/output/dense/kernel:0 from checkpoint squad/output/jupyter/model.ckpt-21719 with bert/encoder/layer_1/output/dense/kernel\n"
     ]
    },
    {
     "name": "stdout",
     "output_type": "stream",
     "text": [
      "INFO:tensorflow:Initialize variable bert/encoder/layer_10/attention/output/LayerNorm/beta:0 from checkpoint squad/output/jupyter/model.ckpt-21719 with bert/encoder/layer_10/attention/output/LayerNorm/beta\n"
     ]
    },
    {
     "name": "stderr",
     "output_type": "stream",
     "text": [
      "I0502 03:27:16.401158 139747718563584 tf_logging.py:115] Initialize variable bert/encoder/layer_10/attention/output/LayerNorm/beta:0 from checkpoint squad/output/jupyter/model.ckpt-21719 with bert/encoder/layer_10/attention/output/LayerNorm/beta\n"
     ]
    },
    {
     "name": "stdout",
     "output_type": "stream",
     "text": [
      "INFO:tensorflow:Initialize variable bert/encoder/layer_10/attention/output/LayerNorm/gamma:0 from checkpoint squad/output/jupyter/model.ckpt-21719 with bert/encoder/layer_10/attention/output/LayerNorm/gamma\n"
     ]
    },
    {
     "name": "stderr",
     "output_type": "stream",
     "text": [
      "I0502 03:27:16.405914 139747718563584 tf_logging.py:115] Initialize variable bert/encoder/layer_10/attention/output/LayerNorm/gamma:0 from checkpoint squad/output/jupyter/model.ckpt-21719 with bert/encoder/layer_10/attention/output/LayerNorm/gamma\n"
     ]
    },
    {
     "name": "stdout",
     "output_type": "stream",
     "text": [
      "INFO:tensorflow:Initialize variable bert/encoder/layer_10/attention/output/dense/bias:0 from checkpoint squad/output/jupyter/model.ckpt-21719 with bert/encoder/layer_10/attention/output/dense/bias\n"
     ]
    },
    {
     "name": "stderr",
     "output_type": "stream",
     "text": [
      "I0502 03:27:16.410078 139747718563584 tf_logging.py:115] Initialize variable bert/encoder/layer_10/attention/output/dense/bias:0 from checkpoint squad/output/jupyter/model.ckpt-21719 with bert/encoder/layer_10/attention/output/dense/bias\n"
     ]
    },
    {
     "name": "stdout",
     "output_type": "stream",
     "text": [
      "INFO:tensorflow:Initialize variable bert/encoder/layer_10/attention/output/dense/kernel:0 from checkpoint squad/output/jupyter/model.ckpt-21719 with bert/encoder/layer_10/attention/output/dense/kernel\n"
     ]
    },
    {
     "name": "stderr",
     "output_type": "stream",
     "text": [
      "I0502 03:27:16.414444 139747718563584 tf_logging.py:115] Initialize variable bert/encoder/layer_10/attention/output/dense/kernel:0 from checkpoint squad/output/jupyter/model.ckpt-21719 with bert/encoder/layer_10/attention/output/dense/kernel\n"
     ]
    },
    {
     "name": "stdout",
     "output_type": "stream",
     "text": [
      "INFO:tensorflow:Initialize variable bert/encoder/layer_10/attention/self/key/bias:0 from checkpoint squad/output/jupyter/model.ckpt-21719 with bert/encoder/layer_10/attention/self/key/bias\n"
     ]
    },
    {
     "name": "stderr",
     "output_type": "stream",
     "text": [
      "I0502 03:27:16.418592 139747718563584 tf_logging.py:115] Initialize variable bert/encoder/layer_10/attention/self/key/bias:0 from checkpoint squad/output/jupyter/model.ckpt-21719 with bert/encoder/layer_10/attention/self/key/bias\n"
     ]
    },
    {
     "name": "stdout",
     "output_type": "stream",
     "text": [
      "INFO:tensorflow:Initialize variable bert/encoder/layer_10/attention/self/key/kernel:0 from checkpoint squad/output/jupyter/model.ckpt-21719 with bert/encoder/layer_10/attention/self/key/kernel\n"
     ]
    },
    {
     "name": "stderr",
     "output_type": "stream",
     "text": [
      "I0502 03:27:16.422885 139747718563584 tf_logging.py:115] Initialize variable bert/encoder/layer_10/attention/self/key/kernel:0 from checkpoint squad/output/jupyter/model.ckpt-21719 with bert/encoder/layer_10/attention/self/key/kernel\n"
     ]
    },
    {
     "name": "stdout",
     "output_type": "stream",
     "text": [
      "INFO:tensorflow:Initialize variable bert/encoder/layer_10/attention/self/query/bias:0 from checkpoint squad/output/jupyter/model.ckpt-21719 with bert/encoder/layer_10/attention/self/query/bias\n"
     ]
    },
    {
     "name": "stderr",
     "output_type": "stream",
     "text": [
      "I0502 03:27:16.427018 139747718563584 tf_logging.py:115] Initialize variable bert/encoder/layer_10/attention/self/query/bias:0 from checkpoint squad/output/jupyter/model.ckpt-21719 with bert/encoder/layer_10/attention/self/query/bias\n"
     ]
    },
    {
     "name": "stdout",
     "output_type": "stream",
     "text": [
      "INFO:tensorflow:Initialize variable bert/encoder/layer_10/attention/self/query/kernel:0 from checkpoint squad/output/jupyter/model.ckpt-21719 with bert/encoder/layer_10/attention/self/query/kernel\n"
     ]
    },
    {
     "name": "stderr",
     "output_type": "stream",
     "text": [
      "I0502 03:27:16.431148 139747718563584 tf_logging.py:115] Initialize variable bert/encoder/layer_10/attention/self/query/kernel:0 from checkpoint squad/output/jupyter/model.ckpt-21719 with bert/encoder/layer_10/attention/self/query/kernel\n"
     ]
    },
    {
     "name": "stdout",
     "output_type": "stream",
     "text": [
      "INFO:tensorflow:Initialize variable bert/encoder/layer_10/attention/self/value/bias:0 from checkpoint squad/output/jupyter/model.ckpt-21719 with bert/encoder/layer_10/attention/self/value/bias\n"
     ]
    },
    {
     "name": "stderr",
     "output_type": "stream",
     "text": [
      "I0502 03:27:16.435322 139747718563584 tf_logging.py:115] Initialize variable bert/encoder/layer_10/attention/self/value/bias:0 from checkpoint squad/output/jupyter/model.ckpt-21719 with bert/encoder/layer_10/attention/self/value/bias\n"
     ]
    },
    {
     "name": "stdout",
     "output_type": "stream",
     "text": [
      "INFO:tensorflow:Initialize variable bert/encoder/layer_10/attention/self/value/kernel:0 from checkpoint squad/output/jupyter/model.ckpt-21719 with bert/encoder/layer_10/attention/self/value/kernel\n"
     ]
    },
    {
     "name": "stderr",
     "output_type": "stream",
     "text": [
      "I0502 03:27:16.439543 139747718563584 tf_logging.py:115] Initialize variable bert/encoder/layer_10/attention/self/value/kernel:0 from checkpoint squad/output/jupyter/model.ckpt-21719 with bert/encoder/layer_10/attention/self/value/kernel\n"
     ]
    },
    {
     "name": "stdout",
     "output_type": "stream",
     "text": [
      "INFO:tensorflow:Initialize variable bert/encoder/layer_10/intermediate/dense/bias:0 from checkpoint squad/output/jupyter/model.ckpt-21719 with bert/encoder/layer_10/intermediate/dense/bias\n"
     ]
    },
    {
     "name": "stderr",
     "output_type": "stream",
     "text": [
      "I0502 03:27:16.443846 139747718563584 tf_logging.py:115] Initialize variable bert/encoder/layer_10/intermediate/dense/bias:0 from checkpoint squad/output/jupyter/model.ckpt-21719 with bert/encoder/layer_10/intermediate/dense/bias\n"
     ]
    },
    {
     "name": "stdout",
     "output_type": "stream",
     "text": [
      "INFO:tensorflow:Initialize variable bert/encoder/layer_10/intermediate/dense/kernel:0 from checkpoint squad/output/jupyter/model.ckpt-21719 with bert/encoder/layer_10/intermediate/dense/kernel\n"
     ]
    },
    {
     "name": "stderr",
     "output_type": "stream",
     "text": [
      "I0502 03:27:16.447968 139747718563584 tf_logging.py:115] Initialize variable bert/encoder/layer_10/intermediate/dense/kernel:0 from checkpoint squad/output/jupyter/model.ckpt-21719 with bert/encoder/layer_10/intermediate/dense/kernel\n"
     ]
    },
    {
     "name": "stdout",
     "output_type": "stream",
     "text": [
      "INFO:tensorflow:Initialize variable bert/encoder/layer_10/output/LayerNorm/beta:0 from checkpoint squad/output/jupyter/model.ckpt-21719 with bert/encoder/layer_10/output/LayerNorm/beta\n"
     ]
    },
    {
     "name": "stderr",
     "output_type": "stream",
     "text": [
      "I0502 03:27:16.452192 139747718563584 tf_logging.py:115] Initialize variable bert/encoder/layer_10/output/LayerNorm/beta:0 from checkpoint squad/output/jupyter/model.ckpt-21719 with bert/encoder/layer_10/output/LayerNorm/beta\n"
     ]
    },
    {
     "name": "stdout",
     "output_type": "stream",
     "text": [
      "INFO:tensorflow:Initialize variable bert/encoder/layer_10/output/LayerNorm/gamma:0 from checkpoint squad/output/jupyter/model.ckpt-21719 with bert/encoder/layer_10/output/LayerNorm/gamma\n"
     ]
    },
    {
     "name": "stderr",
     "output_type": "stream",
     "text": [
      "I0502 03:27:16.456358 139747718563584 tf_logging.py:115] Initialize variable bert/encoder/layer_10/output/LayerNorm/gamma:0 from checkpoint squad/output/jupyter/model.ckpt-21719 with bert/encoder/layer_10/output/LayerNorm/gamma\n"
     ]
    },
    {
     "name": "stdout",
     "output_type": "stream",
     "text": [
      "INFO:tensorflow:Initialize variable bert/encoder/layer_10/output/dense/bias:0 from checkpoint squad/output/jupyter/model.ckpt-21719 with bert/encoder/layer_10/output/dense/bias\n"
     ]
    },
    {
     "name": "stderr",
     "output_type": "stream",
     "text": [
      "I0502 03:27:16.460484 139747718563584 tf_logging.py:115] Initialize variable bert/encoder/layer_10/output/dense/bias:0 from checkpoint squad/output/jupyter/model.ckpt-21719 with bert/encoder/layer_10/output/dense/bias\n"
     ]
    },
    {
     "name": "stdout",
     "output_type": "stream",
     "text": [
      "INFO:tensorflow:Initialize variable bert/encoder/layer_10/output/dense/kernel:0 from checkpoint squad/output/jupyter/model.ckpt-21719 with bert/encoder/layer_10/output/dense/kernel\n"
     ]
    },
    {
     "name": "stderr",
     "output_type": "stream",
     "text": [
      "I0502 03:27:16.464635 139747718563584 tf_logging.py:115] Initialize variable bert/encoder/layer_10/output/dense/kernel:0 from checkpoint squad/output/jupyter/model.ckpt-21719 with bert/encoder/layer_10/output/dense/kernel\n"
     ]
    },
    {
     "name": "stdout",
     "output_type": "stream",
     "text": [
      "INFO:tensorflow:Initialize variable bert/encoder/layer_11/attention/output/LayerNorm/beta:0 from checkpoint squad/output/jupyter/model.ckpt-21719 with bert/encoder/layer_11/attention/output/LayerNorm/beta\n"
     ]
    },
    {
     "name": "stderr",
     "output_type": "stream",
     "text": [
      "I0502 03:27:16.468698 139747718563584 tf_logging.py:115] Initialize variable bert/encoder/layer_11/attention/output/LayerNorm/beta:0 from checkpoint squad/output/jupyter/model.ckpt-21719 with bert/encoder/layer_11/attention/output/LayerNorm/beta\n"
     ]
    },
    {
     "name": "stdout",
     "output_type": "stream",
     "text": [
      "INFO:tensorflow:Initialize variable bert/encoder/layer_11/attention/output/LayerNorm/gamma:0 from checkpoint squad/output/jupyter/model.ckpt-21719 with bert/encoder/layer_11/attention/output/LayerNorm/gamma\n"
     ]
    },
    {
     "name": "stderr",
     "output_type": "stream",
     "text": [
      "I0502 03:27:16.472852 139747718563584 tf_logging.py:115] Initialize variable bert/encoder/layer_11/attention/output/LayerNorm/gamma:0 from checkpoint squad/output/jupyter/model.ckpt-21719 with bert/encoder/layer_11/attention/output/LayerNorm/gamma\n"
     ]
    },
    {
     "name": "stdout",
     "output_type": "stream",
     "text": [
      "INFO:tensorflow:Initialize variable bert/encoder/layer_11/attention/output/dense/bias:0 from checkpoint squad/output/jupyter/model.ckpt-21719 with bert/encoder/layer_11/attention/output/dense/bias\n"
     ]
    },
    {
     "name": "stderr",
     "output_type": "stream",
     "text": [
      "I0502 03:27:16.476964 139747718563584 tf_logging.py:115] Initialize variable bert/encoder/layer_11/attention/output/dense/bias:0 from checkpoint squad/output/jupyter/model.ckpt-21719 with bert/encoder/layer_11/attention/output/dense/bias\n"
     ]
    },
    {
     "name": "stdout",
     "output_type": "stream",
     "text": [
      "INFO:tensorflow:Initialize variable bert/encoder/layer_11/attention/output/dense/kernel:0 from checkpoint squad/output/jupyter/model.ckpt-21719 with bert/encoder/layer_11/attention/output/dense/kernel\n"
     ]
    },
    {
     "name": "stderr",
     "output_type": "stream",
     "text": [
      "I0502 03:27:16.481222 139747718563584 tf_logging.py:115] Initialize variable bert/encoder/layer_11/attention/output/dense/kernel:0 from checkpoint squad/output/jupyter/model.ckpt-21719 with bert/encoder/layer_11/attention/output/dense/kernel\n"
     ]
    },
    {
     "name": "stdout",
     "output_type": "stream",
     "text": [
      "INFO:tensorflow:Initialize variable bert/encoder/layer_11/attention/self/key/bias:0 from checkpoint squad/output/jupyter/model.ckpt-21719 with bert/encoder/layer_11/attention/self/key/bias\n"
     ]
    },
    {
     "name": "stderr",
     "output_type": "stream",
     "text": [
      "I0502 03:27:16.485361 139747718563584 tf_logging.py:115] Initialize variable bert/encoder/layer_11/attention/self/key/bias:0 from checkpoint squad/output/jupyter/model.ckpt-21719 with bert/encoder/layer_11/attention/self/key/bias\n"
     ]
    },
    {
     "name": "stdout",
     "output_type": "stream",
     "text": [
      "INFO:tensorflow:Initialize variable bert/encoder/layer_11/attention/self/key/kernel:0 from checkpoint squad/output/jupyter/model.ckpt-21719 with bert/encoder/layer_11/attention/self/key/kernel\n"
     ]
    },
    {
     "name": "stderr",
     "output_type": "stream",
     "text": [
      "I0502 03:27:16.489526 139747718563584 tf_logging.py:115] Initialize variable bert/encoder/layer_11/attention/self/key/kernel:0 from checkpoint squad/output/jupyter/model.ckpt-21719 with bert/encoder/layer_11/attention/self/key/kernel\n"
     ]
    },
    {
     "name": "stdout",
     "output_type": "stream",
     "text": [
      "INFO:tensorflow:Initialize variable bert/encoder/layer_11/attention/self/query/bias:0 from checkpoint squad/output/jupyter/model.ckpt-21719 with bert/encoder/layer_11/attention/self/query/bias\n"
     ]
    },
    {
     "name": "stderr",
     "output_type": "stream",
     "text": [
      "I0502 03:27:16.493782 139747718563584 tf_logging.py:115] Initialize variable bert/encoder/layer_11/attention/self/query/bias:0 from checkpoint squad/output/jupyter/model.ckpt-21719 with bert/encoder/layer_11/attention/self/query/bias\n"
     ]
    },
    {
     "name": "stdout",
     "output_type": "stream",
     "text": [
      "INFO:tensorflow:Initialize variable bert/encoder/layer_11/attention/self/query/kernel:0 from checkpoint squad/output/jupyter/model.ckpt-21719 with bert/encoder/layer_11/attention/self/query/kernel\n"
     ]
    },
    {
     "name": "stderr",
     "output_type": "stream",
     "text": [
      "I0502 03:27:16.497914 139747718563584 tf_logging.py:115] Initialize variable bert/encoder/layer_11/attention/self/query/kernel:0 from checkpoint squad/output/jupyter/model.ckpt-21719 with bert/encoder/layer_11/attention/self/query/kernel\n"
     ]
    },
    {
     "name": "stdout",
     "output_type": "stream",
     "text": [
      "INFO:tensorflow:Initialize variable bert/encoder/layer_11/attention/self/value/bias:0 from checkpoint squad/output/jupyter/model.ckpt-21719 with bert/encoder/layer_11/attention/self/value/bias\n"
     ]
    },
    {
     "name": "stderr",
     "output_type": "stream",
     "text": [
      "I0502 03:27:16.502105 139747718563584 tf_logging.py:115] Initialize variable bert/encoder/layer_11/attention/self/value/bias:0 from checkpoint squad/output/jupyter/model.ckpt-21719 with bert/encoder/layer_11/attention/self/value/bias\n"
     ]
    },
    {
     "name": "stdout",
     "output_type": "stream",
     "text": [
      "INFO:tensorflow:Initialize variable bert/encoder/layer_11/attention/self/value/kernel:0 from checkpoint squad/output/jupyter/model.ckpt-21719 with bert/encoder/layer_11/attention/self/value/kernel\n"
     ]
    },
    {
     "name": "stderr",
     "output_type": "stream",
     "text": [
      "I0502 03:27:16.506382 139747718563584 tf_logging.py:115] Initialize variable bert/encoder/layer_11/attention/self/value/kernel:0 from checkpoint squad/output/jupyter/model.ckpt-21719 with bert/encoder/layer_11/attention/self/value/kernel\n"
     ]
    },
    {
     "name": "stdout",
     "output_type": "stream",
     "text": [
      "INFO:tensorflow:Initialize variable bert/encoder/layer_11/intermediate/dense/bias:0 from checkpoint squad/output/jupyter/model.ckpt-21719 with bert/encoder/layer_11/intermediate/dense/bias\n"
     ]
    },
    {
     "name": "stderr",
     "output_type": "stream",
     "text": [
      "I0502 03:27:16.513638 139747718563584 tf_logging.py:115] Initialize variable bert/encoder/layer_11/intermediate/dense/bias:0 from checkpoint squad/output/jupyter/model.ckpt-21719 with bert/encoder/layer_11/intermediate/dense/bias\n"
     ]
    },
    {
     "name": "stdout",
     "output_type": "stream",
     "text": [
      "INFO:tensorflow:Initialize variable bert/encoder/layer_11/intermediate/dense/kernel:0 from checkpoint squad/output/jupyter/model.ckpt-21719 with bert/encoder/layer_11/intermediate/dense/kernel\n"
     ]
    },
    {
     "name": "stderr",
     "output_type": "stream",
     "text": [
      "I0502 03:27:16.518739 139747718563584 tf_logging.py:115] Initialize variable bert/encoder/layer_11/intermediate/dense/kernel:0 from checkpoint squad/output/jupyter/model.ckpt-21719 with bert/encoder/layer_11/intermediate/dense/kernel\n"
     ]
    },
    {
     "name": "stdout",
     "output_type": "stream",
     "text": [
      "INFO:tensorflow:Initialize variable bert/encoder/layer_11/output/LayerNorm/beta:0 from checkpoint squad/output/jupyter/model.ckpt-21719 with bert/encoder/layer_11/output/LayerNorm/beta\n"
     ]
    },
    {
     "name": "stderr",
     "output_type": "stream",
     "text": [
      "I0502 03:27:16.523009 139747718563584 tf_logging.py:115] Initialize variable bert/encoder/layer_11/output/LayerNorm/beta:0 from checkpoint squad/output/jupyter/model.ckpt-21719 with bert/encoder/layer_11/output/LayerNorm/beta\n"
     ]
    },
    {
     "name": "stdout",
     "output_type": "stream",
     "text": [
      "INFO:tensorflow:Initialize variable bert/encoder/layer_11/output/LayerNorm/gamma:0 from checkpoint squad/output/jupyter/model.ckpt-21719 with bert/encoder/layer_11/output/LayerNorm/gamma\n"
     ]
    },
    {
     "name": "stderr",
     "output_type": "stream",
     "text": [
      "I0502 03:27:16.527899 139747718563584 tf_logging.py:115] Initialize variable bert/encoder/layer_11/output/LayerNorm/gamma:0 from checkpoint squad/output/jupyter/model.ckpt-21719 with bert/encoder/layer_11/output/LayerNorm/gamma\n"
     ]
    },
    {
     "name": "stdout",
     "output_type": "stream",
     "text": [
      "INFO:tensorflow:Initialize variable bert/encoder/layer_11/output/dense/bias:0 from checkpoint squad/output/jupyter/model.ckpt-21719 with bert/encoder/layer_11/output/dense/bias\n"
     ]
    },
    {
     "name": "stderr",
     "output_type": "stream",
     "text": [
      "I0502 03:27:16.532322 139747718563584 tf_logging.py:115] Initialize variable bert/encoder/layer_11/output/dense/bias:0 from checkpoint squad/output/jupyter/model.ckpt-21719 with bert/encoder/layer_11/output/dense/bias\n"
     ]
    },
    {
     "name": "stdout",
     "output_type": "stream",
     "text": [
      "INFO:tensorflow:Initialize variable bert/encoder/layer_11/output/dense/kernel:0 from checkpoint squad/output/jupyter/model.ckpt-21719 with bert/encoder/layer_11/output/dense/kernel\n"
     ]
    },
    {
     "name": "stderr",
     "output_type": "stream",
     "text": [
      "I0502 03:27:16.536500 139747718563584 tf_logging.py:115] Initialize variable bert/encoder/layer_11/output/dense/kernel:0 from checkpoint squad/output/jupyter/model.ckpt-21719 with bert/encoder/layer_11/output/dense/kernel\n"
     ]
    },
    {
     "name": "stdout",
     "output_type": "stream",
     "text": [
      "INFO:tensorflow:Initialize variable bert/encoder/layer_2/attention/output/LayerNorm/beta:0 from checkpoint squad/output/jupyter/model.ckpt-21719 with bert/encoder/layer_2/attention/output/LayerNorm/beta\n"
     ]
    },
    {
     "name": "stderr",
     "output_type": "stream",
     "text": [
      "I0502 03:27:16.540756 139747718563584 tf_logging.py:115] Initialize variable bert/encoder/layer_2/attention/output/LayerNorm/beta:0 from checkpoint squad/output/jupyter/model.ckpt-21719 with bert/encoder/layer_2/attention/output/LayerNorm/beta\n"
     ]
    },
    {
     "name": "stdout",
     "output_type": "stream",
     "text": [
      "INFO:tensorflow:Initialize variable bert/encoder/layer_2/attention/output/LayerNorm/gamma:0 from checkpoint squad/output/jupyter/model.ckpt-21719 with bert/encoder/layer_2/attention/output/LayerNorm/gamma\n"
     ]
    },
    {
     "name": "stderr",
     "output_type": "stream",
     "text": [
      "I0502 03:27:16.544980 139747718563584 tf_logging.py:115] Initialize variable bert/encoder/layer_2/attention/output/LayerNorm/gamma:0 from checkpoint squad/output/jupyter/model.ckpt-21719 with bert/encoder/layer_2/attention/output/LayerNorm/gamma\n"
     ]
    },
    {
     "name": "stdout",
     "output_type": "stream",
     "text": [
      "INFO:tensorflow:Initialize variable bert/encoder/layer_2/attention/output/dense/bias:0 from checkpoint squad/output/jupyter/model.ckpt-21719 with bert/encoder/layer_2/attention/output/dense/bias\n"
     ]
    },
    {
     "name": "stderr",
     "output_type": "stream",
     "text": [
      "I0502 03:27:16.549262 139747718563584 tf_logging.py:115] Initialize variable bert/encoder/layer_2/attention/output/dense/bias:0 from checkpoint squad/output/jupyter/model.ckpt-21719 with bert/encoder/layer_2/attention/output/dense/bias\n"
     ]
    },
    {
     "name": "stdout",
     "output_type": "stream",
     "text": [
      "INFO:tensorflow:Initialize variable bert/encoder/layer_2/attention/output/dense/kernel:0 from checkpoint squad/output/jupyter/model.ckpt-21719 with bert/encoder/layer_2/attention/output/dense/kernel\n"
     ]
    },
    {
     "name": "stderr",
     "output_type": "stream",
     "text": [
      "I0502 03:27:16.553457 139747718563584 tf_logging.py:115] Initialize variable bert/encoder/layer_2/attention/output/dense/kernel:0 from checkpoint squad/output/jupyter/model.ckpt-21719 with bert/encoder/layer_2/attention/output/dense/kernel\n"
     ]
    },
    {
     "name": "stdout",
     "output_type": "stream",
     "text": [
      "INFO:tensorflow:Initialize variable bert/encoder/layer_2/attention/self/key/bias:0 from checkpoint squad/output/jupyter/model.ckpt-21719 with bert/encoder/layer_2/attention/self/key/bias\n"
     ]
    },
    {
     "name": "stderr",
     "output_type": "stream",
     "text": [
      "I0502 03:27:16.557594 139747718563584 tf_logging.py:115] Initialize variable bert/encoder/layer_2/attention/self/key/bias:0 from checkpoint squad/output/jupyter/model.ckpt-21719 with bert/encoder/layer_2/attention/self/key/bias\n"
     ]
    },
    {
     "name": "stdout",
     "output_type": "stream",
     "text": [
      "INFO:tensorflow:Initialize variable bert/encoder/layer_2/attention/self/key/kernel:0 from checkpoint squad/output/jupyter/model.ckpt-21719 with bert/encoder/layer_2/attention/self/key/kernel\n"
     ]
    },
    {
     "name": "stderr",
     "output_type": "stream",
     "text": [
      "I0502 03:27:16.561945 139747718563584 tf_logging.py:115] Initialize variable bert/encoder/layer_2/attention/self/key/kernel:0 from checkpoint squad/output/jupyter/model.ckpt-21719 with bert/encoder/layer_2/attention/self/key/kernel\n"
     ]
    },
    {
     "name": "stdout",
     "output_type": "stream",
     "text": [
      "INFO:tensorflow:Initialize variable bert/encoder/layer_2/attention/self/query/bias:0 from checkpoint squad/output/jupyter/model.ckpt-21719 with bert/encoder/layer_2/attention/self/query/bias\n"
     ]
    },
    {
     "name": "stderr",
     "output_type": "stream",
     "text": [
      "I0502 03:27:16.566150 139747718563584 tf_logging.py:115] Initialize variable bert/encoder/layer_2/attention/self/query/bias:0 from checkpoint squad/output/jupyter/model.ckpt-21719 with bert/encoder/layer_2/attention/self/query/bias\n"
     ]
    },
    {
     "name": "stdout",
     "output_type": "stream",
     "text": [
      "INFO:tensorflow:Initialize variable bert/encoder/layer_2/attention/self/query/kernel:0 from checkpoint squad/output/jupyter/model.ckpt-21719 with bert/encoder/layer_2/attention/self/query/kernel\n"
     ]
    },
    {
     "name": "stderr",
     "output_type": "stream",
     "text": [
      "I0502 03:27:16.570460 139747718563584 tf_logging.py:115] Initialize variable bert/encoder/layer_2/attention/self/query/kernel:0 from checkpoint squad/output/jupyter/model.ckpt-21719 with bert/encoder/layer_2/attention/self/query/kernel\n"
     ]
    },
    {
     "name": "stdout",
     "output_type": "stream",
     "text": [
      "INFO:tensorflow:Initialize variable bert/encoder/layer_2/attention/self/value/bias:0 from checkpoint squad/output/jupyter/model.ckpt-21719 with bert/encoder/layer_2/attention/self/value/bias\n"
     ]
    },
    {
     "name": "stderr",
     "output_type": "stream",
     "text": [
      "I0502 03:27:16.574625 139747718563584 tf_logging.py:115] Initialize variable bert/encoder/layer_2/attention/self/value/bias:0 from checkpoint squad/output/jupyter/model.ckpt-21719 with bert/encoder/layer_2/attention/self/value/bias\n"
     ]
    },
    {
     "name": "stdout",
     "output_type": "stream",
     "text": [
      "INFO:tensorflow:Initialize variable bert/encoder/layer_2/attention/self/value/kernel:0 from checkpoint squad/output/jupyter/model.ckpt-21719 with bert/encoder/layer_2/attention/self/value/kernel\n"
     ]
    },
    {
     "name": "stderr",
     "output_type": "stream",
     "text": [
      "I0502 03:27:16.578848 139747718563584 tf_logging.py:115] Initialize variable bert/encoder/layer_2/attention/self/value/kernel:0 from checkpoint squad/output/jupyter/model.ckpt-21719 with bert/encoder/layer_2/attention/self/value/kernel\n"
     ]
    },
    {
     "name": "stdout",
     "output_type": "stream",
     "text": [
      "INFO:tensorflow:Initialize variable bert/encoder/layer_2/intermediate/dense/bias:0 from checkpoint squad/output/jupyter/model.ckpt-21719 with bert/encoder/layer_2/intermediate/dense/bias\n"
     ]
    },
    {
     "name": "stderr",
     "output_type": "stream",
     "text": [
      "I0502 03:27:16.583195 139747718563584 tf_logging.py:115] Initialize variable bert/encoder/layer_2/intermediate/dense/bias:0 from checkpoint squad/output/jupyter/model.ckpt-21719 with bert/encoder/layer_2/intermediate/dense/bias\n"
     ]
    },
    {
     "name": "stdout",
     "output_type": "stream",
     "text": [
      "INFO:tensorflow:Initialize variable bert/encoder/layer_2/intermediate/dense/kernel:0 from checkpoint squad/output/jupyter/model.ckpt-21719 with bert/encoder/layer_2/intermediate/dense/kernel\n"
     ]
    },
    {
     "name": "stderr",
     "output_type": "stream",
     "text": [
      "I0502 03:27:16.587456 139747718563584 tf_logging.py:115] Initialize variable bert/encoder/layer_2/intermediate/dense/kernel:0 from checkpoint squad/output/jupyter/model.ckpt-21719 with bert/encoder/layer_2/intermediate/dense/kernel\n"
     ]
    },
    {
     "name": "stdout",
     "output_type": "stream",
     "text": [
      "INFO:tensorflow:Initialize variable bert/encoder/layer_2/output/LayerNorm/beta:0 from checkpoint squad/output/jupyter/model.ckpt-21719 with bert/encoder/layer_2/output/LayerNorm/beta\n"
     ]
    },
    {
     "name": "stderr",
     "output_type": "stream",
     "text": [
      "I0502 03:27:16.591745 139747718563584 tf_logging.py:115] Initialize variable bert/encoder/layer_2/output/LayerNorm/beta:0 from checkpoint squad/output/jupyter/model.ckpt-21719 with bert/encoder/layer_2/output/LayerNorm/beta\n"
     ]
    },
    {
     "name": "stdout",
     "output_type": "stream",
     "text": [
      "INFO:tensorflow:Initialize variable bert/encoder/layer_2/output/LayerNorm/gamma:0 from checkpoint squad/output/jupyter/model.ckpt-21719 with bert/encoder/layer_2/output/LayerNorm/gamma\n"
     ]
    },
    {
     "name": "stderr",
     "output_type": "stream",
     "text": [
      "I0502 03:27:16.595921 139747718563584 tf_logging.py:115] Initialize variable bert/encoder/layer_2/output/LayerNorm/gamma:0 from checkpoint squad/output/jupyter/model.ckpt-21719 with bert/encoder/layer_2/output/LayerNorm/gamma\n"
     ]
    },
    {
     "name": "stdout",
     "output_type": "stream",
     "text": [
      "INFO:tensorflow:Initialize variable bert/encoder/layer_2/output/dense/bias:0 from checkpoint squad/output/jupyter/model.ckpt-21719 with bert/encoder/layer_2/output/dense/bias\n"
     ]
    },
    {
     "name": "stderr",
     "output_type": "stream",
     "text": [
      "I0502 03:27:16.600144 139747718563584 tf_logging.py:115] Initialize variable bert/encoder/layer_2/output/dense/bias:0 from checkpoint squad/output/jupyter/model.ckpt-21719 with bert/encoder/layer_2/output/dense/bias\n"
     ]
    },
    {
     "name": "stdout",
     "output_type": "stream",
     "text": [
      "INFO:tensorflow:Initialize variable bert/encoder/layer_2/output/dense/kernel:0 from checkpoint squad/output/jupyter/model.ckpt-21719 with bert/encoder/layer_2/output/dense/kernel\n"
     ]
    },
    {
     "name": "stderr",
     "output_type": "stream",
     "text": [
      "I0502 03:27:16.604526 139747718563584 tf_logging.py:115] Initialize variable bert/encoder/layer_2/output/dense/kernel:0 from checkpoint squad/output/jupyter/model.ckpt-21719 with bert/encoder/layer_2/output/dense/kernel\n"
     ]
    },
    {
     "name": "stdout",
     "output_type": "stream",
     "text": [
      "INFO:tensorflow:Initialize variable bert/encoder/layer_3/attention/output/LayerNorm/beta:0 from checkpoint squad/output/jupyter/model.ckpt-21719 with bert/encoder/layer_3/attention/output/LayerNorm/beta\n"
     ]
    },
    {
     "name": "stderr",
     "output_type": "stream",
     "text": [
      "I0502 03:27:16.608783 139747718563584 tf_logging.py:115] Initialize variable bert/encoder/layer_3/attention/output/LayerNorm/beta:0 from checkpoint squad/output/jupyter/model.ckpt-21719 with bert/encoder/layer_3/attention/output/LayerNorm/beta\n"
     ]
    },
    {
     "name": "stdout",
     "output_type": "stream",
     "text": [
      "INFO:tensorflow:Initialize variable bert/encoder/layer_3/attention/output/LayerNorm/gamma:0 from checkpoint squad/output/jupyter/model.ckpt-21719 with bert/encoder/layer_3/attention/output/LayerNorm/gamma\n"
     ]
    },
    {
     "name": "stderr",
     "output_type": "stream",
     "text": [
      "I0502 03:27:16.613007 139747718563584 tf_logging.py:115] Initialize variable bert/encoder/layer_3/attention/output/LayerNorm/gamma:0 from checkpoint squad/output/jupyter/model.ckpt-21719 with bert/encoder/layer_3/attention/output/LayerNorm/gamma\n"
     ]
    },
    {
     "name": "stdout",
     "output_type": "stream",
     "text": [
      "INFO:tensorflow:Initialize variable bert/encoder/layer_3/attention/output/dense/bias:0 from checkpoint squad/output/jupyter/model.ckpt-21719 with bert/encoder/layer_3/attention/output/dense/bias\n"
     ]
    },
    {
     "name": "stderr",
     "output_type": "stream",
     "text": [
      "I0502 03:27:16.617208 139747718563584 tf_logging.py:115] Initialize variable bert/encoder/layer_3/attention/output/dense/bias:0 from checkpoint squad/output/jupyter/model.ckpt-21719 with bert/encoder/layer_3/attention/output/dense/bias\n"
     ]
    },
    {
     "name": "stdout",
     "output_type": "stream",
     "text": [
      "INFO:tensorflow:Initialize variable bert/encoder/layer_3/attention/output/dense/kernel:0 from checkpoint squad/output/jupyter/model.ckpt-21719 with bert/encoder/layer_3/attention/output/dense/kernel\n"
     ]
    },
    {
     "name": "stderr",
     "output_type": "stream",
     "text": [
      "I0502 03:27:16.621453 139747718563584 tf_logging.py:115] Initialize variable bert/encoder/layer_3/attention/output/dense/kernel:0 from checkpoint squad/output/jupyter/model.ckpt-21719 with bert/encoder/layer_3/attention/output/dense/kernel\n"
     ]
    },
    {
     "name": "stdout",
     "output_type": "stream",
     "text": [
      "INFO:tensorflow:Initialize variable bert/encoder/layer_3/attention/self/key/bias:0 from checkpoint squad/output/jupyter/model.ckpt-21719 with bert/encoder/layer_3/attention/self/key/bias\n"
     ]
    },
    {
     "name": "stderr",
     "output_type": "stream",
     "text": [
      "I0502 03:27:16.625697 139747718563584 tf_logging.py:115] Initialize variable bert/encoder/layer_3/attention/self/key/bias:0 from checkpoint squad/output/jupyter/model.ckpt-21719 with bert/encoder/layer_3/attention/self/key/bias\n"
     ]
    },
    {
     "name": "stdout",
     "output_type": "stream",
     "text": [
      "INFO:tensorflow:Initialize variable bert/encoder/layer_3/attention/self/key/kernel:0 from checkpoint squad/output/jupyter/model.ckpt-21719 with bert/encoder/layer_3/attention/self/key/kernel\n"
     ]
    },
    {
     "name": "stderr",
     "output_type": "stream",
     "text": [
      "I0502 03:27:16.629962 139747718563584 tf_logging.py:115] Initialize variable bert/encoder/layer_3/attention/self/key/kernel:0 from checkpoint squad/output/jupyter/model.ckpt-21719 with bert/encoder/layer_3/attention/self/key/kernel\n"
     ]
    },
    {
     "name": "stdout",
     "output_type": "stream",
     "text": [
      "INFO:tensorflow:Initialize variable bert/encoder/layer_3/attention/self/query/bias:0 from checkpoint squad/output/jupyter/model.ckpt-21719 with bert/encoder/layer_3/attention/self/query/bias\n"
     ]
    },
    {
     "name": "stderr",
     "output_type": "stream",
     "text": [
      "I0502 03:27:16.634245 139747718563584 tf_logging.py:115] Initialize variable bert/encoder/layer_3/attention/self/query/bias:0 from checkpoint squad/output/jupyter/model.ckpt-21719 with bert/encoder/layer_3/attention/self/query/bias\n"
     ]
    },
    {
     "name": "stdout",
     "output_type": "stream",
     "text": [
      "INFO:tensorflow:Initialize variable bert/encoder/layer_3/attention/self/query/kernel:0 from checkpoint squad/output/jupyter/model.ckpt-21719 with bert/encoder/layer_3/attention/self/query/kernel\n"
     ]
    },
    {
     "name": "stderr",
     "output_type": "stream",
     "text": [
      "I0502 03:27:16.638446 139747718563584 tf_logging.py:115] Initialize variable bert/encoder/layer_3/attention/self/query/kernel:0 from checkpoint squad/output/jupyter/model.ckpt-21719 with bert/encoder/layer_3/attention/self/query/kernel\n"
     ]
    },
    {
     "name": "stdout",
     "output_type": "stream",
     "text": [
      "INFO:tensorflow:Initialize variable bert/encoder/layer_3/attention/self/value/bias:0 from checkpoint squad/output/jupyter/model.ckpt-21719 with bert/encoder/layer_3/attention/self/value/bias\n"
     ]
    },
    {
     "name": "stderr",
     "output_type": "stream",
     "text": [
      "I0502 03:27:16.642612 139747718563584 tf_logging.py:115] Initialize variable bert/encoder/layer_3/attention/self/value/bias:0 from checkpoint squad/output/jupyter/model.ckpt-21719 with bert/encoder/layer_3/attention/self/value/bias\n"
     ]
    },
    {
     "name": "stdout",
     "output_type": "stream",
     "text": [
      "INFO:tensorflow:Initialize variable bert/encoder/layer_3/attention/self/value/kernel:0 from checkpoint squad/output/jupyter/model.ckpt-21719 with bert/encoder/layer_3/attention/self/value/kernel\n"
     ]
    },
    {
     "name": "stderr",
     "output_type": "stream",
     "text": [
      "I0502 03:27:16.646854 139747718563584 tf_logging.py:115] Initialize variable bert/encoder/layer_3/attention/self/value/kernel:0 from checkpoint squad/output/jupyter/model.ckpt-21719 with bert/encoder/layer_3/attention/self/value/kernel\n"
     ]
    },
    {
     "name": "stdout",
     "output_type": "stream",
     "text": [
      "INFO:tensorflow:Initialize variable bert/encoder/layer_3/intermediate/dense/bias:0 from checkpoint squad/output/jupyter/model.ckpt-21719 with bert/encoder/layer_3/intermediate/dense/bias\n"
     ]
    },
    {
     "name": "stderr",
     "output_type": "stream",
     "text": [
      "I0502 03:27:16.652665 139747718563584 tf_logging.py:115] Initialize variable bert/encoder/layer_3/intermediate/dense/bias:0 from checkpoint squad/output/jupyter/model.ckpt-21719 with bert/encoder/layer_3/intermediate/dense/bias\n"
     ]
    },
    {
     "name": "stdout",
     "output_type": "stream",
     "text": [
      "INFO:tensorflow:Initialize variable bert/encoder/layer_3/intermediate/dense/kernel:0 from checkpoint squad/output/jupyter/model.ckpt-21719 with bert/encoder/layer_3/intermediate/dense/kernel\n"
     ]
    },
    {
     "name": "stderr",
     "output_type": "stream",
     "text": [
      "I0502 03:27:16.658096 139747718563584 tf_logging.py:115] Initialize variable bert/encoder/layer_3/intermediate/dense/kernel:0 from checkpoint squad/output/jupyter/model.ckpt-21719 with bert/encoder/layer_3/intermediate/dense/kernel\n"
     ]
    },
    {
     "name": "stdout",
     "output_type": "stream",
     "text": [
      "INFO:tensorflow:Initialize variable bert/encoder/layer_3/output/LayerNorm/beta:0 from checkpoint squad/output/jupyter/model.ckpt-21719 with bert/encoder/layer_3/output/LayerNorm/beta\n"
     ]
    },
    {
     "name": "stderr",
     "output_type": "stream",
     "text": [
      "I0502 03:27:16.662358 139747718563584 tf_logging.py:115] Initialize variable bert/encoder/layer_3/output/LayerNorm/beta:0 from checkpoint squad/output/jupyter/model.ckpt-21719 with bert/encoder/layer_3/output/LayerNorm/beta\n"
     ]
    },
    {
     "name": "stdout",
     "output_type": "stream",
     "text": [
      "INFO:tensorflow:Initialize variable bert/encoder/layer_3/output/LayerNorm/gamma:0 from checkpoint squad/output/jupyter/model.ckpt-21719 with bert/encoder/layer_3/output/LayerNorm/gamma\n"
     ]
    },
    {
     "name": "stderr",
     "output_type": "stream",
     "text": [
      "I0502 03:27:16.666595 139747718563584 tf_logging.py:115] Initialize variable bert/encoder/layer_3/output/LayerNorm/gamma:0 from checkpoint squad/output/jupyter/model.ckpt-21719 with bert/encoder/layer_3/output/LayerNorm/gamma\n"
     ]
    },
    {
     "name": "stdout",
     "output_type": "stream",
     "text": [
      "INFO:tensorflow:Initialize variable bert/encoder/layer_3/output/dense/bias:0 from checkpoint squad/output/jupyter/model.ckpt-21719 with bert/encoder/layer_3/output/dense/bias\n"
     ]
    },
    {
     "name": "stderr",
     "output_type": "stream",
     "text": [
      "I0502 03:27:16.670977 139747718563584 tf_logging.py:115] Initialize variable bert/encoder/layer_3/output/dense/bias:0 from checkpoint squad/output/jupyter/model.ckpt-21719 with bert/encoder/layer_3/output/dense/bias\n"
     ]
    },
    {
     "name": "stdout",
     "output_type": "stream",
     "text": [
      "INFO:tensorflow:Initialize variable bert/encoder/layer_3/output/dense/kernel:0 from checkpoint squad/output/jupyter/model.ckpt-21719 with bert/encoder/layer_3/output/dense/kernel\n"
     ]
    },
    {
     "name": "stderr",
     "output_type": "stream",
     "text": [
      "I0502 03:27:16.675278 139747718563584 tf_logging.py:115] Initialize variable bert/encoder/layer_3/output/dense/kernel:0 from checkpoint squad/output/jupyter/model.ckpt-21719 with bert/encoder/layer_3/output/dense/kernel\n"
     ]
    },
    {
     "name": "stdout",
     "output_type": "stream",
     "text": [
      "INFO:tensorflow:Initialize variable bert/encoder/layer_4/attention/output/LayerNorm/beta:0 from checkpoint squad/output/jupyter/model.ckpt-21719 with bert/encoder/layer_4/attention/output/LayerNorm/beta\n"
     ]
    },
    {
     "name": "stderr",
     "output_type": "stream",
     "text": [
      "I0502 03:27:16.679571 139747718563584 tf_logging.py:115] Initialize variable bert/encoder/layer_4/attention/output/LayerNorm/beta:0 from checkpoint squad/output/jupyter/model.ckpt-21719 with bert/encoder/layer_4/attention/output/LayerNorm/beta\n"
     ]
    },
    {
     "name": "stdout",
     "output_type": "stream",
     "text": [
      "INFO:tensorflow:Initialize variable bert/encoder/layer_4/attention/output/LayerNorm/gamma:0 from checkpoint squad/output/jupyter/model.ckpt-21719 with bert/encoder/layer_4/attention/output/LayerNorm/gamma\n"
     ]
    },
    {
     "name": "stderr",
     "output_type": "stream",
     "text": [
      "I0502 03:27:16.683767 139747718563584 tf_logging.py:115] Initialize variable bert/encoder/layer_4/attention/output/LayerNorm/gamma:0 from checkpoint squad/output/jupyter/model.ckpt-21719 with bert/encoder/layer_4/attention/output/LayerNorm/gamma\n"
     ]
    },
    {
     "name": "stdout",
     "output_type": "stream",
     "text": [
      "INFO:tensorflow:Initialize variable bert/encoder/layer_4/attention/output/dense/bias:0 from checkpoint squad/output/jupyter/model.ckpt-21719 with bert/encoder/layer_4/attention/output/dense/bias\n"
     ]
    },
    {
     "name": "stderr",
     "output_type": "stream",
     "text": [
      "I0502 03:27:16.688026 139747718563584 tf_logging.py:115] Initialize variable bert/encoder/layer_4/attention/output/dense/bias:0 from checkpoint squad/output/jupyter/model.ckpt-21719 with bert/encoder/layer_4/attention/output/dense/bias\n"
     ]
    },
    {
     "name": "stdout",
     "output_type": "stream",
     "text": [
      "INFO:tensorflow:Initialize variable bert/encoder/layer_4/attention/output/dense/kernel:0 from checkpoint squad/output/jupyter/model.ckpt-21719 with bert/encoder/layer_4/attention/output/dense/kernel\n"
     ]
    },
    {
     "name": "stderr",
     "output_type": "stream",
     "text": [
      "I0502 03:27:16.692451 139747718563584 tf_logging.py:115] Initialize variable bert/encoder/layer_4/attention/output/dense/kernel:0 from checkpoint squad/output/jupyter/model.ckpt-21719 with bert/encoder/layer_4/attention/output/dense/kernel\n"
     ]
    },
    {
     "name": "stdout",
     "output_type": "stream",
     "text": [
      "INFO:tensorflow:Initialize variable bert/encoder/layer_4/attention/self/key/bias:0 from checkpoint squad/output/jupyter/model.ckpt-21719 with bert/encoder/layer_4/attention/self/key/bias\n"
     ]
    },
    {
     "name": "stderr",
     "output_type": "stream",
     "text": [
      "I0502 03:27:16.696691 139747718563584 tf_logging.py:115] Initialize variable bert/encoder/layer_4/attention/self/key/bias:0 from checkpoint squad/output/jupyter/model.ckpt-21719 with bert/encoder/layer_4/attention/self/key/bias\n"
     ]
    },
    {
     "name": "stdout",
     "output_type": "stream",
     "text": [
      "INFO:tensorflow:Initialize variable bert/encoder/layer_4/attention/self/key/kernel:0 from checkpoint squad/output/jupyter/model.ckpt-21719 with bert/encoder/layer_4/attention/self/key/kernel\n"
     ]
    },
    {
     "name": "stderr",
     "output_type": "stream",
     "text": [
      "I0502 03:27:16.701031 139747718563584 tf_logging.py:115] Initialize variable bert/encoder/layer_4/attention/self/key/kernel:0 from checkpoint squad/output/jupyter/model.ckpt-21719 with bert/encoder/layer_4/attention/self/key/kernel\n"
     ]
    },
    {
     "name": "stdout",
     "output_type": "stream",
     "text": [
      "INFO:tensorflow:Initialize variable bert/encoder/layer_4/attention/self/query/bias:0 from checkpoint squad/output/jupyter/model.ckpt-21719 with bert/encoder/layer_4/attention/self/query/bias\n"
     ]
    },
    {
     "name": "stderr",
     "output_type": "stream",
     "text": [
      "I0502 03:27:16.705254 139747718563584 tf_logging.py:115] Initialize variable bert/encoder/layer_4/attention/self/query/bias:0 from checkpoint squad/output/jupyter/model.ckpt-21719 with bert/encoder/layer_4/attention/self/query/bias\n"
     ]
    },
    {
     "name": "stdout",
     "output_type": "stream",
     "text": [
      "INFO:tensorflow:Initialize variable bert/encoder/layer_4/attention/self/query/kernel:0 from checkpoint squad/output/jupyter/model.ckpt-21719 with bert/encoder/layer_4/attention/self/query/kernel\n"
     ]
    },
    {
     "name": "stderr",
     "output_type": "stream",
     "text": [
      "I0502 03:27:16.709434 139747718563584 tf_logging.py:115] Initialize variable bert/encoder/layer_4/attention/self/query/kernel:0 from checkpoint squad/output/jupyter/model.ckpt-21719 with bert/encoder/layer_4/attention/self/query/kernel\n"
     ]
    },
    {
     "name": "stdout",
     "output_type": "stream",
     "text": [
      "INFO:tensorflow:Initialize variable bert/encoder/layer_4/attention/self/value/bias:0 from checkpoint squad/output/jupyter/model.ckpt-21719 with bert/encoder/layer_4/attention/self/value/bias\n"
     ]
    },
    {
     "name": "stderr",
     "output_type": "stream",
     "text": [
      "I0502 03:27:16.713762 139747718563584 tf_logging.py:115] Initialize variable bert/encoder/layer_4/attention/self/value/bias:0 from checkpoint squad/output/jupyter/model.ckpt-21719 with bert/encoder/layer_4/attention/self/value/bias\n"
     ]
    },
    {
     "name": "stdout",
     "output_type": "stream",
     "text": [
      "INFO:tensorflow:Initialize variable bert/encoder/layer_4/attention/self/value/kernel:0 from checkpoint squad/output/jupyter/model.ckpt-21719 with bert/encoder/layer_4/attention/self/value/kernel\n"
     ]
    },
    {
     "name": "stderr",
     "output_type": "stream",
     "text": [
      "I0502 03:27:16.717985 139747718563584 tf_logging.py:115] Initialize variable bert/encoder/layer_4/attention/self/value/kernel:0 from checkpoint squad/output/jupyter/model.ckpt-21719 with bert/encoder/layer_4/attention/self/value/kernel\n"
     ]
    },
    {
     "name": "stdout",
     "output_type": "stream",
     "text": [
      "INFO:tensorflow:Initialize variable bert/encoder/layer_4/intermediate/dense/bias:0 from checkpoint squad/output/jupyter/model.ckpt-21719 with bert/encoder/layer_4/intermediate/dense/bias\n"
     ]
    },
    {
     "name": "stderr",
     "output_type": "stream",
     "text": [
      "I0502 03:27:16.722295 139747718563584 tf_logging.py:115] Initialize variable bert/encoder/layer_4/intermediate/dense/bias:0 from checkpoint squad/output/jupyter/model.ckpt-21719 with bert/encoder/layer_4/intermediate/dense/bias\n"
     ]
    },
    {
     "name": "stdout",
     "output_type": "stream",
     "text": [
      "INFO:tensorflow:Initialize variable bert/encoder/layer_4/intermediate/dense/kernel:0 from checkpoint squad/output/jupyter/model.ckpt-21719 with bert/encoder/layer_4/intermediate/dense/kernel\n"
     ]
    },
    {
     "name": "stderr",
     "output_type": "stream",
     "text": [
      "I0502 03:27:16.726548 139747718563584 tf_logging.py:115] Initialize variable bert/encoder/layer_4/intermediate/dense/kernel:0 from checkpoint squad/output/jupyter/model.ckpt-21719 with bert/encoder/layer_4/intermediate/dense/kernel\n"
     ]
    },
    {
     "name": "stdout",
     "output_type": "stream",
     "text": [
      "INFO:tensorflow:Initialize variable bert/encoder/layer_4/output/LayerNorm/beta:0 from checkpoint squad/output/jupyter/model.ckpt-21719 with bert/encoder/layer_4/output/LayerNorm/beta\n"
     ]
    },
    {
     "name": "stderr",
     "output_type": "stream",
     "text": [
      "I0502 03:27:16.730822 139747718563584 tf_logging.py:115] Initialize variable bert/encoder/layer_4/output/LayerNorm/beta:0 from checkpoint squad/output/jupyter/model.ckpt-21719 with bert/encoder/layer_4/output/LayerNorm/beta\n"
     ]
    },
    {
     "name": "stdout",
     "output_type": "stream",
     "text": [
      "INFO:tensorflow:Initialize variable bert/encoder/layer_4/output/LayerNorm/gamma:0 from checkpoint squad/output/jupyter/model.ckpt-21719 with bert/encoder/layer_4/output/LayerNorm/gamma\n"
     ]
    },
    {
     "name": "stderr",
     "output_type": "stream",
     "text": [
      "I0502 03:27:16.735303 139747718563584 tf_logging.py:115] Initialize variable bert/encoder/layer_4/output/LayerNorm/gamma:0 from checkpoint squad/output/jupyter/model.ckpt-21719 with bert/encoder/layer_4/output/LayerNorm/gamma\n"
     ]
    },
    {
     "name": "stdout",
     "output_type": "stream",
     "text": [
      "INFO:tensorflow:Initialize variable bert/encoder/layer_4/output/dense/bias:0 from checkpoint squad/output/jupyter/model.ckpt-21719 with bert/encoder/layer_4/output/dense/bias\n"
     ]
    },
    {
     "name": "stderr",
     "output_type": "stream",
     "text": [
      "I0502 03:27:16.739635 139747718563584 tf_logging.py:115] Initialize variable bert/encoder/layer_4/output/dense/bias:0 from checkpoint squad/output/jupyter/model.ckpt-21719 with bert/encoder/layer_4/output/dense/bias\n"
     ]
    },
    {
     "name": "stdout",
     "output_type": "stream",
     "text": [
      "INFO:tensorflow:Initialize variable bert/encoder/layer_4/output/dense/kernel:0 from checkpoint squad/output/jupyter/model.ckpt-21719 with bert/encoder/layer_4/output/dense/kernel\n"
     ]
    },
    {
     "name": "stderr",
     "output_type": "stream",
     "text": [
      "I0502 03:27:16.743911 139747718563584 tf_logging.py:115] Initialize variable bert/encoder/layer_4/output/dense/kernel:0 from checkpoint squad/output/jupyter/model.ckpt-21719 with bert/encoder/layer_4/output/dense/kernel\n"
     ]
    },
    {
     "name": "stdout",
     "output_type": "stream",
     "text": [
      "INFO:tensorflow:Initialize variable bert/encoder/layer_5/attention/output/LayerNorm/beta:0 from checkpoint squad/output/jupyter/model.ckpt-21719 with bert/encoder/layer_5/attention/output/LayerNorm/beta\n"
     ]
    },
    {
     "name": "stderr",
     "output_type": "stream",
     "text": [
      "I0502 03:27:16.748073 139747718563584 tf_logging.py:115] Initialize variable bert/encoder/layer_5/attention/output/LayerNorm/beta:0 from checkpoint squad/output/jupyter/model.ckpt-21719 with bert/encoder/layer_5/attention/output/LayerNorm/beta\n"
     ]
    },
    {
     "name": "stdout",
     "output_type": "stream",
     "text": [
      "INFO:tensorflow:Initialize variable bert/encoder/layer_5/attention/output/LayerNorm/gamma:0 from checkpoint squad/output/jupyter/model.ckpt-21719 with bert/encoder/layer_5/attention/output/LayerNorm/gamma\n"
     ]
    },
    {
     "name": "stderr",
     "output_type": "stream",
     "text": [
      "I0502 03:27:16.752246 139747718563584 tf_logging.py:115] Initialize variable bert/encoder/layer_5/attention/output/LayerNorm/gamma:0 from checkpoint squad/output/jupyter/model.ckpt-21719 with bert/encoder/layer_5/attention/output/LayerNorm/gamma\n"
     ]
    },
    {
     "name": "stdout",
     "output_type": "stream",
     "text": [
      "INFO:tensorflow:Initialize variable bert/encoder/layer_5/attention/output/dense/bias:0 from checkpoint squad/output/jupyter/model.ckpt-21719 with bert/encoder/layer_5/attention/output/dense/bias\n"
     ]
    },
    {
     "name": "stderr",
     "output_type": "stream",
     "text": [
      "I0502 03:27:16.756474 139747718563584 tf_logging.py:115] Initialize variable bert/encoder/layer_5/attention/output/dense/bias:0 from checkpoint squad/output/jupyter/model.ckpt-21719 with bert/encoder/layer_5/attention/output/dense/bias\n"
     ]
    },
    {
     "name": "stdout",
     "output_type": "stream",
     "text": [
      "INFO:tensorflow:Initialize variable bert/encoder/layer_5/attention/output/dense/kernel:0 from checkpoint squad/output/jupyter/model.ckpt-21719 with bert/encoder/layer_5/attention/output/dense/kernel\n"
     ]
    },
    {
     "name": "stderr",
     "output_type": "stream",
     "text": [
      "I0502 03:27:16.760665 139747718563584 tf_logging.py:115] Initialize variable bert/encoder/layer_5/attention/output/dense/kernel:0 from checkpoint squad/output/jupyter/model.ckpt-21719 with bert/encoder/layer_5/attention/output/dense/kernel\n"
     ]
    },
    {
     "name": "stdout",
     "output_type": "stream",
     "text": [
      "INFO:tensorflow:Initialize variable bert/encoder/layer_5/attention/self/key/bias:0 from checkpoint squad/output/jupyter/model.ckpt-21719 with bert/encoder/layer_5/attention/self/key/bias\n"
     ]
    },
    {
     "name": "stderr",
     "output_type": "stream",
     "text": [
      "I0502 03:27:16.764970 139747718563584 tf_logging.py:115] Initialize variable bert/encoder/layer_5/attention/self/key/bias:0 from checkpoint squad/output/jupyter/model.ckpt-21719 with bert/encoder/layer_5/attention/self/key/bias\n"
     ]
    },
    {
     "name": "stdout",
     "output_type": "stream",
     "text": [
      "INFO:tensorflow:Initialize variable bert/encoder/layer_5/attention/self/key/kernel:0 from checkpoint squad/output/jupyter/model.ckpt-21719 with bert/encoder/layer_5/attention/self/key/kernel\n"
     ]
    },
    {
     "name": "stderr",
     "output_type": "stream",
     "text": [
      "I0502 03:27:16.769199 139747718563584 tf_logging.py:115] Initialize variable bert/encoder/layer_5/attention/self/key/kernel:0 from checkpoint squad/output/jupyter/model.ckpt-21719 with bert/encoder/layer_5/attention/self/key/kernel\n"
     ]
    },
    {
     "name": "stdout",
     "output_type": "stream",
     "text": [
      "INFO:tensorflow:Initialize variable bert/encoder/layer_5/attention/self/query/bias:0 from checkpoint squad/output/jupyter/model.ckpt-21719 with bert/encoder/layer_5/attention/self/query/bias\n"
     ]
    },
    {
     "name": "stderr",
     "output_type": "stream",
     "text": [
      "I0502 03:27:16.773402 139747718563584 tf_logging.py:115] Initialize variable bert/encoder/layer_5/attention/self/query/bias:0 from checkpoint squad/output/jupyter/model.ckpt-21719 with bert/encoder/layer_5/attention/self/query/bias\n"
     ]
    },
    {
     "name": "stdout",
     "output_type": "stream",
     "text": [
      "INFO:tensorflow:Initialize variable bert/encoder/layer_5/attention/self/query/kernel:0 from checkpoint squad/output/jupyter/model.ckpt-21719 with bert/encoder/layer_5/attention/self/query/kernel\n"
     ]
    },
    {
     "name": "stderr",
     "output_type": "stream",
     "text": [
      "I0502 03:27:16.777820 139747718563584 tf_logging.py:115] Initialize variable bert/encoder/layer_5/attention/self/query/kernel:0 from checkpoint squad/output/jupyter/model.ckpt-21719 with bert/encoder/layer_5/attention/self/query/kernel\n"
     ]
    },
    {
     "name": "stdout",
     "output_type": "stream",
     "text": [
      "INFO:tensorflow:Initialize variable bert/encoder/layer_5/attention/self/value/bias:0 from checkpoint squad/output/jupyter/model.ckpt-21719 with bert/encoder/layer_5/attention/self/value/bias\n"
     ]
    },
    {
     "name": "stderr",
     "output_type": "stream",
     "text": [
      "I0502 03:27:16.782105 139747718563584 tf_logging.py:115] Initialize variable bert/encoder/layer_5/attention/self/value/bias:0 from checkpoint squad/output/jupyter/model.ckpt-21719 with bert/encoder/layer_5/attention/self/value/bias\n"
     ]
    },
    {
     "name": "stdout",
     "output_type": "stream",
     "text": [
      "INFO:tensorflow:Initialize variable bert/encoder/layer_5/attention/self/value/kernel:0 from checkpoint squad/output/jupyter/model.ckpt-21719 with bert/encoder/layer_5/attention/self/value/kernel\n"
     ]
    },
    {
     "name": "stderr",
     "output_type": "stream",
     "text": [
      "I0502 03:27:16.786905 139747718563584 tf_logging.py:115] Initialize variable bert/encoder/layer_5/attention/self/value/kernel:0 from checkpoint squad/output/jupyter/model.ckpt-21719 with bert/encoder/layer_5/attention/self/value/kernel\n"
     ]
    },
    {
     "name": "stdout",
     "output_type": "stream",
     "text": [
      "INFO:tensorflow:Initialize variable bert/encoder/layer_5/intermediate/dense/bias:0 from checkpoint squad/output/jupyter/model.ckpt-21719 with bert/encoder/layer_5/intermediate/dense/bias\n"
     ]
    },
    {
     "name": "stderr",
     "output_type": "stream",
     "text": [
      "I0502 03:27:16.791096 139747718563584 tf_logging.py:115] Initialize variable bert/encoder/layer_5/intermediate/dense/bias:0 from checkpoint squad/output/jupyter/model.ckpt-21719 with bert/encoder/layer_5/intermediate/dense/bias\n"
     ]
    },
    {
     "name": "stdout",
     "output_type": "stream",
     "text": [
      "INFO:tensorflow:Initialize variable bert/encoder/layer_5/intermediate/dense/kernel:0 from checkpoint squad/output/jupyter/model.ckpt-21719 with bert/encoder/layer_5/intermediate/dense/kernel\n"
     ]
    },
    {
     "name": "stderr",
     "output_type": "stream",
     "text": [
      "I0502 03:27:16.795327 139747718563584 tf_logging.py:115] Initialize variable bert/encoder/layer_5/intermediate/dense/kernel:0 from checkpoint squad/output/jupyter/model.ckpt-21719 with bert/encoder/layer_5/intermediate/dense/kernel\n"
     ]
    },
    {
     "name": "stdout",
     "output_type": "stream",
     "text": [
      "INFO:tensorflow:Initialize variable bert/encoder/layer_5/output/LayerNorm/beta:0 from checkpoint squad/output/jupyter/model.ckpt-21719 with bert/encoder/layer_5/output/LayerNorm/beta\n"
     ]
    },
    {
     "name": "stderr",
     "output_type": "stream",
     "text": [
      "I0502 03:27:16.799547 139747718563584 tf_logging.py:115] Initialize variable bert/encoder/layer_5/output/LayerNorm/beta:0 from checkpoint squad/output/jupyter/model.ckpt-21719 with bert/encoder/layer_5/output/LayerNorm/beta\n"
     ]
    },
    {
     "name": "stdout",
     "output_type": "stream",
     "text": [
      "INFO:tensorflow:Initialize variable bert/encoder/layer_5/output/LayerNorm/gamma:0 from checkpoint squad/output/jupyter/model.ckpt-21719 with bert/encoder/layer_5/output/LayerNorm/gamma\n"
     ]
    },
    {
     "name": "stderr",
     "output_type": "stream",
     "text": [
      "I0502 03:27:16.803776 139747718563584 tf_logging.py:115] Initialize variable bert/encoder/layer_5/output/LayerNorm/gamma:0 from checkpoint squad/output/jupyter/model.ckpt-21719 with bert/encoder/layer_5/output/LayerNorm/gamma\n"
     ]
    },
    {
     "name": "stdout",
     "output_type": "stream",
     "text": [
      "INFO:tensorflow:Initialize variable bert/encoder/layer_5/output/dense/bias:0 from checkpoint squad/output/jupyter/model.ckpt-21719 with bert/encoder/layer_5/output/dense/bias\n"
     ]
    },
    {
     "name": "stderr",
     "output_type": "stream",
     "text": [
      "I0502 03:27:16.808064 139747718563584 tf_logging.py:115] Initialize variable bert/encoder/layer_5/output/dense/bias:0 from checkpoint squad/output/jupyter/model.ckpt-21719 with bert/encoder/layer_5/output/dense/bias\n"
     ]
    },
    {
     "name": "stdout",
     "output_type": "stream",
     "text": [
      "INFO:tensorflow:Initialize variable bert/encoder/layer_5/output/dense/kernel:0 from checkpoint squad/output/jupyter/model.ckpt-21719 with bert/encoder/layer_5/output/dense/kernel\n"
     ]
    },
    {
     "name": "stderr",
     "output_type": "stream",
     "text": [
      "I0502 03:27:16.812359 139747718563584 tf_logging.py:115] Initialize variable bert/encoder/layer_5/output/dense/kernel:0 from checkpoint squad/output/jupyter/model.ckpt-21719 with bert/encoder/layer_5/output/dense/kernel\n"
     ]
    },
    {
     "name": "stdout",
     "output_type": "stream",
     "text": [
      "INFO:tensorflow:Initialize variable bert/encoder/layer_6/attention/output/LayerNorm/beta:0 from checkpoint squad/output/jupyter/model.ckpt-21719 with bert/encoder/layer_6/attention/output/LayerNorm/beta\n"
     ]
    },
    {
     "name": "stderr",
     "output_type": "stream",
     "text": [
      "I0502 03:27:16.816547 139747718563584 tf_logging.py:115] Initialize variable bert/encoder/layer_6/attention/output/LayerNorm/beta:0 from checkpoint squad/output/jupyter/model.ckpt-21719 with bert/encoder/layer_6/attention/output/LayerNorm/beta\n"
     ]
    },
    {
     "name": "stdout",
     "output_type": "stream",
     "text": [
      "INFO:tensorflow:Initialize variable bert/encoder/layer_6/attention/output/LayerNorm/gamma:0 from checkpoint squad/output/jupyter/model.ckpt-21719 with bert/encoder/layer_6/attention/output/LayerNorm/gamma\n"
     ]
    },
    {
     "name": "stderr",
     "output_type": "stream",
     "text": [
      "I0502 03:27:16.820832 139747718563584 tf_logging.py:115] Initialize variable bert/encoder/layer_6/attention/output/LayerNorm/gamma:0 from checkpoint squad/output/jupyter/model.ckpt-21719 with bert/encoder/layer_6/attention/output/LayerNorm/gamma\n"
     ]
    },
    {
     "name": "stdout",
     "output_type": "stream",
     "text": [
      "INFO:tensorflow:Initialize variable bert/encoder/layer_6/attention/output/dense/bias:0 from checkpoint squad/output/jupyter/model.ckpt-21719 with bert/encoder/layer_6/attention/output/dense/bias\n"
     ]
    },
    {
     "name": "stderr",
     "output_type": "stream",
     "text": [
      "I0502 03:27:16.824991 139747718563584 tf_logging.py:115] Initialize variable bert/encoder/layer_6/attention/output/dense/bias:0 from checkpoint squad/output/jupyter/model.ckpt-21719 with bert/encoder/layer_6/attention/output/dense/bias\n"
     ]
    },
    {
     "name": "stdout",
     "output_type": "stream",
     "text": [
      "INFO:tensorflow:Initialize variable bert/encoder/layer_6/attention/output/dense/kernel:0 from checkpoint squad/output/jupyter/model.ckpt-21719 with bert/encoder/layer_6/attention/output/dense/kernel\n"
     ]
    },
    {
     "name": "stderr",
     "output_type": "stream",
     "text": [
      "I0502 03:27:16.829344 139747718563584 tf_logging.py:115] Initialize variable bert/encoder/layer_6/attention/output/dense/kernel:0 from checkpoint squad/output/jupyter/model.ckpt-21719 with bert/encoder/layer_6/attention/output/dense/kernel\n"
     ]
    },
    {
     "name": "stdout",
     "output_type": "stream",
     "text": [
      "INFO:tensorflow:Initialize variable bert/encoder/layer_6/attention/self/key/bias:0 from checkpoint squad/output/jupyter/model.ckpt-21719 with bert/encoder/layer_6/attention/self/key/bias\n"
     ]
    },
    {
     "name": "stderr",
     "output_type": "stream",
     "text": [
      "I0502 03:27:16.833599 139747718563584 tf_logging.py:115] Initialize variable bert/encoder/layer_6/attention/self/key/bias:0 from checkpoint squad/output/jupyter/model.ckpt-21719 with bert/encoder/layer_6/attention/self/key/bias\n"
     ]
    },
    {
     "name": "stdout",
     "output_type": "stream",
     "text": [
      "INFO:tensorflow:Initialize variable bert/encoder/layer_6/attention/self/key/kernel:0 from checkpoint squad/output/jupyter/model.ckpt-21719 with bert/encoder/layer_6/attention/self/key/kernel\n"
     ]
    },
    {
     "name": "stderr",
     "output_type": "stream",
     "text": [
      "I0502 03:27:16.837738 139747718563584 tf_logging.py:115] Initialize variable bert/encoder/layer_6/attention/self/key/kernel:0 from checkpoint squad/output/jupyter/model.ckpt-21719 with bert/encoder/layer_6/attention/self/key/kernel\n"
     ]
    },
    {
     "name": "stdout",
     "output_type": "stream",
     "text": [
      "INFO:tensorflow:Initialize variable bert/encoder/layer_6/attention/self/query/bias:0 from checkpoint squad/output/jupyter/model.ckpt-21719 with bert/encoder/layer_6/attention/self/query/bias\n"
     ]
    },
    {
     "name": "stderr",
     "output_type": "stream",
     "text": [
      "I0502 03:27:16.841977 139747718563584 tf_logging.py:115] Initialize variable bert/encoder/layer_6/attention/self/query/bias:0 from checkpoint squad/output/jupyter/model.ckpt-21719 with bert/encoder/layer_6/attention/self/query/bias\n"
     ]
    },
    {
     "name": "stdout",
     "output_type": "stream",
     "text": [
      "INFO:tensorflow:Initialize variable bert/encoder/layer_6/attention/self/query/kernel:0 from checkpoint squad/output/jupyter/model.ckpt-21719 with bert/encoder/layer_6/attention/self/query/kernel\n"
     ]
    },
    {
     "name": "stderr",
     "output_type": "stream",
     "text": [
      "I0502 03:27:16.846212 139747718563584 tf_logging.py:115] Initialize variable bert/encoder/layer_6/attention/self/query/kernel:0 from checkpoint squad/output/jupyter/model.ckpt-21719 with bert/encoder/layer_6/attention/self/query/kernel\n"
     ]
    },
    {
     "name": "stdout",
     "output_type": "stream",
     "text": [
      "INFO:tensorflow:Initialize variable bert/encoder/layer_6/attention/self/value/bias:0 from checkpoint squad/output/jupyter/model.ckpt-21719 with bert/encoder/layer_6/attention/self/value/bias\n"
     ]
    },
    {
     "name": "stderr",
     "output_type": "stream",
     "text": [
      "I0502 03:27:16.850481 139747718563584 tf_logging.py:115] Initialize variable bert/encoder/layer_6/attention/self/value/bias:0 from checkpoint squad/output/jupyter/model.ckpt-21719 with bert/encoder/layer_6/attention/self/value/bias\n"
     ]
    },
    {
     "name": "stdout",
     "output_type": "stream",
     "text": [
      "INFO:tensorflow:Initialize variable bert/encoder/layer_6/attention/self/value/kernel:0 from checkpoint squad/output/jupyter/model.ckpt-21719 with bert/encoder/layer_6/attention/self/value/kernel\n"
     ]
    },
    {
     "name": "stderr",
     "output_type": "stream",
     "text": [
      "I0502 03:27:16.854732 139747718563584 tf_logging.py:115] Initialize variable bert/encoder/layer_6/attention/self/value/kernel:0 from checkpoint squad/output/jupyter/model.ckpt-21719 with bert/encoder/layer_6/attention/self/value/kernel\n"
     ]
    },
    {
     "name": "stdout",
     "output_type": "stream",
     "text": [
      "INFO:tensorflow:Initialize variable bert/encoder/layer_6/intermediate/dense/bias:0 from checkpoint squad/output/jupyter/model.ckpt-21719 with bert/encoder/layer_6/intermediate/dense/bias\n"
     ]
    },
    {
     "name": "stderr",
     "output_type": "stream",
     "text": [
      "I0502 03:27:16.858919 139747718563584 tf_logging.py:115] Initialize variable bert/encoder/layer_6/intermediate/dense/bias:0 from checkpoint squad/output/jupyter/model.ckpt-21719 with bert/encoder/layer_6/intermediate/dense/bias\n"
     ]
    },
    {
     "name": "stdout",
     "output_type": "stream",
     "text": [
      "INFO:tensorflow:Initialize variable bert/encoder/layer_6/intermediate/dense/kernel:0 from checkpoint squad/output/jupyter/model.ckpt-21719 with bert/encoder/layer_6/intermediate/dense/kernel\n"
     ]
    },
    {
     "name": "stderr",
     "output_type": "stream",
     "text": [
      "I0502 03:27:16.863193 139747718563584 tf_logging.py:115] Initialize variable bert/encoder/layer_6/intermediate/dense/kernel:0 from checkpoint squad/output/jupyter/model.ckpt-21719 with bert/encoder/layer_6/intermediate/dense/kernel\n"
     ]
    },
    {
     "name": "stdout",
     "output_type": "stream",
     "text": [
      "INFO:tensorflow:Initialize variable bert/encoder/layer_6/output/LayerNorm/beta:0 from checkpoint squad/output/jupyter/model.ckpt-21719 with bert/encoder/layer_6/output/LayerNorm/beta\n"
     ]
    },
    {
     "name": "stderr",
     "output_type": "stream",
     "text": [
      "I0502 03:27:16.867350 139747718563584 tf_logging.py:115] Initialize variable bert/encoder/layer_6/output/LayerNorm/beta:0 from checkpoint squad/output/jupyter/model.ckpt-21719 with bert/encoder/layer_6/output/LayerNorm/beta\n"
     ]
    },
    {
     "name": "stdout",
     "output_type": "stream",
     "text": [
      "INFO:tensorflow:Initialize variable bert/encoder/layer_6/output/LayerNorm/gamma:0 from checkpoint squad/output/jupyter/model.ckpt-21719 with bert/encoder/layer_6/output/LayerNorm/gamma\n"
     ]
    },
    {
     "name": "stderr",
     "output_type": "stream",
     "text": [
      "I0502 03:27:16.871599 139747718563584 tf_logging.py:115] Initialize variable bert/encoder/layer_6/output/LayerNorm/gamma:0 from checkpoint squad/output/jupyter/model.ckpt-21719 with bert/encoder/layer_6/output/LayerNorm/gamma\n"
     ]
    },
    {
     "name": "stdout",
     "output_type": "stream",
     "text": [
      "INFO:tensorflow:Initialize variable bert/encoder/layer_6/output/dense/bias:0 from checkpoint squad/output/jupyter/model.ckpt-21719 with bert/encoder/layer_6/output/dense/bias\n"
     ]
    },
    {
     "name": "stderr",
     "output_type": "stream",
     "text": [
      "I0502 03:27:16.875865 139747718563584 tf_logging.py:115] Initialize variable bert/encoder/layer_6/output/dense/bias:0 from checkpoint squad/output/jupyter/model.ckpt-21719 with bert/encoder/layer_6/output/dense/bias\n"
     ]
    },
    {
     "name": "stdout",
     "output_type": "stream",
     "text": [
      "INFO:tensorflow:Initialize variable bert/encoder/layer_6/output/dense/kernel:0 from checkpoint squad/output/jupyter/model.ckpt-21719 with bert/encoder/layer_6/output/dense/kernel\n"
     ]
    },
    {
     "name": "stderr",
     "output_type": "stream",
     "text": [
      "I0502 03:27:16.880097 139747718563584 tf_logging.py:115] Initialize variable bert/encoder/layer_6/output/dense/kernel:0 from checkpoint squad/output/jupyter/model.ckpt-21719 with bert/encoder/layer_6/output/dense/kernel\n"
     ]
    },
    {
     "name": "stdout",
     "output_type": "stream",
     "text": [
      "INFO:tensorflow:Initialize variable bert/encoder/layer_7/attention/output/LayerNorm/beta:0 from checkpoint squad/output/jupyter/model.ckpt-21719 with bert/encoder/layer_7/attention/output/LayerNorm/beta\n"
     ]
    },
    {
     "name": "stderr",
     "output_type": "stream",
     "text": [
      "I0502 03:27:16.884352 139747718563584 tf_logging.py:115] Initialize variable bert/encoder/layer_7/attention/output/LayerNorm/beta:0 from checkpoint squad/output/jupyter/model.ckpt-21719 with bert/encoder/layer_7/attention/output/LayerNorm/beta\n"
     ]
    },
    {
     "name": "stdout",
     "output_type": "stream",
     "text": [
      "INFO:tensorflow:Initialize variable bert/encoder/layer_7/attention/output/LayerNorm/gamma:0 from checkpoint squad/output/jupyter/model.ckpt-21719 with bert/encoder/layer_7/attention/output/LayerNorm/gamma\n"
     ]
    },
    {
     "name": "stderr",
     "output_type": "stream",
     "text": [
      "I0502 03:27:16.888558 139747718563584 tf_logging.py:115] Initialize variable bert/encoder/layer_7/attention/output/LayerNorm/gamma:0 from checkpoint squad/output/jupyter/model.ckpt-21719 with bert/encoder/layer_7/attention/output/LayerNorm/gamma\n"
     ]
    },
    {
     "name": "stdout",
     "output_type": "stream",
     "text": [
      "INFO:tensorflow:Initialize variable bert/encoder/layer_7/attention/output/dense/bias:0 from checkpoint squad/output/jupyter/model.ckpt-21719 with bert/encoder/layer_7/attention/output/dense/bias\n"
     ]
    },
    {
     "name": "stderr",
     "output_type": "stream",
     "text": [
      "I0502 03:27:16.892846 139747718563584 tf_logging.py:115] Initialize variable bert/encoder/layer_7/attention/output/dense/bias:0 from checkpoint squad/output/jupyter/model.ckpt-21719 with bert/encoder/layer_7/attention/output/dense/bias\n"
     ]
    },
    {
     "name": "stdout",
     "output_type": "stream",
     "text": [
      "INFO:tensorflow:Initialize variable bert/encoder/layer_7/attention/output/dense/kernel:0 from checkpoint squad/output/jupyter/model.ckpt-21719 with bert/encoder/layer_7/attention/output/dense/kernel\n"
     ]
    },
    {
     "name": "stderr",
     "output_type": "stream",
     "text": [
      "I0502 03:27:16.897056 139747718563584 tf_logging.py:115] Initialize variable bert/encoder/layer_7/attention/output/dense/kernel:0 from checkpoint squad/output/jupyter/model.ckpt-21719 with bert/encoder/layer_7/attention/output/dense/kernel\n"
     ]
    },
    {
     "name": "stdout",
     "output_type": "stream",
     "text": [
      "INFO:tensorflow:Initialize variable bert/encoder/layer_7/attention/self/key/bias:0 from checkpoint squad/output/jupyter/model.ckpt-21719 with bert/encoder/layer_7/attention/self/key/bias\n"
     ]
    },
    {
     "name": "stderr",
     "output_type": "stream",
     "text": [
      "I0502 03:27:16.901266 139747718563584 tf_logging.py:115] Initialize variable bert/encoder/layer_7/attention/self/key/bias:0 from checkpoint squad/output/jupyter/model.ckpt-21719 with bert/encoder/layer_7/attention/self/key/bias\n"
     ]
    },
    {
     "name": "stdout",
     "output_type": "stream",
     "text": [
      "INFO:tensorflow:Initialize variable bert/encoder/layer_7/attention/self/key/kernel:0 from checkpoint squad/output/jupyter/model.ckpt-21719 with bert/encoder/layer_7/attention/self/key/kernel\n"
     ]
    },
    {
     "name": "stderr",
     "output_type": "stream",
     "text": [
      "I0502 03:27:16.905482 139747718563584 tf_logging.py:115] Initialize variable bert/encoder/layer_7/attention/self/key/kernel:0 from checkpoint squad/output/jupyter/model.ckpt-21719 with bert/encoder/layer_7/attention/self/key/kernel\n"
     ]
    },
    {
     "name": "stdout",
     "output_type": "stream",
     "text": [
      "INFO:tensorflow:Initialize variable bert/encoder/layer_7/attention/self/query/bias:0 from checkpoint squad/output/jupyter/model.ckpt-21719 with bert/encoder/layer_7/attention/self/query/bias\n"
     ]
    },
    {
     "name": "stderr",
     "output_type": "stream",
     "text": [
      "I0502 03:27:16.909666 139747718563584 tf_logging.py:115] Initialize variable bert/encoder/layer_7/attention/self/query/bias:0 from checkpoint squad/output/jupyter/model.ckpt-21719 with bert/encoder/layer_7/attention/self/query/bias\n"
     ]
    },
    {
     "name": "stdout",
     "output_type": "stream",
     "text": [
      "INFO:tensorflow:Initialize variable bert/encoder/layer_7/attention/self/query/kernel:0 from checkpoint squad/output/jupyter/model.ckpt-21719 with bert/encoder/layer_7/attention/self/query/kernel\n"
     ]
    },
    {
     "name": "stderr",
     "output_type": "stream",
     "text": [
      "I0502 03:27:16.914453 139747718563584 tf_logging.py:115] Initialize variable bert/encoder/layer_7/attention/self/query/kernel:0 from checkpoint squad/output/jupyter/model.ckpt-21719 with bert/encoder/layer_7/attention/self/query/kernel\n"
     ]
    },
    {
     "name": "stdout",
     "output_type": "stream",
     "text": [
      "INFO:tensorflow:Initialize variable bert/encoder/layer_7/attention/self/value/bias:0 from checkpoint squad/output/jupyter/model.ckpt-21719 with bert/encoder/layer_7/attention/self/value/bias\n"
     ]
    },
    {
     "name": "stderr",
     "output_type": "stream",
     "text": [
      "I0502 03:27:16.918621 139747718563584 tf_logging.py:115] Initialize variable bert/encoder/layer_7/attention/self/value/bias:0 from checkpoint squad/output/jupyter/model.ckpt-21719 with bert/encoder/layer_7/attention/self/value/bias\n"
     ]
    },
    {
     "name": "stdout",
     "output_type": "stream",
     "text": [
      "INFO:tensorflow:Initialize variable bert/encoder/layer_7/attention/self/value/kernel:0 from checkpoint squad/output/jupyter/model.ckpt-21719 with bert/encoder/layer_7/attention/self/value/kernel\n"
     ]
    },
    {
     "name": "stderr",
     "output_type": "stream",
     "text": [
      "I0502 03:27:16.922865 139747718563584 tf_logging.py:115] Initialize variable bert/encoder/layer_7/attention/self/value/kernel:0 from checkpoint squad/output/jupyter/model.ckpt-21719 with bert/encoder/layer_7/attention/self/value/kernel\n"
     ]
    },
    {
     "name": "stdout",
     "output_type": "stream",
     "text": [
      "INFO:tensorflow:Initialize variable bert/encoder/layer_7/intermediate/dense/bias:0 from checkpoint squad/output/jupyter/model.ckpt-21719 with bert/encoder/layer_7/intermediate/dense/bias\n"
     ]
    },
    {
     "name": "stderr",
     "output_type": "stream",
     "text": [
      "I0502 03:27:16.927165 139747718563584 tf_logging.py:115] Initialize variable bert/encoder/layer_7/intermediate/dense/bias:0 from checkpoint squad/output/jupyter/model.ckpt-21719 with bert/encoder/layer_7/intermediate/dense/bias\n"
     ]
    },
    {
     "name": "stdout",
     "output_type": "stream",
     "text": [
      "INFO:tensorflow:Initialize variable bert/encoder/layer_7/intermediate/dense/kernel:0 from checkpoint squad/output/jupyter/model.ckpt-21719 with bert/encoder/layer_7/intermediate/dense/kernel\n"
     ]
    },
    {
     "name": "stderr",
     "output_type": "stream",
     "text": [
      "I0502 03:27:16.931396 139747718563584 tf_logging.py:115] Initialize variable bert/encoder/layer_7/intermediate/dense/kernel:0 from checkpoint squad/output/jupyter/model.ckpt-21719 with bert/encoder/layer_7/intermediate/dense/kernel\n"
     ]
    },
    {
     "name": "stdout",
     "output_type": "stream",
     "text": [
      "INFO:tensorflow:Initialize variable bert/encoder/layer_7/output/LayerNorm/beta:0 from checkpoint squad/output/jupyter/model.ckpt-21719 with bert/encoder/layer_7/output/LayerNorm/beta\n"
     ]
    },
    {
     "name": "stderr",
     "output_type": "stream",
     "text": [
      "I0502 03:27:16.935669 139747718563584 tf_logging.py:115] Initialize variable bert/encoder/layer_7/output/LayerNorm/beta:0 from checkpoint squad/output/jupyter/model.ckpt-21719 with bert/encoder/layer_7/output/LayerNorm/beta\n"
     ]
    },
    {
     "name": "stdout",
     "output_type": "stream",
     "text": [
      "INFO:tensorflow:Initialize variable bert/encoder/layer_7/output/LayerNorm/gamma:0 from checkpoint squad/output/jupyter/model.ckpt-21719 with bert/encoder/layer_7/output/LayerNorm/gamma\n"
     ]
    },
    {
     "name": "stderr",
     "output_type": "stream",
     "text": [
      "I0502 03:27:16.939877 139747718563584 tf_logging.py:115] Initialize variable bert/encoder/layer_7/output/LayerNorm/gamma:0 from checkpoint squad/output/jupyter/model.ckpt-21719 with bert/encoder/layer_7/output/LayerNorm/gamma\n"
     ]
    },
    {
     "name": "stdout",
     "output_type": "stream",
     "text": [
      "INFO:tensorflow:Initialize variable bert/encoder/layer_7/output/dense/bias:0 from checkpoint squad/output/jupyter/model.ckpt-21719 with bert/encoder/layer_7/output/dense/bias\n"
     ]
    },
    {
     "name": "stderr",
     "output_type": "stream",
     "text": [
      "I0502 03:27:16.944030 139747718563584 tf_logging.py:115] Initialize variable bert/encoder/layer_7/output/dense/bias:0 from checkpoint squad/output/jupyter/model.ckpt-21719 with bert/encoder/layer_7/output/dense/bias\n"
     ]
    },
    {
     "name": "stdout",
     "output_type": "stream",
     "text": [
      "INFO:tensorflow:Initialize variable bert/encoder/layer_7/output/dense/kernel:0 from checkpoint squad/output/jupyter/model.ckpt-21719 with bert/encoder/layer_7/output/dense/kernel\n"
     ]
    },
    {
     "name": "stderr",
     "output_type": "stream",
     "text": [
      "I0502 03:27:16.948652 139747718563584 tf_logging.py:115] Initialize variable bert/encoder/layer_7/output/dense/kernel:0 from checkpoint squad/output/jupyter/model.ckpt-21719 with bert/encoder/layer_7/output/dense/kernel\n"
     ]
    },
    {
     "name": "stdout",
     "output_type": "stream",
     "text": [
      "INFO:tensorflow:Initialize variable bert/encoder/layer_8/attention/output/LayerNorm/beta:0 from checkpoint squad/output/jupyter/model.ckpt-21719 with bert/encoder/layer_8/attention/output/LayerNorm/beta\n"
     ]
    },
    {
     "name": "stderr",
     "output_type": "stream",
     "text": [
      "I0502 03:27:16.952825 139747718563584 tf_logging.py:115] Initialize variable bert/encoder/layer_8/attention/output/LayerNorm/beta:0 from checkpoint squad/output/jupyter/model.ckpt-21719 with bert/encoder/layer_8/attention/output/LayerNorm/beta\n"
     ]
    },
    {
     "name": "stdout",
     "output_type": "stream",
     "text": [
      "INFO:tensorflow:Initialize variable bert/encoder/layer_8/attention/output/LayerNorm/gamma:0 from checkpoint squad/output/jupyter/model.ckpt-21719 with bert/encoder/layer_8/attention/output/LayerNorm/gamma\n"
     ]
    },
    {
     "name": "stderr",
     "output_type": "stream",
     "text": [
      "I0502 03:27:16.957076 139747718563584 tf_logging.py:115] Initialize variable bert/encoder/layer_8/attention/output/LayerNorm/gamma:0 from checkpoint squad/output/jupyter/model.ckpt-21719 with bert/encoder/layer_8/attention/output/LayerNorm/gamma\n"
     ]
    },
    {
     "name": "stdout",
     "output_type": "stream",
     "text": [
      "INFO:tensorflow:Initialize variable bert/encoder/layer_8/attention/output/dense/bias:0 from checkpoint squad/output/jupyter/model.ckpt-21719 with bert/encoder/layer_8/attention/output/dense/bias\n"
     ]
    },
    {
     "name": "stderr",
     "output_type": "stream",
     "text": [
      "I0502 03:27:16.961287 139747718563584 tf_logging.py:115] Initialize variable bert/encoder/layer_8/attention/output/dense/bias:0 from checkpoint squad/output/jupyter/model.ckpt-21719 with bert/encoder/layer_8/attention/output/dense/bias\n"
     ]
    },
    {
     "name": "stdout",
     "output_type": "stream",
     "text": [
      "INFO:tensorflow:Initialize variable bert/encoder/layer_8/attention/output/dense/kernel:0 from checkpoint squad/output/jupyter/model.ckpt-21719 with bert/encoder/layer_8/attention/output/dense/kernel\n"
     ]
    },
    {
     "name": "stderr",
     "output_type": "stream",
     "text": [
      "I0502 03:27:16.965501 139747718563584 tf_logging.py:115] Initialize variable bert/encoder/layer_8/attention/output/dense/kernel:0 from checkpoint squad/output/jupyter/model.ckpt-21719 with bert/encoder/layer_8/attention/output/dense/kernel\n"
     ]
    },
    {
     "name": "stdout",
     "output_type": "stream",
     "text": [
      "INFO:tensorflow:Initialize variable bert/encoder/layer_8/attention/self/key/bias:0 from checkpoint squad/output/jupyter/model.ckpt-21719 with bert/encoder/layer_8/attention/self/key/bias\n"
     ]
    },
    {
     "name": "stderr",
     "output_type": "stream",
     "text": [
      "I0502 03:27:16.969748 139747718563584 tf_logging.py:115] Initialize variable bert/encoder/layer_8/attention/self/key/bias:0 from checkpoint squad/output/jupyter/model.ckpt-21719 with bert/encoder/layer_8/attention/self/key/bias\n"
     ]
    },
    {
     "name": "stdout",
     "output_type": "stream",
     "text": [
      "INFO:tensorflow:Initialize variable bert/encoder/layer_8/attention/self/key/kernel:0 from checkpoint squad/output/jupyter/model.ckpt-21719 with bert/encoder/layer_8/attention/self/key/kernel\n"
     ]
    },
    {
     "name": "stderr",
     "output_type": "stream",
     "text": [
      "I0502 03:27:16.973934 139747718563584 tf_logging.py:115] Initialize variable bert/encoder/layer_8/attention/self/key/kernel:0 from checkpoint squad/output/jupyter/model.ckpt-21719 with bert/encoder/layer_8/attention/self/key/kernel\n"
     ]
    },
    {
     "name": "stdout",
     "output_type": "stream",
     "text": [
      "INFO:tensorflow:Initialize variable bert/encoder/layer_8/attention/self/query/bias:0 from checkpoint squad/output/jupyter/model.ckpt-21719 with bert/encoder/layer_8/attention/self/query/bias\n"
     ]
    },
    {
     "name": "stderr",
     "output_type": "stream",
     "text": [
      "I0502 03:27:16.978202 139747718563584 tf_logging.py:115] Initialize variable bert/encoder/layer_8/attention/self/query/bias:0 from checkpoint squad/output/jupyter/model.ckpt-21719 with bert/encoder/layer_8/attention/self/query/bias\n"
     ]
    },
    {
     "name": "stdout",
     "output_type": "stream",
     "text": [
      "INFO:tensorflow:Initialize variable bert/encoder/layer_8/attention/self/query/kernel:0 from checkpoint squad/output/jupyter/model.ckpt-21719 with bert/encoder/layer_8/attention/self/query/kernel\n"
     ]
    },
    {
     "name": "stderr",
     "output_type": "stream",
     "text": [
      "I0502 03:27:16.982399 139747718563584 tf_logging.py:115] Initialize variable bert/encoder/layer_8/attention/self/query/kernel:0 from checkpoint squad/output/jupyter/model.ckpt-21719 with bert/encoder/layer_8/attention/self/query/kernel\n"
     ]
    },
    {
     "name": "stdout",
     "output_type": "stream",
     "text": [
      "INFO:tensorflow:Initialize variable bert/encoder/layer_8/attention/self/value/bias:0 from checkpoint squad/output/jupyter/model.ckpt-21719 with bert/encoder/layer_8/attention/self/value/bias\n"
     ]
    },
    {
     "name": "stderr",
     "output_type": "stream",
     "text": [
      "I0502 03:27:16.986654 139747718563584 tf_logging.py:115] Initialize variable bert/encoder/layer_8/attention/self/value/bias:0 from checkpoint squad/output/jupyter/model.ckpt-21719 with bert/encoder/layer_8/attention/self/value/bias\n"
     ]
    },
    {
     "name": "stdout",
     "output_type": "stream",
     "text": [
      "INFO:tensorflow:Initialize variable bert/encoder/layer_8/attention/self/value/kernel:0 from checkpoint squad/output/jupyter/model.ckpt-21719 with bert/encoder/layer_8/attention/self/value/kernel\n"
     ]
    },
    {
     "name": "stderr",
     "output_type": "stream",
     "text": [
      "I0502 03:27:16.991050 139747718563584 tf_logging.py:115] Initialize variable bert/encoder/layer_8/attention/self/value/kernel:0 from checkpoint squad/output/jupyter/model.ckpt-21719 with bert/encoder/layer_8/attention/self/value/kernel\n"
     ]
    },
    {
     "name": "stdout",
     "output_type": "stream",
     "text": [
      "INFO:tensorflow:Initialize variable bert/encoder/layer_8/intermediate/dense/bias:0 from checkpoint squad/output/jupyter/model.ckpt-21719 with bert/encoder/layer_8/intermediate/dense/bias\n"
     ]
    },
    {
     "name": "stderr",
     "output_type": "stream",
     "text": [
      "I0502 03:27:16.995212 139747718563584 tf_logging.py:115] Initialize variable bert/encoder/layer_8/intermediate/dense/bias:0 from checkpoint squad/output/jupyter/model.ckpt-21719 with bert/encoder/layer_8/intermediate/dense/bias\n"
     ]
    },
    {
     "name": "stdout",
     "output_type": "stream",
     "text": [
      "INFO:tensorflow:Initialize variable bert/encoder/layer_8/intermediate/dense/kernel:0 from checkpoint squad/output/jupyter/model.ckpt-21719 with bert/encoder/layer_8/intermediate/dense/kernel\n"
     ]
    },
    {
     "name": "stderr",
     "output_type": "stream",
     "text": [
      "I0502 03:27:16.999473 139747718563584 tf_logging.py:115] Initialize variable bert/encoder/layer_8/intermediate/dense/kernel:0 from checkpoint squad/output/jupyter/model.ckpt-21719 with bert/encoder/layer_8/intermediate/dense/kernel\n"
     ]
    },
    {
     "name": "stdout",
     "output_type": "stream",
     "text": [
      "INFO:tensorflow:Initialize variable bert/encoder/layer_8/output/LayerNorm/beta:0 from checkpoint squad/output/jupyter/model.ckpt-21719 with bert/encoder/layer_8/output/LayerNorm/beta\n"
     ]
    },
    {
     "name": "stderr",
     "output_type": "stream",
     "text": [
      "I0502 03:27:17.003739 139747718563584 tf_logging.py:115] Initialize variable bert/encoder/layer_8/output/LayerNorm/beta:0 from checkpoint squad/output/jupyter/model.ckpt-21719 with bert/encoder/layer_8/output/LayerNorm/beta\n"
     ]
    },
    {
     "name": "stdout",
     "output_type": "stream",
     "text": [
      "INFO:tensorflow:Initialize variable bert/encoder/layer_8/output/LayerNorm/gamma:0 from checkpoint squad/output/jupyter/model.ckpt-21719 with bert/encoder/layer_8/output/LayerNorm/gamma\n"
     ]
    },
    {
     "name": "stderr",
     "output_type": "stream",
     "text": [
      "I0502 03:27:17.008052 139747718563584 tf_logging.py:115] Initialize variable bert/encoder/layer_8/output/LayerNorm/gamma:0 from checkpoint squad/output/jupyter/model.ckpt-21719 with bert/encoder/layer_8/output/LayerNorm/gamma\n"
     ]
    },
    {
     "name": "stdout",
     "output_type": "stream",
     "text": [
      "INFO:tensorflow:Initialize variable bert/encoder/layer_8/output/dense/bias:0 from checkpoint squad/output/jupyter/model.ckpt-21719 with bert/encoder/layer_8/output/dense/bias\n"
     ]
    },
    {
     "name": "stderr",
     "output_type": "stream",
     "text": [
      "I0502 03:27:17.012296 139747718563584 tf_logging.py:115] Initialize variable bert/encoder/layer_8/output/dense/bias:0 from checkpoint squad/output/jupyter/model.ckpt-21719 with bert/encoder/layer_8/output/dense/bias\n"
     ]
    },
    {
     "name": "stdout",
     "output_type": "stream",
     "text": [
      "INFO:tensorflow:Initialize variable bert/encoder/layer_8/output/dense/kernel:0 from checkpoint squad/output/jupyter/model.ckpt-21719 with bert/encoder/layer_8/output/dense/kernel\n"
     ]
    },
    {
     "name": "stderr",
     "output_type": "stream",
     "text": [
      "I0502 03:27:17.016437 139747718563584 tf_logging.py:115] Initialize variable bert/encoder/layer_8/output/dense/kernel:0 from checkpoint squad/output/jupyter/model.ckpt-21719 with bert/encoder/layer_8/output/dense/kernel\n"
     ]
    },
    {
     "name": "stdout",
     "output_type": "stream",
     "text": [
      "INFO:tensorflow:Initialize variable bert/encoder/layer_9/attention/output/LayerNorm/beta:0 from checkpoint squad/output/jupyter/model.ckpt-21719 with bert/encoder/layer_9/attention/output/LayerNorm/beta\n"
     ]
    },
    {
     "name": "stderr",
     "output_type": "stream",
     "text": [
      "I0502 03:27:17.020710 139747718563584 tf_logging.py:115] Initialize variable bert/encoder/layer_9/attention/output/LayerNorm/beta:0 from checkpoint squad/output/jupyter/model.ckpt-21719 with bert/encoder/layer_9/attention/output/LayerNorm/beta\n"
     ]
    },
    {
     "name": "stdout",
     "output_type": "stream",
     "text": [
      "INFO:tensorflow:Initialize variable bert/encoder/layer_9/attention/output/LayerNorm/gamma:0 from checkpoint squad/output/jupyter/model.ckpt-21719 with bert/encoder/layer_9/attention/output/LayerNorm/gamma\n"
     ]
    },
    {
     "name": "stderr",
     "output_type": "stream",
     "text": [
      "I0502 03:27:17.024921 139747718563584 tf_logging.py:115] Initialize variable bert/encoder/layer_9/attention/output/LayerNorm/gamma:0 from checkpoint squad/output/jupyter/model.ckpt-21719 with bert/encoder/layer_9/attention/output/LayerNorm/gamma\n"
     ]
    },
    {
     "name": "stdout",
     "output_type": "stream",
     "text": [
      "INFO:tensorflow:Initialize variable bert/encoder/layer_9/attention/output/dense/bias:0 from checkpoint squad/output/jupyter/model.ckpt-21719 with bert/encoder/layer_9/attention/output/dense/bias\n"
     ]
    },
    {
     "name": "stderr",
     "output_type": "stream",
     "text": [
      "I0502 03:27:17.029084 139747718563584 tf_logging.py:115] Initialize variable bert/encoder/layer_9/attention/output/dense/bias:0 from checkpoint squad/output/jupyter/model.ckpt-21719 with bert/encoder/layer_9/attention/output/dense/bias\n"
     ]
    },
    {
     "name": "stdout",
     "output_type": "stream",
     "text": [
      "INFO:tensorflow:Initialize variable bert/encoder/layer_9/attention/output/dense/kernel:0 from checkpoint squad/output/jupyter/model.ckpt-21719 with bert/encoder/layer_9/attention/output/dense/kernel\n"
     ]
    },
    {
     "name": "stderr",
     "output_type": "stream",
     "text": [
      "I0502 03:27:17.033349 139747718563584 tf_logging.py:115] Initialize variable bert/encoder/layer_9/attention/output/dense/kernel:0 from checkpoint squad/output/jupyter/model.ckpt-21719 with bert/encoder/layer_9/attention/output/dense/kernel\n"
     ]
    },
    {
     "name": "stdout",
     "output_type": "stream",
     "text": [
      "INFO:tensorflow:Initialize variable bert/encoder/layer_9/attention/self/key/bias:0 from checkpoint squad/output/jupyter/model.ckpt-21719 with bert/encoder/layer_9/attention/self/key/bias\n"
     ]
    },
    {
     "name": "stderr",
     "output_type": "stream",
     "text": [
      "I0502 03:27:17.037502 139747718563584 tf_logging.py:115] Initialize variable bert/encoder/layer_9/attention/self/key/bias:0 from checkpoint squad/output/jupyter/model.ckpt-21719 with bert/encoder/layer_9/attention/self/key/bias\n"
     ]
    },
    {
     "name": "stdout",
     "output_type": "stream",
     "text": [
      "INFO:tensorflow:Initialize variable bert/encoder/layer_9/attention/self/key/kernel:0 from checkpoint squad/output/jupyter/model.ckpt-21719 with bert/encoder/layer_9/attention/self/key/kernel\n"
     ]
    },
    {
     "name": "stderr",
     "output_type": "stream",
     "text": [
      "I0502 03:27:17.042262 139747718563584 tf_logging.py:115] Initialize variable bert/encoder/layer_9/attention/self/key/kernel:0 from checkpoint squad/output/jupyter/model.ckpt-21719 with bert/encoder/layer_9/attention/self/key/kernel\n"
     ]
    },
    {
     "name": "stdout",
     "output_type": "stream",
     "text": [
      "INFO:tensorflow:Initialize variable bert/encoder/layer_9/attention/self/query/bias:0 from checkpoint squad/output/jupyter/model.ckpt-21719 with bert/encoder/layer_9/attention/self/query/bias\n"
     ]
    },
    {
     "name": "stderr",
     "output_type": "stream",
     "text": [
      "I0502 03:27:17.046469 139747718563584 tf_logging.py:115] Initialize variable bert/encoder/layer_9/attention/self/query/bias:0 from checkpoint squad/output/jupyter/model.ckpt-21719 with bert/encoder/layer_9/attention/self/query/bias\n"
     ]
    },
    {
     "name": "stdout",
     "output_type": "stream",
     "text": [
      "INFO:tensorflow:Initialize variable bert/encoder/layer_9/attention/self/query/kernel:0 from checkpoint squad/output/jupyter/model.ckpt-21719 with bert/encoder/layer_9/attention/self/query/kernel\n"
     ]
    },
    {
     "name": "stderr",
     "output_type": "stream",
     "text": [
      "I0502 03:27:17.050824 139747718563584 tf_logging.py:115] Initialize variable bert/encoder/layer_9/attention/self/query/kernel:0 from checkpoint squad/output/jupyter/model.ckpt-21719 with bert/encoder/layer_9/attention/self/query/kernel\n"
     ]
    },
    {
     "name": "stdout",
     "output_type": "stream",
     "text": [
      "INFO:tensorflow:Initialize variable bert/encoder/layer_9/attention/self/value/bias:0 from checkpoint squad/output/jupyter/model.ckpt-21719 with bert/encoder/layer_9/attention/self/value/bias\n"
     ]
    },
    {
     "name": "stderr",
     "output_type": "stream",
     "text": [
      "I0502 03:27:17.055190 139747718563584 tf_logging.py:115] Initialize variable bert/encoder/layer_9/attention/self/value/bias:0 from checkpoint squad/output/jupyter/model.ckpt-21719 with bert/encoder/layer_9/attention/self/value/bias\n"
     ]
    },
    {
     "name": "stdout",
     "output_type": "stream",
     "text": [
      "INFO:tensorflow:Initialize variable bert/encoder/layer_9/attention/self/value/kernel:0 from checkpoint squad/output/jupyter/model.ckpt-21719 with bert/encoder/layer_9/attention/self/value/kernel\n"
     ]
    },
    {
     "name": "stderr",
     "output_type": "stream",
     "text": [
      "I0502 03:27:17.059391 139747718563584 tf_logging.py:115] Initialize variable bert/encoder/layer_9/attention/self/value/kernel:0 from checkpoint squad/output/jupyter/model.ckpt-21719 with bert/encoder/layer_9/attention/self/value/kernel\n"
     ]
    },
    {
     "name": "stdout",
     "output_type": "stream",
     "text": [
      "INFO:tensorflow:Initialize variable bert/encoder/layer_9/intermediate/dense/bias:0 from checkpoint squad/output/jupyter/model.ckpt-21719 with bert/encoder/layer_9/intermediate/dense/bias\n"
     ]
    },
    {
     "name": "stderr",
     "output_type": "stream",
     "text": [
      "I0502 03:27:17.063705 139747718563584 tf_logging.py:115] Initialize variable bert/encoder/layer_9/intermediate/dense/bias:0 from checkpoint squad/output/jupyter/model.ckpt-21719 with bert/encoder/layer_9/intermediate/dense/bias\n"
     ]
    },
    {
     "name": "stdout",
     "output_type": "stream",
     "text": [
      "INFO:tensorflow:Initialize variable bert/encoder/layer_9/intermediate/dense/kernel:0 from checkpoint squad/output/jupyter/model.ckpt-21719 with bert/encoder/layer_9/intermediate/dense/kernel\n"
     ]
    },
    {
     "name": "stderr",
     "output_type": "stream",
     "text": [
      "I0502 03:27:17.068021 139747718563584 tf_logging.py:115] Initialize variable bert/encoder/layer_9/intermediate/dense/kernel:0 from checkpoint squad/output/jupyter/model.ckpt-21719 with bert/encoder/layer_9/intermediate/dense/kernel\n"
     ]
    },
    {
     "name": "stdout",
     "output_type": "stream",
     "text": [
      "INFO:tensorflow:Initialize variable bert/encoder/layer_9/output/LayerNorm/beta:0 from checkpoint squad/output/jupyter/model.ckpt-21719 with bert/encoder/layer_9/output/LayerNorm/beta\n"
     ]
    },
    {
     "name": "stderr",
     "output_type": "stream",
     "text": [
      "I0502 03:27:17.072192 139747718563584 tf_logging.py:115] Initialize variable bert/encoder/layer_9/output/LayerNorm/beta:0 from checkpoint squad/output/jupyter/model.ckpt-21719 with bert/encoder/layer_9/output/LayerNorm/beta\n"
     ]
    },
    {
     "name": "stdout",
     "output_type": "stream",
     "text": [
      "INFO:tensorflow:Initialize variable bert/encoder/layer_9/output/LayerNorm/gamma:0 from checkpoint squad/output/jupyter/model.ckpt-21719 with bert/encoder/layer_9/output/LayerNorm/gamma\n"
     ]
    },
    {
     "name": "stderr",
     "output_type": "stream",
     "text": [
      "I0502 03:27:17.076492 139747718563584 tf_logging.py:115] Initialize variable bert/encoder/layer_9/output/LayerNorm/gamma:0 from checkpoint squad/output/jupyter/model.ckpt-21719 with bert/encoder/layer_9/output/LayerNorm/gamma\n"
     ]
    },
    {
     "name": "stdout",
     "output_type": "stream",
     "text": [
      "INFO:tensorflow:Initialize variable bert/encoder/layer_9/output/dense/bias:0 from checkpoint squad/output/jupyter/model.ckpt-21719 with bert/encoder/layer_9/output/dense/bias\n"
     ]
    },
    {
     "name": "stderr",
     "output_type": "stream",
     "text": [
      "I0502 03:27:17.080666 139747718563584 tf_logging.py:115] Initialize variable bert/encoder/layer_9/output/dense/bias:0 from checkpoint squad/output/jupyter/model.ckpt-21719 with bert/encoder/layer_9/output/dense/bias\n"
     ]
    },
    {
     "name": "stdout",
     "output_type": "stream",
     "text": [
      "INFO:tensorflow:Initialize variable bert/encoder/layer_9/output/dense/kernel:0 from checkpoint squad/output/jupyter/model.ckpt-21719 with bert/encoder/layer_9/output/dense/kernel\n"
     ]
    },
    {
     "name": "stderr",
     "output_type": "stream",
     "text": [
      "I0502 03:27:17.084981 139747718563584 tf_logging.py:115] Initialize variable bert/encoder/layer_9/output/dense/kernel:0 from checkpoint squad/output/jupyter/model.ckpt-21719 with bert/encoder/layer_9/output/dense/kernel\n"
     ]
    },
    {
     "name": "stdout",
     "output_type": "stream",
     "text": [
      "INFO:tensorflow:Initialize variable bert/pooler/dense/bias:0 from checkpoint squad/output/jupyter/model.ckpt-21719 with bert/pooler/dense/bias\n"
     ]
    },
    {
     "name": "stderr",
     "output_type": "stream",
     "text": [
      "I0502 03:27:17.089202 139747718563584 tf_logging.py:115] Initialize variable bert/pooler/dense/bias:0 from checkpoint squad/output/jupyter/model.ckpt-21719 with bert/pooler/dense/bias\n"
     ]
    },
    {
     "name": "stdout",
     "output_type": "stream",
     "text": [
      "INFO:tensorflow:Initialize variable bert/pooler/dense/kernel:0 from checkpoint squad/output/jupyter/model.ckpt-21719 with bert/pooler/dense/kernel\n"
     ]
    },
    {
     "name": "stderr",
     "output_type": "stream",
     "text": [
      "I0502 03:27:17.093451 139747718563584 tf_logging.py:115] Initialize variable bert/pooler/dense/kernel:0 from checkpoint squad/output/jupyter/model.ckpt-21719 with bert/pooler/dense/kernel\n"
     ]
    },
    {
     "name": "stdout",
     "output_type": "stream",
     "text": [
      "INFO:tensorflow:Initialize variable cls/squad/output_bias:0 from checkpoint squad/output/jupyter/model.ckpt-21719 with cls/squad/output_bias\n"
     ]
    },
    {
     "name": "stderr",
     "output_type": "stream",
     "text": [
      "I0502 03:27:17.097864 139747718563584 tf_logging.py:115] Initialize variable cls/squad/output_bias:0 from checkpoint squad/output/jupyter/model.ckpt-21719 with cls/squad/output_bias\n"
     ]
    },
    {
     "name": "stdout",
     "output_type": "stream",
     "text": [
      "INFO:tensorflow:Initialize variable cls/squad/output_weights:0 from checkpoint squad/output/jupyter/model.ckpt-21719 with cls/squad/output_weights\n"
     ]
    },
    {
     "name": "stderr",
     "output_type": "stream",
     "text": [
      "I0502 03:27:17.102138 139747718563584 tf_logging.py:115] Initialize variable cls/squad/output_weights:0 from checkpoint squad/output/jupyter/model.ckpt-21719 with cls/squad/output_weights\n"
     ]
    },
    {
     "name": "stdout",
     "output_type": "stream",
     "text": [
      "INFO:tensorflow:**** Trainable Variables ****\n"
     ]
    },
    {
     "name": "stderr",
     "output_type": "stream",
     "text": [
      "I0502 03:27:17.103178 139747718563584 tf_logging.py:115] **** Trainable Variables ****\n"
     ]
    },
    {
     "name": "stdout",
     "output_type": "stream",
     "text": [
      "INFO:tensorflow:  name = bert/embeddings/word_embeddings:0, shape = (30522, 768), *INIT_FROM_CKPT*\n"
     ]
    },
    {
     "name": "stderr",
     "output_type": "stream",
     "text": [
      "I0502 03:27:17.103958 139747718563584 tf_logging.py:115]   name = bert/embeddings/word_embeddings:0, shape = (30522, 768), *INIT_FROM_CKPT*\n"
     ]
    },
    {
     "name": "stdout",
     "output_type": "stream",
     "text": [
      "INFO:tensorflow:  name = bert/embeddings/token_type_embeddings:0, shape = (2, 768), *INIT_FROM_CKPT*\n"
     ]
    },
    {
     "name": "stderr",
     "output_type": "stream",
     "text": [
      "I0502 03:27:17.104835 139747718563584 tf_logging.py:115]   name = bert/embeddings/token_type_embeddings:0, shape = (2, 768), *INIT_FROM_CKPT*\n"
     ]
    },
    {
     "name": "stdout",
     "output_type": "stream",
     "text": [
      "INFO:tensorflow:  name = bert/embeddings/position_embeddings:0, shape = (512, 768), *INIT_FROM_CKPT*\n"
     ]
    },
    {
     "name": "stderr",
     "output_type": "stream",
     "text": [
      "I0502 03:27:17.105818 139747718563584 tf_logging.py:115]   name = bert/embeddings/position_embeddings:0, shape = (512, 768), *INIT_FROM_CKPT*\n"
     ]
    },
    {
     "name": "stdout",
     "output_type": "stream",
     "text": [
      "INFO:tensorflow:  name = bert/embeddings/LayerNorm/beta:0, shape = (768,), *INIT_FROM_CKPT*\n"
     ]
    },
    {
     "name": "stderr",
     "output_type": "stream",
     "text": [
      "I0502 03:27:17.106647 139747718563584 tf_logging.py:115]   name = bert/embeddings/LayerNorm/beta:0, shape = (768,), *INIT_FROM_CKPT*\n"
     ]
    },
    {
     "name": "stdout",
     "output_type": "stream",
     "text": [
      "INFO:tensorflow:  name = bert/embeddings/LayerNorm/gamma:0, shape = (768,), *INIT_FROM_CKPT*\n"
     ]
    },
    {
     "name": "stderr",
     "output_type": "stream",
     "text": [
      "I0502 03:27:17.107662 139747718563584 tf_logging.py:115]   name = bert/embeddings/LayerNorm/gamma:0, shape = (768,), *INIT_FROM_CKPT*\n"
     ]
    },
    {
     "name": "stdout",
     "output_type": "stream",
     "text": [
      "INFO:tensorflow:  name = bert/encoder/layer_0/attention/self/query/kernel:0, shape = (768, 768), *INIT_FROM_CKPT*\n"
     ]
    },
    {
     "name": "stderr",
     "output_type": "stream",
     "text": [
      "I0502 03:27:17.108666 139747718563584 tf_logging.py:115]   name = bert/encoder/layer_0/attention/self/query/kernel:0, shape = (768, 768), *INIT_FROM_CKPT*\n"
     ]
    },
    {
     "name": "stdout",
     "output_type": "stream",
     "text": [
      "INFO:tensorflow:  name = bert/encoder/layer_0/attention/self/query/bias:0, shape = (768,), *INIT_FROM_CKPT*\n"
     ]
    },
    {
     "name": "stderr",
     "output_type": "stream",
     "text": [
      "I0502 03:27:17.109514 139747718563584 tf_logging.py:115]   name = bert/encoder/layer_0/attention/self/query/bias:0, shape = (768,), *INIT_FROM_CKPT*\n"
     ]
    },
    {
     "name": "stdout",
     "output_type": "stream",
     "text": [
      "INFO:tensorflow:  name = bert/encoder/layer_0/attention/self/key/kernel:0, shape = (768, 768), *INIT_FROM_CKPT*\n"
     ]
    },
    {
     "name": "stderr",
     "output_type": "stream",
     "text": [
      "I0502 03:27:17.110522 139747718563584 tf_logging.py:115]   name = bert/encoder/layer_0/attention/self/key/kernel:0, shape = (768, 768), *INIT_FROM_CKPT*\n"
     ]
    },
    {
     "name": "stdout",
     "output_type": "stream",
     "text": [
      "INFO:tensorflow:  name = bert/encoder/layer_0/attention/self/key/bias:0, shape = (768,), *INIT_FROM_CKPT*\n"
     ]
    },
    {
     "name": "stderr",
     "output_type": "stream",
     "text": [
      "I0502 03:27:17.111352 139747718563584 tf_logging.py:115]   name = bert/encoder/layer_0/attention/self/key/bias:0, shape = (768,), *INIT_FROM_CKPT*\n"
     ]
    },
    {
     "name": "stdout",
     "output_type": "stream",
     "text": [
      "INFO:tensorflow:  name = bert/encoder/layer_0/attention/self/value/kernel:0, shape = (768, 768), *INIT_FROM_CKPT*\n"
     ]
    },
    {
     "name": "stderr",
     "output_type": "stream",
     "text": [
      "I0502 03:27:17.112219 139747718563584 tf_logging.py:115]   name = bert/encoder/layer_0/attention/self/value/kernel:0, shape = (768, 768), *INIT_FROM_CKPT*\n"
     ]
    },
    {
     "name": "stdout",
     "output_type": "stream",
     "text": [
      "INFO:tensorflow:  name = bert/encoder/layer_0/attention/self/value/bias:0, shape = (768,), *INIT_FROM_CKPT*\n"
     ]
    },
    {
     "name": "stderr",
     "output_type": "stream",
     "text": [
      "I0502 03:27:17.113078 139747718563584 tf_logging.py:115]   name = bert/encoder/layer_0/attention/self/value/bias:0, shape = (768,), *INIT_FROM_CKPT*\n"
     ]
    },
    {
     "name": "stdout",
     "output_type": "stream",
     "text": [
      "INFO:tensorflow:  name = bert/encoder/layer_0/attention/output/dense/kernel:0, shape = (768, 768), *INIT_FROM_CKPT*\n"
     ]
    },
    {
     "name": "stderr",
     "output_type": "stream",
     "text": [
      "I0502 03:27:17.113859 139747718563584 tf_logging.py:115]   name = bert/encoder/layer_0/attention/output/dense/kernel:0, shape = (768, 768), *INIT_FROM_CKPT*\n"
     ]
    },
    {
     "name": "stdout",
     "output_type": "stream",
     "text": [
      "INFO:tensorflow:  name = bert/encoder/layer_0/attention/output/dense/bias:0, shape = (768,), *INIT_FROM_CKPT*\n"
     ]
    },
    {
     "name": "stderr",
     "output_type": "stream",
     "text": [
      "I0502 03:27:17.114682 139747718563584 tf_logging.py:115]   name = bert/encoder/layer_0/attention/output/dense/bias:0, shape = (768,), *INIT_FROM_CKPT*\n"
     ]
    },
    {
     "name": "stdout",
     "output_type": "stream",
     "text": [
      "INFO:tensorflow:  name = bert/encoder/layer_0/attention/output/LayerNorm/beta:0, shape = (768,), *INIT_FROM_CKPT*\n"
     ]
    },
    {
     "name": "stderr",
     "output_type": "stream",
     "text": [
      "I0502 03:27:17.115499 139747718563584 tf_logging.py:115]   name = bert/encoder/layer_0/attention/output/LayerNorm/beta:0, shape = (768,), *INIT_FROM_CKPT*\n"
     ]
    },
    {
     "name": "stdout",
     "output_type": "stream",
     "text": [
      "INFO:tensorflow:  name = bert/encoder/layer_0/attention/output/LayerNorm/gamma:0, shape = (768,), *INIT_FROM_CKPT*\n"
     ]
    },
    {
     "name": "stderr",
     "output_type": "stream",
     "text": [
      "I0502 03:27:17.116308 139747718563584 tf_logging.py:115]   name = bert/encoder/layer_0/attention/output/LayerNorm/gamma:0, shape = (768,), *INIT_FROM_CKPT*\n"
     ]
    },
    {
     "name": "stdout",
     "output_type": "stream",
     "text": [
      "INFO:tensorflow:  name = bert/encoder/layer_0/intermediate/dense/kernel:0, shape = (768, 3072), *INIT_FROM_CKPT*\n"
     ]
    },
    {
     "name": "stderr",
     "output_type": "stream",
     "text": [
      "I0502 03:27:17.117028 139747718563584 tf_logging.py:115]   name = bert/encoder/layer_0/intermediate/dense/kernel:0, shape = (768, 3072), *INIT_FROM_CKPT*\n"
     ]
    },
    {
     "name": "stdout",
     "output_type": "stream",
     "text": [
      "INFO:tensorflow:  name = bert/encoder/layer_0/intermediate/dense/bias:0, shape = (3072,), *INIT_FROM_CKPT*\n"
     ]
    },
    {
     "name": "stderr",
     "output_type": "stream",
     "text": [
      "I0502 03:27:17.117891 139747718563584 tf_logging.py:115]   name = bert/encoder/layer_0/intermediate/dense/bias:0, shape = (3072,), *INIT_FROM_CKPT*\n"
     ]
    },
    {
     "name": "stdout",
     "output_type": "stream",
     "text": [
      "INFO:tensorflow:  name = bert/encoder/layer_0/output/dense/kernel:0, shape = (3072, 768), *INIT_FROM_CKPT*\n"
     ]
    },
    {
     "name": "stderr",
     "output_type": "stream",
     "text": [
      "I0502 03:27:17.118769 139747718563584 tf_logging.py:115]   name = bert/encoder/layer_0/output/dense/kernel:0, shape = (3072, 768), *INIT_FROM_CKPT*\n"
     ]
    },
    {
     "name": "stdout",
     "output_type": "stream",
     "text": [
      "INFO:tensorflow:  name = bert/encoder/layer_0/output/dense/bias:0, shape = (768,), *INIT_FROM_CKPT*\n"
     ]
    },
    {
     "name": "stderr",
     "output_type": "stream",
     "text": [
      "I0502 03:27:17.119793 139747718563584 tf_logging.py:115]   name = bert/encoder/layer_0/output/dense/bias:0, shape = (768,), *INIT_FROM_CKPT*\n"
     ]
    },
    {
     "name": "stdout",
     "output_type": "stream",
     "text": [
      "INFO:tensorflow:  name = bert/encoder/layer_0/output/LayerNorm/beta:0, shape = (768,), *INIT_FROM_CKPT*\n"
     ]
    },
    {
     "name": "stderr",
     "output_type": "stream",
     "text": [
      "I0502 03:27:17.120757 139747718563584 tf_logging.py:115]   name = bert/encoder/layer_0/output/LayerNorm/beta:0, shape = (768,), *INIT_FROM_CKPT*\n"
     ]
    },
    {
     "name": "stdout",
     "output_type": "stream",
     "text": [
      "INFO:tensorflow:  name = bert/encoder/layer_0/output/LayerNorm/gamma:0, shape = (768,), *INIT_FROM_CKPT*\n"
     ]
    },
    {
     "name": "stderr",
     "output_type": "stream",
     "text": [
      "I0502 03:27:17.121558 139747718563584 tf_logging.py:115]   name = bert/encoder/layer_0/output/LayerNorm/gamma:0, shape = (768,), *INIT_FROM_CKPT*\n"
     ]
    },
    {
     "name": "stdout",
     "output_type": "stream",
     "text": [
      "INFO:tensorflow:  name = bert/encoder/layer_1/attention/self/query/kernel:0, shape = (768, 768), *INIT_FROM_CKPT*\n"
     ]
    },
    {
     "name": "stderr",
     "output_type": "stream",
     "text": [
      "I0502 03:27:17.122506 139747718563584 tf_logging.py:115]   name = bert/encoder/layer_1/attention/self/query/kernel:0, shape = (768, 768), *INIT_FROM_CKPT*\n"
     ]
    },
    {
     "name": "stdout",
     "output_type": "stream",
     "text": [
      "INFO:tensorflow:  name = bert/encoder/layer_1/attention/self/query/bias:0, shape = (768,), *INIT_FROM_CKPT*\n"
     ]
    },
    {
     "name": "stderr",
     "output_type": "stream",
     "text": [
      "I0502 03:27:17.123373 139747718563584 tf_logging.py:115]   name = bert/encoder/layer_1/attention/self/query/bias:0, shape = (768,), *INIT_FROM_CKPT*\n"
     ]
    },
    {
     "name": "stdout",
     "output_type": "stream",
     "text": [
      "INFO:tensorflow:  name = bert/encoder/layer_1/attention/self/key/kernel:0, shape = (768, 768), *INIT_FROM_CKPT*\n"
     ]
    },
    {
     "name": "stderr",
     "output_type": "stream",
     "text": [
      "I0502 03:27:17.124427 139747718563584 tf_logging.py:115]   name = bert/encoder/layer_1/attention/self/key/kernel:0, shape = (768, 768), *INIT_FROM_CKPT*\n"
     ]
    },
    {
     "name": "stdout",
     "output_type": "stream",
     "text": [
      "INFO:tensorflow:  name = bert/encoder/layer_1/attention/self/key/bias:0, shape = (768,), *INIT_FROM_CKPT*\n"
     ]
    },
    {
     "name": "stderr",
     "output_type": "stream",
     "text": [
      "I0502 03:27:17.125337 139747718563584 tf_logging.py:115]   name = bert/encoder/layer_1/attention/self/key/bias:0, shape = (768,), *INIT_FROM_CKPT*\n"
     ]
    },
    {
     "name": "stdout",
     "output_type": "stream",
     "text": [
      "INFO:tensorflow:  name = bert/encoder/layer_1/attention/self/value/kernel:0, shape = (768, 768), *INIT_FROM_CKPT*\n"
     ]
    },
    {
     "name": "stderr",
     "output_type": "stream",
     "text": [
      "I0502 03:27:17.126176 139747718563584 tf_logging.py:115]   name = bert/encoder/layer_1/attention/self/value/kernel:0, shape = (768, 768), *INIT_FROM_CKPT*\n"
     ]
    },
    {
     "name": "stdout",
     "output_type": "stream",
     "text": [
      "INFO:tensorflow:  name = bert/encoder/layer_1/attention/self/value/bias:0, shape = (768,), *INIT_FROM_CKPT*\n"
     ]
    },
    {
     "name": "stderr",
     "output_type": "stream",
     "text": [
      "I0502 03:27:17.127091 139747718563584 tf_logging.py:115]   name = bert/encoder/layer_1/attention/self/value/bias:0, shape = (768,), *INIT_FROM_CKPT*\n"
     ]
    },
    {
     "name": "stdout",
     "output_type": "stream",
     "text": [
      "INFO:tensorflow:  name = bert/encoder/layer_1/attention/output/dense/kernel:0, shape = (768, 768), *INIT_FROM_CKPT*\n"
     ]
    },
    {
     "name": "stderr",
     "output_type": "stream",
     "text": [
      "I0502 03:27:17.127928 139747718563584 tf_logging.py:115]   name = bert/encoder/layer_1/attention/output/dense/kernel:0, shape = (768, 768), *INIT_FROM_CKPT*\n"
     ]
    },
    {
     "name": "stdout",
     "output_type": "stream",
     "text": [
      "INFO:tensorflow:  name = bert/encoder/layer_1/attention/output/dense/bias:0, shape = (768,), *INIT_FROM_CKPT*\n"
     ]
    },
    {
     "name": "stderr",
     "output_type": "stream",
     "text": [
      "I0502 03:27:17.128804 139747718563584 tf_logging.py:115]   name = bert/encoder/layer_1/attention/output/dense/bias:0, shape = (768,), *INIT_FROM_CKPT*\n"
     ]
    },
    {
     "name": "stdout",
     "output_type": "stream",
     "text": [
      "INFO:tensorflow:  name = bert/encoder/layer_1/attention/output/LayerNorm/beta:0, shape = (768,), *INIT_FROM_CKPT*\n"
     ]
    },
    {
     "name": "stderr",
     "output_type": "stream",
     "text": [
      "I0502 03:27:17.129637 139747718563584 tf_logging.py:115]   name = bert/encoder/layer_1/attention/output/LayerNorm/beta:0, shape = (768,), *INIT_FROM_CKPT*\n"
     ]
    },
    {
     "name": "stdout",
     "output_type": "stream",
     "text": [
      "INFO:tensorflow:  name = bert/encoder/layer_1/attention/output/LayerNorm/gamma:0, shape = (768,), *INIT_FROM_CKPT*\n"
     ]
    },
    {
     "name": "stderr",
     "output_type": "stream",
     "text": [
      "I0502 03:27:17.130666 139747718563584 tf_logging.py:115]   name = bert/encoder/layer_1/attention/output/LayerNorm/gamma:0, shape = (768,), *INIT_FROM_CKPT*\n"
     ]
    },
    {
     "name": "stdout",
     "output_type": "stream",
     "text": [
      "INFO:tensorflow:  name = bert/encoder/layer_1/intermediate/dense/kernel:0, shape = (768, 3072), *INIT_FROM_CKPT*\n"
     ]
    },
    {
     "name": "stderr",
     "output_type": "stream",
     "text": [
      "I0502 03:27:17.131513 139747718563584 tf_logging.py:115]   name = bert/encoder/layer_1/intermediate/dense/kernel:0, shape = (768, 3072), *INIT_FROM_CKPT*\n"
     ]
    },
    {
     "name": "stdout",
     "output_type": "stream",
     "text": [
      "INFO:tensorflow:  name = bert/encoder/layer_1/intermediate/dense/bias:0, shape = (3072,), *INIT_FROM_CKPT*\n"
     ]
    },
    {
     "name": "stderr",
     "output_type": "stream",
     "text": [
      "I0502 03:27:17.132354 139747718563584 tf_logging.py:115]   name = bert/encoder/layer_1/intermediate/dense/bias:0, shape = (3072,), *INIT_FROM_CKPT*\n"
     ]
    },
    {
     "name": "stdout",
     "output_type": "stream",
     "text": [
      "INFO:tensorflow:  name = bert/encoder/layer_1/output/dense/kernel:0, shape = (3072, 768), *INIT_FROM_CKPT*\n"
     ]
    },
    {
     "name": "stderr",
     "output_type": "stream",
     "text": [
      "I0502 03:27:17.133255 139747718563584 tf_logging.py:115]   name = bert/encoder/layer_1/output/dense/kernel:0, shape = (3072, 768), *INIT_FROM_CKPT*\n"
     ]
    },
    {
     "name": "stdout",
     "output_type": "stream",
     "text": [
      "INFO:tensorflow:  name = bert/encoder/layer_1/output/dense/bias:0, shape = (768,), *INIT_FROM_CKPT*\n"
     ]
    },
    {
     "name": "stderr",
     "output_type": "stream",
     "text": [
      "I0502 03:27:17.134067 139747718563584 tf_logging.py:115]   name = bert/encoder/layer_1/output/dense/bias:0, shape = (768,), *INIT_FROM_CKPT*\n"
     ]
    },
    {
     "name": "stdout",
     "output_type": "stream",
     "text": [
      "INFO:tensorflow:  name = bert/encoder/layer_1/output/LayerNorm/beta:0, shape = (768,), *INIT_FROM_CKPT*\n"
     ]
    },
    {
     "name": "stderr",
     "output_type": "stream",
     "text": [
      "I0502 03:27:17.134974 139747718563584 tf_logging.py:115]   name = bert/encoder/layer_1/output/LayerNorm/beta:0, shape = (768,), *INIT_FROM_CKPT*\n"
     ]
    },
    {
     "name": "stdout",
     "output_type": "stream",
     "text": [
      "INFO:tensorflow:  name = bert/encoder/layer_1/output/LayerNorm/gamma:0, shape = (768,), *INIT_FROM_CKPT*\n"
     ]
    },
    {
     "name": "stderr",
     "output_type": "stream",
     "text": [
      "I0502 03:27:17.135817 139747718563584 tf_logging.py:115]   name = bert/encoder/layer_1/output/LayerNorm/gamma:0, shape = (768,), *INIT_FROM_CKPT*\n"
     ]
    },
    {
     "name": "stdout",
     "output_type": "stream",
     "text": [
      "INFO:tensorflow:  name = bert/encoder/layer_2/attention/self/query/kernel:0, shape = (768, 768), *INIT_FROM_CKPT*\n"
     ]
    },
    {
     "name": "stderr",
     "output_type": "stream",
     "text": [
      "I0502 03:27:17.136851 139747718563584 tf_logging.py:115]   name = bert/encoder/layer_2/attention/self/query/kernel:0, shape = (768, 768), *INIT_FROM_CKPT*\n"
     ]
    },
    {
     "name": "stdout",
     "output_type": "stream",
     "text": [
      "INFO:tensorflow:  name = bert/encoder/layer_2/attention/self/query/bias:0, shape = (768,), *INIT_FROM_CKPT*\n"
     ]
    },
    {
     "name": "stderr",
     "output_type": "stream",
     "text": [
      "I0502 03:27:17.137756 139747718563584 tf_logging.py:115]   name = bert/encoder/layer_2/attention/self/query/bias:0, shape = (768,), *INIT_FROM_CKPT*\n"
     ]
    },
    {
     "name": "stdout",
     "output_type": "stream",
     "text": [
      "INFO:tensorflow:  name = bert/encoder/layer_2/attention/self/key/kernel:0, shape = (768, 768), *INIT_FROM_CKPT*\n"
     ]
    },
    {
     "name": "stderr",
     "output_type": "stream",
     "text": [
      "I0502 03:27:17.138579 139747718563584 tf_logging.py:115]   name = bert/encoder/layer_2/attention/self/key/kernel:0, shape = (768, 768), *INIT_FROM_CKPT*\n"
     ]
    },
    {
     "name": "stdout",
     "output_type": "stream",
     "text": [
      "INFO:tensorflow:  name = bert/encoder/layer_2/attention/self/key/bias:0, shape = (768,), *INIT_FROM_CKPT*\n"
     ]
    },
    {
     "name": "stderr",
     "output_type": "stream",
     "text": [
      "I0502 03:27:17.139427 139747718563584 tf_logging.py:115]   name = bert/encoder/layer_2/attention/self/key/bias:0, shape = (768,), *INIT_FROM_CKPT*\n"
     ]
    },
    {
     "name": "stdout",
     "output_type": "stream",
     "text": [
      "INFO:tensorflow:  name = bert/encoder/layer_2/attention/self/value/kernel:0, shape = (768, 768), *INIT_FROM_CKPT*\n"
     ]
    },
    {
     "name": "stderr",
     "output_type": "stream",
     "text": [
      "I0502 03:27:17.140247 139747718563584 tf_logging.py:115]   name = bert/encoder/layer_2/attention/self/value/kernel:0, shape = (768, 768), *INIT_FROM_CKPT*\n"
     ]
    },
    {
     "name": "stdout",
     "output_type": "stream",
     "text": [
      "INFO:tensorflow:  name = bert/encoder/layer_2/attention/self/value/bias:0, shape = (768,), *INIT_FROM_CKPT*\n"
     ]
    },
    {
     "name": "stderr",
     "output_type": "stream",
     "text": [
      "I0502 03:27:17.141264 139747718563584 tf_logging.py:115]   name = bert/encoder/layer_2/attention/self/value/bias:0, shape = (768,), *INIT_FROM_CKPT*\n"
     ]
    },
    {
     "name": "stdout",
     "output_type": "stream",
     "text": [
      "INFO:tensorflow:  name = bert/encoder/layer_2/attention/output/dense/kernel:0, shape = (768, 768), *INIT_FROM_CKPT*\n"
     ]
    },
    {
     "name": "stderr",
     "output_type": "stream",
     "text": [
      "I0502 03:27:17.142205 139747718563584 tf_logging.py:115]   name = bert/encoder/layer_2/attention/output/dense/kernel:0, shape = (768, 768), *INIT_FROM_CKPT*\n"
     ]
    },
    {
     "name": "stdout",
     "output_type": "stream",
     "text": [
      "INFO:tensorflow:  name = bert/encoder/layer_2/attention/output/dense/bias:0, shape = (768,), *INIT_FROM_CKPT*\n"
     ]
    },
    {
     "name": "stderr",
     "output_type": "stream",
     "text": [
      "I0502 03:27:17.142992 139747718563584 tf_logging.py:115]   name = bert/encoder/layer_2/attention/output/dense/bias:0, shape = (768,), *INIT_FROM_CKPT*\n"
     ]
    },
    {
     "name": "stdout",
     "output_type": "stream",
     "text": [
      "INFO:tensorflow:  name = bert/encoder/layer_2/attention/output/LayerNorm/beta:0, shape = (768,), *INIT_FROM_CKPT*\n"
     ]
    },
    {
     "name": "stderr",
     "output_type": "stream",
     "text": [
      "I0502 03:27:17.143832 139747718563584 tf_logging.py:115]   name = bert/encoder/layer_2/attention/output/LayerNorm/beta:0, shape = (768,), *INIT_FROM_CKPT*\n"
     ]
    },
    {
     "name": "stdout",
     "output_type": "stream",
     "text": [
      "INFO:tensorflow:  name = bert/encoder/layer_2/attention/output/LayerNorm/gamma:0, shape = (768,), *INIT_FROM_CKPT*\n"
     ]
    },
    {
     "name": "stderr",
     "output_type": "stream",
     "text": [
      "I0502 03:27:17.144655 139747718563584 tf_logging.py:115]   name = bert/encoder/layer_2/attention/output/LayerNorm/gamma:0, shape = (768,), *INIT_FROM_CKPT*\n"
     ]
    },
    {
     "name": "stdout",
     "output_type": "stream",
     "text": [
      "INFO:tensorflow:  name = bert/encoder/layer_2/intermediate/dense/kernel:0, shape = (768, 3072), *INIT_FROM_CKPT*\n"
     ]
    },
    {
     "name": "stderr",
     "output_type": "stream",
     "text": [
      "I0502 03:27:17.145509 139747718563584 tf_logging.py:115]   name = bert/encoder/layer_2/intermediate/dense/kernel:0, shape = (768, 3072), *INIT_FROM_CKPT*\n"
     ]
    },
    {
     "name": "stdout",
     "output_type": "stream",
     "text": [
      "INFO:tensorflow:  name = bert/encoder/layer_2/intermediate/dense/bias:0, shape = (3072,), *INIT_FROM_CKPT*\n"
     ]
    },
    {
     "name": "stderr",
     "output_type": "stream",
     "text": [
      "I0502 03:27:17.146440 139747718563584 tf_logging.py:115]   name = bert/encoder/layer_2/intermediate/dense/bias:0, shape = (3072,), *INIT_FROM_CKPT*\n"
     ]
    },
    {
     "name": "stdout",
     "output_type": "stream",
     "text": [
      "INFO:tensorflow:  name = bert/encoder/layer_2/output/dense/kernel:0, shape = (3072, 768), *INIT_FROM_CKPT*\n"
     ]
    },
    {
     "name": "stderr",
     "output_type": "stream",
     "text": [
      "I0502 03:27:17.147270 139747718563584 tf_logging.py:115]   name = bert/encoder/layer_2/output/dense/kernel:0, shape = (3072, 768), *INIT_FROM_CKPT*\n"
     ]
    },
    {
     "name": "stdout",
     "output_type": "stream",
     "text": [
      "INFO:tensorflow:  name = bert/encoder/layer_2/output/dense/bias:0, shape = (768,), *INIT_FROM_CKPT*\n"
     ]
    },
    {
     "name": "stderr",
     "output_type": "stream",
     "text": [
      "I0502 03:27:17.148106 139747718563584 tf_logging.py:115]   name = bert/encoder/layer_2/output/dense/bias:0, shape = (768,), *INIT_FROM_CKPT*\n"
     ]
    },
    {
     "name": "stdout",
     "output_type": "stream",
     "text": [
      "INFO:tensorflow:  name = bert/encoder/layer_2/output/LayerNorm/beta:0, shape = (768,), *INIT_FROM_CKPT*\n"
     ]
    },
    {
     "name": "stderr",
     "output_type": "stream",
     "text": [
      "I0502 03:27:17.148938 139747718563584 tf_logging.py:115]   name = bert/encoder/layer_2/output/LayerNorm/beta:0, shape = (768,), *INIT_FROM_CKPT*\n"
     ]
    },
    {
     "name": "stdout",
     "output_type": "stream",
     "text": [
      "INFO:tensorflow:  name = bert/encoder/layer_2/output/LayerNorm/gamma:0, shape = (768,), *INIT_FROM_CKPT*\n"
     ]
    },
    {
     "name": "stderr",
     "output_type": "stream",
     "text": [
      "I0502 03:27:17.150083 139747718563584 tf_logging.py:115]   name = bert/encoder/layer_2/output/LayerNorm/gamma:0, shape = (768,), *INIT_FROM_CKPT*\n"
     ]
    },
    {
     "name": "stdout",
     "output_type": "stream",
     "text": [
      "INFO:tensorflow:  name = bert/encoder/layer_3/attention/self/query/kernel:0, shape = (768, 768), *INIT_FROM_CKPT*\n"
     ]
    },
    {
     "name": "stderr",
     "output_type": "stream",
     "text": [
      "I0502 03:27:17.150943 139747718563584 tf_logging.py:115]   name = bert/encoder/layer_3/attention/self/query/kernel:0, shape = (768, 768), *INIT_FROM_CKPT*\n"
     ]
    },
    {
     "name": "stdout",
     "output_type": "stream",
     "text": [
      "INFO:tensorflow:  name = bert/encoder/layer_3/attention/self/query/bias:0, shape = (768,), *INIT_FROM_CKPT*\n"
     ]
    },
    {
     "name": "stderr",
     "output_type": "stream",
     "text": [
      "I0502 03:27:17.151704 139747718563584 tf_logging.py:115]   name = bert/encoder/layer_3/attention/self/query/bias:0, shape = (768,), *INIT_FROM_CKPT*\n"
     ]
    },
    {
     "name": "stdout",
     "output_type": "stream",
     "text": [
      "INFO:tensorflow:  name = bert/encoder/layer_3/attention/self/key/kernel:0, shape = (768, 768), *INIT_FROM_CKPT*\n"
     ]
    },
    {
     "name": "stderr",
     "output_type": "stream",
     "text": [
      "I0502 03:27:17.152532 139747718563584 tf_logging.py:115]   name = bert/encoder/layer_3/attention/self/key/kernel:0, shape = (768, 768), *INIT_FROM_CKPT*\n"
     ]
    },
    {
     "name": "stdout",
     "output_type": "stream",
     "text": [
      "INFO:tensorflow:  name = bert/encoder/layer_3/attention/self/key/bias:0, shape = (768,), *INIT_FROM_CKPT*\n"
     ]
    },
    {
     "name": "stderr",
     "output_type": "stream",
     "text": [
      "I0502 03:27:17.153457 139747718563584 tf_logging.py:115]   name = bert/encoder/layer_3/attention/self/key/bias:0, shape = (768,), *INIT_FROM_CKPT*\n"
     ]
    },
    {
     "name": "stdout",
     "output_type": "stream",
     "text": [
      "INFO:tensorflow:  name = bert/encoder/layer_3/attention/self/value/kernel:0, shape = (768, 768), *INIT_FROM_CKPT*\n"
     ]
    },
    {
     "name": "stderr",
     "output_type": "stream",
     "text": [
      "I0502 03:27:17.154377 139747718563584 tf_logging.py:115]   name = bert/encoder/layer_3/attention/self/value/kernel:0, shape = (768, 768), *INIT_FROM_CKPT*\n"
     ]
    },
    {
     "name": "stdout",
     "output_type": "stream",
     "text": [
      "INFO:tensorflow:  name = bert/encoder/layer_3/attention/self/value/bias:0, shape = (768,), *INIT_FROM_CKPT*\n"
     ]
    },
    {
     "name": "stderr",
     "output_type": "stream",
     "text": [
      "I0502 03:27:17.155187 139747718563584 tf_logging.py:115]   name = bert/encoder/layer_3/attention/self/value/bias:0, shape = (768,), *INIT_FROM_CKPT*\n"
     ]
    },
    {
     "name": "stdout",
     "output_type": "stream",
     "text": [
      "INFO:tensorflow:  name = bert/encoder/layer_3/attention/output/dense/kernel:0, shape = (768, 768), *INIT_FROM_CKPT*\n"
     ]
    },
    {
     "name": "stderr",
     "output_type": "stream",
     "text": [
      "I0502 03:27:17.156048 139747718563584 tf_logging.py:115]   name = bert/encoder/layer_3/attention/output/dense/kernel:0, shape = (768, 768), *INIT_FROM_CKPT*\n"
     ]
    },
    {
     "name": "stdout",
     "output_type": "stream",
     "text": [
      "INFO:tensorflow:  name = bert/encoder/layer_3/attention/output/dense/bias:0, shape = (768,), *INIT_FROM_CKPT*\n"
     ]
    },
    {
     "name": "stderr",
     "output_type": "stream",
     "text": [
      "I0502 03:27:17.156860 139747718563584 tf_logging.py:115]   name = bert/encoder/layer_3/attention/output/dense/bias:0, shape = (768,), *INIT_FROM_CKPT*\n"
     ]
    },
    {
     "name": "stdout",
     "output_type": "stream",
     "text": [
      "INFO:tensorflow:  name = bert/encoder/layer_3/attention/output/LayerNorm/beta:0, shape = (768,), *INIT_FROM_CKPT*\n"
     ]
    },
    {
     "name": "stderr",
     "output_type": "stream",
     "text": [
      "I0502 03:27:17.157731 139747718563584 tf_logging.py:115]   name = bert/encoder/layer_3/attention/output/LayerNorm/beta:0, shape = (768,), *INIT_FROM_CKPT*\n"
     ]
    },
    {
     "name": "stdout",
     "output_type": "stream",
     "text": [
      "INFO:tensorflow:  name = bert/encoder/layer_3/attention/output/LayerNorm/gamma:0, shape = (768,), *INIT_FROM_CKPT*\n"
     ]
    },
    {
     "name": "stderr",
     "output_type": "stream",
     "text": [
      "I0502 03:27:17.158644 139747718563584 tf_logging.py:115]   name = bert/encoder/layer_3/attention/output/LayerNorm/gamma:0, shape = (768,), *INIT_FROM_CKPT*\n"
     ]
    },
    {
     "name": "stdout",
     "output_type": "stream",
     "text": [
      "INFO:tensorflow:  name = bert/encoder/layer_3/intermediate/dense/kernel:0, shape = (768, 3072), *INIT_FROM_CKPT*\n"
     ]
    },
    {
     "name": "stderr",
     "output_type": "stream",
     "text": [
      "I0502 03:27:17.159476 139747718563584 tf_logging.py:115]   name = bert/encoder/layer_3/intermediate/dense/kernel:0, shape = (768, 3072), *INIT_FROM_CKPT*\n"
     ]
    },
    {
     "name": "stdout",
     "output_type": "stream",
     "text": [
      "INFO:tensorflow:  name = bert/encoder/layer_3/intermediate/dense/bias:0, shape = (3072,), *INIT_FROM_CKPT*\n"
     ]
    },
    {
     "name": "stderr",
     "output_type": "stream",
     "text": [
      "I0502 03:27:17.160293 139747718563584 tf_logging.py:115]   name = bert/encoder/layer_3/intermediate/dense/bias:0, shape = (3072,), *INIT_FROM_CKPT*\n"
     ]
    },
    {
     "name": "stdout",
     "output_type": "stream",
     "text": [
      "INFO:tensorflow:  name = bert/encoder/layer_3/output/dense/kernel:0, shape = (3072, 768), *INIT_FROM_CKPT*\n"
     ]
    },
    {
     "name": "stderr",
     "output_type": "stream",
     "text": [
      "I0502 03:27:17.161293 139747718563584 tf_logging.py:115]   name = bert/encoder/layer_3/output/dense/kernel:0, shape = (3072, 768), *INIT_FROM_CKPT*\n"
     ]
    },
    {
     "name": "stdout",
     "output_type": "stream",
     "text": [
      "INFO:tensorflow:  name = bert/encoder/layer_3/output/dense/bias:0, shape = (768,), *INIT_FROM_CKPT*\n"
     ]
    },
    {
     "name": "stderr",
     "output_type": "stream",
     "text": [
      "I0502 03:27:17.162126 139747718563584 tf_logging.py:115]   name = bert/encoder/layer_3/output/dense/bias:0, shape = (768,), *INIT_FROM_CKPT*\n"
     ]
    },
    {
     "name": "stdout",
     "output_type": "stream",
     "text": [
      "INFO:tensorflow:  name = bert/encoder/layer_3/output/LayerNorm/beta:0, shape = (768,), *INIT_FROM_CKPT*\n"
     ]
    },
    {
     "name": "stderr",
     "output_type": "stream",
     "text": [
      "I0502 03:27:17.163041 139747718563584 tf_logging.py:115]   name = bert/encoder/layer_3/output/LayerNorm/beta:0, shape = (768,), *INIT_FROM_CKPT*\n"
     ]
    },
    {
     "name": "stdout",
     "output_type": "stream",
     "text": [
      "INFO:tensorflow:  name = bert/encoder/layer_3/output/LayerNorm/gamma:0, shape = (768,), *INIT_FROM_CKPT*\n"
     ]
    },
    {
     "name": "stderr",
     "output_type": "stream",
     "text": [
      "I0502 03:27:17.163978 139747718563584 tf_logging.py:115]   name = bert/encoder/layer_3/output/LayerNorm/gamma:0, shape = (768,), *INIT_FROM_CKPT*\n"
     ]
    },
    {
     "name": "stdout",
     "output_type": "stream",
     "text": [
      "INFO:tensorflow:  name = bert/encoder/layer_4/attention/self/query/kernel:0, shape = (768, 768), *INIT_FROM_CKPT*\n"
     ]
    },
    {
     "name": "stderr",
     "output_type": "stream",
     "text": [
      "I0502 03:27:17.164749 139747718563584 tf_logging.py:115]   name = bert/encoder/layer_4/attention/self/query/kernel:0, shape = (768, 768), *INIT_FROM_CKPT*\n"
     ]
    },
    {
     "name": "stdout",
     "output_type": "stream",
     "text": [
      "INFO:tensorflow:  name = bert/encoder/layer_4/attention/self/query/bias:0, shape = (768,), *INIT_FROM_CKPT*\n"
     ]
    },
    {
     "name": "stderr",
     "output_type": "stream",
     "text": [
      "I0502 03:27:17.165600 139747718563584 tf_logging.py:115]   name = bert/encoder/layer_4/attention/self/query/bias:0, shape = (768,), *INIT_FROM_CKPT*\n"
     ]
    },
    {
     "name": "stdout",
     "output_type": "stream",
     "text": [
      "INFO:tensorflow:  name = bert/encoder/layer_4/attention/self/key/kernel:0, shape = (768, 768), *INIT_FROM_CKPT*\n"
     ]
    },
    {
     "name": "stderr",
     "output_type": "stream",
     "text": [
      "I0502 03:27:17.166431 139747718563584 tf_logging.py:115]   name = bert/encoder/layer_4/attention/self/key/kernel:0, shape = (768, 768), *INIT_FROM_CKPT*\n"
     ]
    },
    {
     "name": "stdout",
     "output_type": "stream",
     "text": [
      "INFO:tensorflow:  name = bert/encoder/layer_4/attention/self/key/bias:0, shape = (768,), *INIT_FROM_CKPT*\n"
     ]
    },
    {
     "name": "stderr",
     "output_type": "stream",
     "text": [
      "I0502 03:27:17.167285 139747718563584 tf_logging.py:115]   name = bert/encoder/layer_4/attention/self/key/bias:0, shape = (768,), *INIT_FROM_CKPT*\n"
     ]
    },
    {
     "name": "stdout",
     "output_type": "stream",
     "text": [
      "INFO:tensorflow:  name = bert/encoder/layer_4/attention/self/value/kernel:0, shape = (768, 768), *INIT_FROM_CKPT*\n"
     ]
    },
    {
     "name": "stderr",
     "output_type": "stream",
     "text": [
      "I0502 03:27:17.168115 139747718563584 tf_logging.py:115]   name = bert/encoder/layer_4/attention/self/value/kernel:0, shape = (768, 768), *INIT_FROM_CKPT*\n"
     ]
    },
    {
     "name": "stdout",
     "output_type": "stream",
     "text": [
      "INFO:tensorflow:  name = bert/encoder/layer_4/attention/self/value/bias:0, shape = (768,), *INIT_FROM_CKPT*\n"
     ]
    },
    {
     "name": "stderr",
     "output_type": "stream",
     "text": [
      "I0502 03:27:17.168971 139747718563584 tf_logging.py:115]   name = bert/encoder/layer_4/attention/self/value/bias:0, shape = (768,), *INIT_FROM_CKPT*\n"
     ]
    },
    {
     "name": "stdout",
     "output_type": "stream",
     "text": [
      "INFO:tensorflow:  name = bert/encoder/layer_4/attention/output/dense/kernel:0, shape = (768, 768), *INIT_FROM_CKPT*\n"
     ]
    },
    {
     "name": "stderr",
     "output_type": "stream",
     "text": [
      "I0502 03:27:17.169784 139747718563584 tf_logging.py:115]   name = bert/encoder/layer_4/attention/output/dense/kernel:0, shape = (768, 768), *INIT_FROM_CKPT*\n"
     ]
    },
    {
     "name": "stdout",
     "output_type": "stream",
     "text": [
      "INFO:tensorflow:  name = bert/encoder/layer_4/attention/output/dense/bias:0, shape = (768,), *INIT_FROM_CKPT*\n"
     ]
    },
    {
     "name": "stderr",
     "output_type": "stream",
     "text": [
      "I0502 03:27:17.170644 139747718563584 tf_logging.py:115]   name = bert/encoder/layer_4/attention/output/dense/bias:0, shape = (768,), *INIT_FROM_CKPT*\n"
     ]
    },
    {
     "name": "stdout",
     "output_type": "stream",
     "text": [
      "INFO:tensorflow:  name = bert/encoder/layer_4/attention/output/LayerNorm/beta:0, shape = (768,), *INIT_FROM_CKPT*\n"
     ]
    },
    {
     "name": "stderr",
     "output_type": "stream",
     "text": [
      "I0502 03:27:17.171472 139747718563584 tf_logging.py:115]   name = bert/encoder/layer_4/attention/output/LayerNorm/beta:0, shape = (768,), *INIT_FROM_CKPT*\n"
     ]
    },
    {
     "name": "stdout",
     "output_type": "stream",
     "text": [
      "INFO:tensorflow:  name = bert/encoder/layer_4/attention/output/LayerNorm/gamma:0, shape = (768,), *INIT_FROM_CKPT*\n"
     ]
    },
    {
     "name": "stderr",
     "output_type": "stream",
     "text": [
      "I0502 03:27:17.172307 139747718563584 tf_logging.py:115]   name = bert/encoder/layer_4/attention/output/LayerNorm/gamma:0, shape = (768,), *INIT_FROM_CKPT*\n"
     ]
    },
    {
     "name": "stdout",
     "output_type": "stream",
     "text": [
      "INFO:tensorflow:  name = bert/encoder/layer_4/intermediate/dense/kernel:0, shape = (768, 3072), *INIT_FROM_CKPT*\n"
     ]
    },
    {
     "name": "stderr",
     "output_type": "stream",
     "text": [
      "I0502 03:27:17.173133 139747718563584 tf_logging.py:115]   name = bert/encoder/layer_4/intermediate/dense/kernel:0, shape = (768, 3072), *INIT_FROM_CKPT*\n"
     ]
    },
    {
     "name": "stdout",
     "output_type": "stream",
     "text": [
      "INFO:tensorflow:  name = bert/encoder/layer_4/intermediate/dense/bias:0, shape = (3072,), *INIT_FROM_CKPT*\n"
     ]
    },
    {
     "name": "stderr",
     "output_type": "stream",
     "text": [
      "I0502 03:27:17.174051 139747718563584 tf_logging.py:115]   name = bert/encoder/layer_4/intermediate/dense/bias:0, shape = (3072,), *INIT_FROM_CKPT*\n"
     ]
    },
    {
     "name": "stdout",
     "output_type": "stream",
     "text": [
      "INFO:tensorflow:  name = bert/encoder/layer_4/output/dense/kernel:0, shape = (3072, 768), *INIT_FROM_CKPT*\n"
     ]
    },
    {
     "name": "stderr",
     "output_type": "stream",
     "text": [
      "I0502 03:27:17.174827 139747718563584 tf_logging.py:115]   name = bert/encoder/layer_4/output/dense/kernel:0, shape = (3072, 768), *INIT_FROM_CKPT*\n"
     ]
    },
    {
     "name": "stdout",
     "output_type": "stream",
     "text": [
      "INFO:tensorflow:  name = bert/encoder/layer_4/output/dense/bias:0, shape = (768,), *INIT_FROM_CKPT*\n"
     ]
    },
    {
     "name": "stderr",
     "output_type": "stream",
     "text": [
      "I0502 03:27:17.175736 139747718563584 tf_logging.py:115]   name = bert/encoder/layer_4/output/dense/bias:0, shape = (768,), *INIT_FROM_CKPT*\n"
     ]
    },
    {
     "name": "stdout",
     "output_type": "stream",
     "text": [
      "INFO:tensorflow:  name = bert/encoder/layer_4/output/LayerNorm/beta:0, shape = (768,), *INIT_FROM_CKPT*\n"
     ]
    },
    {
     "name": "stderr",
     "output_type": "stream",
     "text": [
      "I0502 03:27:17.176592 139747718563584 tf_logging.py:115]   name = bert/encoder/layer_4/output/LayerNorm/beta:0, shape = (768,), *INIT_FROM_CKPT*\n"
     ]
    },
    {
     "name": "stdout",
     "output_type": "stream",
     "text": [
      "INFO:tensorflow:  name = bert/encoder/layer_4/output/LayerNorm/gamma:0, shape = (768,), *INIT_FROM_CKPT*\n"
     ]
    },
    {
     "name": "stderr",
     "output_type": "stream",
     "text": [
      "I0502 03:27:17.177304 139747718563584 tf_logging.py:115]   name = bert/encoder/layer_4/output/LayerNorm/gamma:0, shape = (768,), *INIT_FROM_CKPT*\n"
     ]
    },
    {
     "name": "stdout",
     "output_type": "stream",
     "text": [
      "INFO:tensorflow:  name = bert/encoder/layer_5/attention/self/query/kernel:0, shape = (768, 768), *INIT_FROM_CKPT*\n"
     ]
    },
    {
     "name": "stderr",
     "output_type": "stream",
     "text": [
      "I0502 03:27:17.178136 139747718563584 tf_logging.py:115]   name = bert/encoder/layer_5/attention/self/query/kernel:0, shape = (768, 768), *INIT_FROM_CKPT*\n"
     ]
    },
    {
     "name": "stdout",
     "output_type": "stream",
     "text": [
      "INFO:tensorflow:  name = bert/encoder/layer_5/attention/self/query/bias:0, shape = (768,), *INIT_FROM_CKPT*\n"
     ]
    },
    {
     "name": "stderr",
     "output_type": "stream",
     "text": [
      "I0502 03:27:17.178930 139747718563584 tf_logging.py:115]   name = bert/encoder/layer_5/attention/self/query/bias:0, shape = (768,), *INIT_FROM_CKPT*\n"
     ]
    },
    {
     "name": "stdout",
     "output_type": "stream",
     "text": [
      "INFO:tensorflow:  name = bert/encoder/layer_5/attention/self/key/kernel:0, shape = (768, 768), *INIT_FROM_CKPT*\n"
     ]
    },
    {
     "name": "stderr",
     "output_type": "stream",
     "text": [
      "I0502 03:27:17.179708 139747718563584 tf_logging.py:115]   name = bert/encoder/layer_5/attention/self/key/kernel:0, shape = (768, 768), *INIT_FROM_CKPT*\n"
     ]
    },
    {
     "name": "stdout",
     "output_type": "stream",
     "text": [
      "INFO:tensorflow:  name = bert/encoder/layer_5/attention/self/key/bias:0, shape = (768,), *INIT_FROM_CKPT*\n"
     ]
    },
    {
     "name": "stderr",
     "output_type": "stream",
     "text": [
      "I0502 03:27:17.180530 139747718563584 tf_logging.py:115]   name = bert/encoder/layer_5/attention/self/key/bias:0, shape = (768,), *INIT_FROM_CKPT*\n"
     ]
    },
    {
     "name": "stdout",
     "output_type": "stream",
     "text": [
      "INFO:tensorflow:  name = bert/encoder/layer_5/attention/self/value/kernel:0, shape = (768, 768), *INIT_FROM_CKPT*\n"
     ]
    },
    {
     "name": "stderr",
     "output_type": "stream",
     "text": [
      "I0502 03:27:17.181230 139747718563584 tf_logging.py:115]   name = bert/encoder/layer_5/attention/self/value/kernel:0, shape = (768, 768), *INIT_FROM_CKPT*\n"
     ]
    },
    {
     "name": "stdout",
     "output_type": "stream",
     "text": [
      "INFO:tensorflow:  name = bert/encoder/layer_5/attention/self/value/bias:0, shape = (768,), *INIT_FROM_CKPT*\n"
     ]
    },
    {
     "name": "stderr",
     "output_type": "stream",
     "text": [
      "I0502 03:27:17.182072 139747718563584 tf_logging.py:115]   name = bert/encoder/layer_5/attention/self/value/bias:0, shape = (768,), *INIT_FROM_CKPT*\n"
     ]
    },
    {
     "name": "stdout",
     "output_type": "stream",
     "text": [
      "INFO:tensorflow:  name = bert/encoder/layer_5/attention/output/dense/kernel:0, shape = (768, 768), *INIT_FROM_CKPT*\n"
     ]
    },
    {
     "name": "stderr",
     "output_type": "stream",
     "text": [
      "I0502 03:27:17.182904 139747718563584 tf_logging.py:115]   name = bert/encoder/layer_5/attention/output/dense/kernel:0, shape = (768, 768), *INIT_FROM_CKPT*\n"
     ]
    },
    {
     "name": "stdout",
     "output_type": "stream",
     "text": [
      "INFO:tensorflow:  name = bert/encoder/layer_5/attention/output/dense/bias:0, shape = (768,), *INIT_FROM_CKPT*\n"
     ]
    },
    {
     "name": "stderr",
     "output_type": "stream",
     "text": [
      "I0502 03:27:17.183820 139747718563584 tf_logging.py:115]   name = bert/encoder/layer_5/attention/output/dense/bias:0, shape = (768,), *INIT_FROM_CKPT*\n"
     ]
    },
    {
     "name": "stdout",
     "output_type": "stream",
     "text": [
      "INFO:tensorflow:  name = bert/encoder/layer_5/attention/output/LayerNorm/beta:0, shape = (768,), *INIT_FROM_CKPT*\n"
     ]
    },
    {
     "name": "stderr",
     "output_type": "stream",
     "text": [
      "I0502 03:27:17.184718 139747718563584 tf_logging.py:115]   name = bert/encoder/layer_5/attention/output/LayerNorm/beta:0, shape = (768,), *INIT_FROM_CKPT*\n"
     ]
    },
    {
     "name": "stdout",
     "output_type": "stream",
     "text": [
      "INFO:tensorflow:  name = bert/encoder/layer_5/attention/output/LayerNorm/gamma:0, shape = (768,), *INIT_FROM_CKPT*\n"
     ]
    },
    {
     "name": "stderr",
     "output_type": "stream",
     "text": [
      "I0502 03:27:17.185483 139747718563584 tf_logging.py:115]   name = bert/encoder/layer_5/attention/output/LayerNorm/gamma:0, shape = (768,), *INIT_FROM_CKPT*\n"
     ]
    },
    {
     "name": "stdout",
     "output_type": "stream",
     "text": [
      "INFO:tensorflow:  name = bert/encoder/layer_5/intermediate/dense/kernel:0, shape = (768, 3072), *INIT_FROM_CKPT*\n"
     ]
    },
    {
     "name": "stderr",
     "output_type": "stream",
     "text": [
      "I0502 03:27:17.186414 139747718563584 tf_logging.py:115]   name = bert/encoder/layer_5/intermediate/dense/kernel:0, shape = (768, 3072), *INIT_FROM_CKPT*\n"
     ]
    },
    {
     "name": "stdout",
     "output_type": "stream",
     "text": [
      "INFO:tensorflow:  name = bert/encoder/layer_5/intermediate/dense/bias:0, shape = (3072,), *INIT_FROM_CKPT*\n"
     ]
    },
    {
     "name": "stderr",
     "output_type": "stream",
     "text": [
      "I0502 03:27:17.187301 139747718563584 tf_logging.py:115]   name = bert/encoder/layer_5/intermediate/dense/bias:0, shape = (3072,), *INIT_FROM_CKPT*\n"
     ]
    },
    {
     "name": "stdout",
     "output_type": "stream",
     "text": [
      "INFO:tensorflow:  name = bert/encoder/layer_5/output/dense/kernel:0, shape = (3072, 768), *INIT_FROM_CKPT*\n"
     ]
    },
    {
     "name": "stderr",
     "output_type": "stream",
     "text": [
      "I0502 03:27:17.188183 139747718563584 tf_logging.py:115]   name = bert/encoder/layer_5/output/dense/kernel:0, shape = (3072, 768), *INIT_FROM_CKPT*\n"
     ]
    },
    {
     "name": "stdout",
     "output_type": "stream",
     "text": [
      "INFO:tensorflow:  name = bert/encoder/layer_5/output/dense/bias:0, shape = (768,), *INIT_FROM_CKPT*\n"
     ]
    },
    {
     "name": "stderr",
     "output_type": "stream",
     "text": [
      "I0502 03:27:17.188890 139747718563584 tf_logging.py:115]   name = bert/encoder/layer_5/output/dense/bias:0, shape = (768,), *INIT_FROM_CKPT*\n"
     ]
    },
    {
     "name": "stdout",
     "output_type": "stream",
     "text": [
      "INFO:tensorflow:  name = bert/encoder/layer_5/output/LayerNorm/beta:0, shape = (768,), *INIT_FROM_CKPT*\n"
     ]
    },
    {
     "name": "stderr",
     "output_type": "stream",
     "text": [
      "I0502 03:27:17.189682 139747718563584 tf_logging.py:115]   name = bert/encoder/layer_5/output/LayerNorm/beta:0, shape = (768,), *INIT_FROM_CKPT*\n"
     ]
    },
    {
     "name": "stdout",
     "output_type": "stream",
     "text": [
      "INFO:tensorflow:  name = bert/encoder/layer_5/output/LayerNorm/gamma:0, shape = (768,), *INIT_FROM_CKPT*\n"
     ]
    },
    {
     "name": "stderr",
     "output_type": "stream",
     "text": [
      "I0502 03:27:17.190480 139747718563584 tf_logging.py:115]   name = bert/encoder/layer_5/output/LayerNorm/gamma:0, shape = (768,), *INIT_FROM_CKPT*\n"
     ]
    },
    {
     "name": "stdout",
     "output_type": "stream",
     "text": [
      "INFO:tensorflow:  name = bert/encoder/layer_6/attention/self/query/kernel:0, shape = (768, 768), *INIT_FROM_CKPT*\n"
     ]
    },
    {
     "name": "stderr",
     "output_type": "stream",
     "text": [
      "I0502 03:27:17.191308 139747718563584 tf_logging.py:115]   name = bert/encoder/layer_6/attention/self/query/kernel:0, shape = (768, 768), *INIT_FROM_CKPT*\n"
     ]
    },
    {
     "name": "stdout",
     "output_type": "stream",
     "text": [
      "INFO:tensorflow:  name = bert/encoder/layer_6/attention/self/query/bias:0, shape = (768,), *INIT_FROM_CKPT*\n"
     ]
    },
    {
     "name": "stderr",
     "output_type": "stream",
     "text": [
      "I0502 03:27:17.192148 139747718563584 tf_logging.py:115]   name = bert/encoder/layer_6/attention/self/query/bias:0, shape = (768,), *INIT_FROM_CKPT*\n"
     ]
    },
    {
     "name": "stdout",
     "output_type": "stream",
     "text": [
      "INFO:tensorflow:  name = bert/encoder/layer_6/attention/self/key/kernel:0, shape = (768, 768), *INIT_FROM_CKPT*\n"
     ]
    },
    {
     "name": "stderr",
     "output_type": "stream",
     "text": [
      "I0502 03:27:17.192998 139747718563584 tf_logging.py:115]   name = bert/encoder/layer_6/attention/self/key/kernel:0, shape = (768, 768), *INIT_FROM_CKPT*\n"
     ]
    },
    {
     "name": "stdout",
     "output_type": "stream",
     "text": [
      "INFO:tensorflow:  name = bert/encoder/layer_6/attention/self/key/bias:0, shape = (768,), *INIT_FROM_CKPT*\n"
     ]
    },
    {
     "name": "stderr",
     "output_type": "stream",
     "text": [
      "I0502 03:27:17.193834 139747718563584 tf_logging.py:115]   name = bert/encoder/layer_6/attention/self/key/bias:0, shape = (768,), *INIT_FROM_CKPT*\n"
     ]
    },
    {
     "name": "stdout",
     "output_type": "stream",
     "text": [
      "INFO:tensorflow:  name = bert/encoder/layer_6/attention/self/value/kernel:0, shape = (768, 768), *INIT_FROM_CKPT*\n"
     ]
    },
    {
     "name": "stderr",
     "output_type": "stream",
     "text": [
      "I0502 03:27:17.194689 139747718563584 tf_logging.py:115]   name = bert/encoder/layer_6/attention/self/value/kernel:0, shape = (768, 768), *INIT_FROM_CKPT*\n"
     ]
    },
    {
     "name": "stdout",
     "output_type": "stream",
     "text": [
      "INFO:tensorflow:  name = bert/encoder/layer_6/attention/self/value/bias:0, shape = (768,), *INIT_FROM_CKPT*\n"
     ]
    },
    {
     "name": "stderr",
     "output_type": "stream",
     "text": [
      "I0502 03:27:17.195503 139747718563584 tf_logging.py:115]   name = bert/encoder/layer_6/attention/self/value/bias:0, shape = (768,), *INIT_FROM_CKPT*\n"
     ]
    },
    {
     "name": "stdout",
     "output_type": "stream",
     "text": [
      "INFO:tensorflow:  name = bert/encoder/layer_6/attention/output/dense/kernel:0, shape = (768, 768), *INIT_FROM_CKPT*\n"
     ]
    },
    {
     "name": "stderr",
     "output_type": "stream",
     "text": [
      "I0502 03:27:17.196595 139747718563584 tf_logging.py:115]   name = bert/encoder/layer_6/attention/output/dense/kernel:0, shape = (768, 768), *INIT_FROM_CKPT*\n"
     ]
    },
    {
     "name": "stdout",
     "output_type": "stream",
     "text": [
      "INFO:tensorflow:  name = bert/encoder/layer_6/attention/output/dense/bias:0, shape = (768,), *INIT_FROM_CKPT*\n"
     ]
    },
    {
     "name": "stderr",
     "output_type": "stream",
     "text": [
      "I0502 03:27:17.197418 139747718563584 tf_logging.py:115]   name = bert/encoder/layer_6/attention/output/dense/bias:0, shape = (768,), *INIT_FROM_CKPT*\n"
     ]
    },
    {
     "name": "stdout",
     "output_type": "stream",
     "text": [
      "INFO:tensorflow:  name = bert/encoder/layer_6/attention/output/LayerNorm/beta:0, shape = (768,), *INIT_FROM_CKPT*\n"
     ]
    },
    {
     "name": "stderr",
     "output_type": "stream",
     "text": [
      "I0502 03:27:17.198300 139747718563584 tf_logging.py:115]   name = bert/encoder/layer_6/attention/output/LayerNorm/beta:0, shape = (768,), *INIT_FROM_CKPT*\n"
     ]
    },
    {
     "name": "stdout",
     "output_type": "stream",
     "text": [
      "INFO:tensorflow:  name = bert/encoder/layer_6/attention/output/LayerNorm/gamma:0, shape = (768,), *INIT_FROM_CKPT*\n"
     ]
    },
    {
     "name": "stderr",
     "output_type": "stream",
     "text": [
      "I0502 03:27:17.199161 139747718563584 tf_logging.py:115]   name = bert/encoder/layer_6/attention/output/LayerNorm/gamma:0, shape = (768,), *INIT_FROM_CKPT*\n"
     ]
    },
    {
     "name": "stdout",
     "output_type": "stream",
     "text": [
      "INFO:tensorflow:  name = bert/encoder/layer_6/intermediate/dense/kernel:0, shape = (768, 3072), *INIT_FROM_CKPT*\n"
     ]
    },
    {
     "name": "stderr",
     "output_type": "stream",
     "text": [
      "I0502 03:27:17.200000 139747718563584 tf_logging.py:115]   name = bert/encoder/layer_6/intermediate/dense/kernel:0, shape = (768, 3072), *INIT_FROM_CKPT*\n"
     ]
    },
    {
     "name": "stdout",
     "output_type": "stream",
     "text": [
      "INFO:tensorflow:  name = bert/encoder/layer_6/intermediate/dense/bias:0, shape = (3072,), *INIT_FROM_CKPT*\n"
     ]
    },
    {
     "name": "stderr",
     "output_type": "stream",
     "text": [
      "I0502 03:27:17.200872 139747718563584 tf_logging.py:115]   name = bert/encoder/layer_6/intermediate/dense/bias:0, shape = (3072,), *INIT_FROM_CKPT*\n"
     ]
    },
    {
     "name": "stdout",
     "output_type": "stream",
     "text": [
      "INFO:tensorflow:  name = bert/encoder/layer_6/output/dense/kernel:0, shape = (3072, 768), *INIT_FROM_CKPT*\n"
     ]
    },
    {
     "name": "stderr",
     "output_type": "stream",
     "text": [
      "I0502 03:27:17.201677 139747718563584 tf_logging.py:115]   name = bert/encoder/layer_6/output/dense/kernel:0, shape = (3072, 768), *INIT_FROM_CKPT*\n"
     ]
    },
    {
     "name": "stdout",
     "output_type": "stream",
     "text": [
      "INFO:tensorflow:  name = bert/encoder/layer_6/output/dense/bias:0, shape = (768,), *INIT_FROM_CKPT*\n"
     ]
    },
    {
     "name": "stderr",
     "output_type": "stream",
     "text": [
      "I0502 03:27:17.202546 139747718563584 tf_logging.py:115]   name = bert/encoder/layer_6/output/dense/bias:0, shape = (768,), *INIT_FROM_CKPT*\n"
     ]
    },
    {
     "name": "stdout",
     "output_type": "stream",
     "text": [
      "INFO:tensorflow:  name = bert/encoder/layer_6/output/LayerNorm/beta:0, shape = (768,), *INIT_FROM_CKPT*\n"
     ]
    },
    {
     "name": "stderr",
     "output_type": "stream",
     "text": [
      "I0502 03:27:17.203372 139747718563584 tf_logging.py:115]   name = bert/encoder/layer_6/output/LayerNorm/beta:0, shape = (768,), *INIT_FROM_CKPT*\n"
     ]
    },
    {
     "name": "stdout",
     "output_type": "stream",
     "text": [
      "INFO:tensorflow:  name = bert/encoder/layer_6/output/LayerNorm/gamma:0, shape = (768,), *INIT_FROM_CKPT*\n"
     ]
    },
    {
     "name": "stderr",
     "output_type": "stream",
     "text": [
      "I0502 03:27:17.204367 139747718563584 tf_logging.py:115]   name = bert/encoder/layer_6/output/LayerNorm/gamma:0, shape = (768,), *INIT_FROM_CKPT*\n"
     ]
    },
    {
     "name": "stdout",
     "output_type": "stream",
     "text": [
      "INFO:tensorflow:  name = bert/encoder/layer_7/attention/self/query/kernel:0, shape = (768, 768), *INIT_FROM_CKPT*\n"
     ]
    },
    {
     "name": "stderr",
     "output_type": "stream",
     "text": [
      "I0502 03:27:17.205210 139747718563584 tf_logging.py:115]   name = bert/encoder/layer_7/attention/self/query/kernel:0, shape = (768, 768), *INIT_FROM_CKPT*\n"
     ]
    },
    {
     "name": "stdout",
     "output_type": "stream",
     "text": [
      "INFO:tensorflow:  name = bert/encoder/layer_7/attention/self/query/bias:0, shape = (768,), *INIT_FROM_CKPT*\n"
     ]
    },
    {
     "name": "stderr",
     "output_type": "stream",
     "text": [
      "I0502 03:27:17.206035 139747718563584 tf_logging.py:115]   name = bert/encoder/layer_7/attention/self/query/bias:0, shape = (768,), *INIT_FROM_CKPT*\n"
     ]
    },
    {
     "name": "stdout",
     "output_type": "stream",
     "text": [
      "INFO:tensorflow:  name = bert/encoder/layer_7/attention/self/key/kernel:0, shape = (768, 768), *INIT_FROM_CKPT*\n"
     ]
    },
    {
     "name": "stderr",
     "output_type": "stream",
     "text": [
      "I0502 03:27:17.206883 139747718563584 tf_logging.py:115]   name = bert/encoder/layer_7/attention/self/key/kernel:0, shape = (768, 768), *INIT_FROM_CKPT*\n"
     ]
    },
    {
     "name": "stdout",
     "output_type": "stream",
     "text": [
      "INFO:tensorflow:  name = bert/encoder/layer_7/attention/self/key/bias:0, shape = (768,), *INIT_FROM_CKPT*\n"
     ]
    },
    {
     "name": "stderr",
     "output_type": "stream",
     "text": [
      "I0502 03:27:17.207706 139747718563584 tf_logging.py:115]   name = bert/encoder/layer_7/attention/self/key/bias:0, shape = (768,), *INIT_FROM_CKPT*\n"
     ]
    },
    {
     "name": "stdout",
     "output_type": "stream",
     "text": [
      "INFO:tensorflow:  name = bert/encoder/layer_7/attention/self/value/kernel:0, shape = (768, 768), *INIT_FROM_CKPT*\n"
     ]
    },
    {
     "name": "stderr",
     "output_type": "stream",
     "text": [
      "I0502 03:27:17.208565 139747718563584 tf_logging.py:115]   name = bert/encoder/layer_7/attention/self/value/kernel:0, shape = (768, 768), *INIT_FROM_CKPT*\n"
     ]
    },
    {
     "name": "stdout",
     "output_type": "stream",
     "text": [
      "INFO:tensorflow:  name = bert/encoder/layer_7/attention/self/value/bias:0, shape = (768,), *INIT_FROM_CKPT*\n"
     ]
    },
    {
     "name": "stderr",
     "output_type": "stream",
     "text": [
      "I0502 03:27:17.209390 139747718563584 tf_logging.py:115]   name = bert/encoder/layer_7/attention/self/value/bias:0, shape = (768,), *INIT_FROM_CKPT*\n"
     ]
    },
    {
     "name": "stdout",
     "output_type": "stream",
     "text": [
      "INFO:tensorflow:  name = bert/encoder/layer_7/attention/output/dense/kernel:0, shape = (768, 768), *INIT_FROM_CKPT*\n"
     ]
    },
    {
     "name": "stderr",
     "output_type": "stream",
     "text": [
      "I0502 03:27:17.210228 139747718563584 tf_logging.py:115]   name = bert/encoder/layer_7/attention/output/dense/kernel:0, shape = (768, 768), *INIT_FROM_CKPT*\n"
     ]
    },
    {
     "name": "stdout",
     "output_type": "stream",
     "text": [
      "INFO:tensorflow:  name = bert/encoder/layer_7/attention/output/dense/bias:0, shape = (768,), *INIT_FROM_CKPT*\n"
     ]
    },
    {
     "name": "stderr",
     "output_type": "stream",
     "text": [
      "I0502 03:27:17.211060 139747718563584 tf_logging.py:115]   name = bert/encoder/layer_7/attention/output/dense/bias:0, shape = (768,), *INIT_FROM_CKPT*\n"
     ]
    },
    {
     "name": "stdout",
     "output_type": "stream",
     "text": [
      "INFO:tensorflow:  name = bert/encoder/layer_7/attention/output/LayerNorm/beta:0, shape = (768,), *INIT_FROM_CKPT*\n"
     ]
    },
    {
     "name": "stderr",
     "output_type": "stream",
     "text": [
      "I0502 03:27:17.211896 139747718563584 tf_logging.py:115]   name = bert/encoder/layer_7/attention/output/LayerNorm/beta:0, shape = (768,), *INIT_FROM_CKPT*\n"
     ]
    },
    {
     "name": "stdout",
     "output_type": "stream",
     "text": [
      "INFO:tensorflow:  name = bert/encoder/layer_7/attention/output/LayerNorm/gamma:0, shape = (768,), *INIT_FROM_CKPT*\n"
     ]
    },
    {
     "name": "stderr",
     "output_type": "stream",
     "text": [
      "I0502 03:27:17.212726 139747718563584 tf_logging.py:115]   name = bert/encoder/layer_7/attention/output/LayerNorm/gamma:0, shape = (768,), *INIT_FROM_CKPT*\n"
     ]
    },
    {
     "name": "stdout",
     "output_type": "stream",
     "text": [
      "INFO:tensorflow:  name = bert/encoder/layer_7/intermediate/dense/kernel:0, shape = (768, 3072), *INIT_FROM_CKPT*\n"
     ]
    },
    {
     "name": "stderr",
     "output_type": "stream",
     "text": [
      "I0502 03:27:17.213680 139747718563584 tf_logging.py:115]   name = bert/encoder/layer_7/intermediate/dense/kernel:0, shape = (768, 3072), *INIT_FROM_CKPT*\n"
     ]
    },
    {
     "name": "stdout",
     "output_type": "stream",
     "text": [
      "INFO:tensorflow:  name = bert/encoder/layer_7/intermediate/dense/bias:0, shape = (3072,), *INIT_FROM_CKPT*\n"
     ]
    },
    {
     "name": "stderr",
     "output_type": "stream",
     "text": [
      "I0502 03:27:17.214497 139747718563584 tf_logging.py:115]   name = bert/encoder/layer_7/intermediate/dense/bias:0, shape = (3072,), *INIT_FROM_CKPT*\n"
     ]
    },
    {
     "name": "stdout",
     "output_type": "stream",
     "text": [
      "INFO:tensorflow:  name = bert/encoder/layer_7/output/dense/kernel:0, shape = (3072, 768), *INIT_FROM_CKPT*\n"
     ]
    },
    {
     "name": "stderr",
     "output_type": "stream",
     "text": [
      "I0502 03:27:17.215329 139747718563584 tf_logging.py:115]   name = bert/encoder/layer_7/output/dense/kernel:0, shape = (3072, 768), *INIT_FROM_CKPT*\n"
     ]
    },
    {
     "name": "stdout",
     "output_type": "stream",
     "text": [
      "INFO:tensorflow:  name = bert/encoder/layer_7/output/dense/bias:0, shape = (768,), *INIT_FROM_CKPT*\n"
     ]
    },
    {
     "name": "stderr",
     "output_type": "stream",
     "text": [
      "I0502 03:27:17.216140 139747718563584 tf_logging.py:115]   name = bert/encoder/layer_7/output/dense/bias:0, shape = (768,), *INIT_FROM_CKPT*\n"
     ]
    },
    {
     "name": "stdout",
     "output_type": "stream",
     "text": [
      "INFO:tensorflow:  name = bert/encoder/layer_7/output/LayerNorm/beta:0, shape = (768,), *INIT_FROM_CKPT*\n"
     ]
    },
    {
     "name": "stderr",
     "output_type": "stream",
     "text": [
      "I0502 03:27:17.216984 139747718563584 tf_logging.py:115]   name = bert/encoder/layer_7/output/LayerNorm/beta:0, shape = (768,), *INIT_FROM_CKPT*\n"
     ]
    },
    {
     "name": "stdout",
     "output_type": "stream",
     "text": [
      "INFO:tensorflow:  name = bert/encoder/layer_7/output/LayerNorm/gamma:0, shape = (768,), *INIT_FROM_CKPT*\n"
     ]
    },
    {
     "name": "stderr",
     "output_type": "stream",
     "text": [
      "I0502 03:27:17.217826 139747718563584 tf_logging.py:115]   name = bert/encoder/layer_7/output/LayerNorm/gamma:0, shape = (768,), *INIT_FROM_CKPT*\n"
     ]
    },
    {
     "name": "stdout",
     "output_type": "stream",
     "text": [
      "INFO:tensorflow:  name = bert/encoder/layer_8/attention/self/query/kernel:0, shape = (768, 768), *INIT_FROM_CKPT*\n"
     ]
    },
    {
     "name": "stderr",
     "output_type": "stream",
     "text": [
      "I0502 03:27:17.218671 139747718563584 tf_logging.py:115]   name = bert/encoder/layer_8/attention/self/query/kernel:0, shape = (768, 768), *INIT_FROM_CKPT*\n"
     ]
    },
    {
     "name": "stdout",
     "output_type": "stream",
     "text": [
      "INFO:tensorflow:  name = bert/encoder/layer_8/attention/self/query/bias:0, shape = (768,), *INIT_FROM_CKPT*\n"
     ]
    },
    {
     "name": "stderr",
     "output_type": "stream",
     "text": [
      "I0502 03:27:17.219480 139747718563584 tf_logging.py:115]   name = bert/encoder/layer_8/attention/self/query/bias:0, shape = (768,), *INIT_FROM_CKPT*\n"
     ]
    },
    {
     "name": "stdout",
     "output_type": "stream",
     "text": [
      "INFO:tensorflow:  name = bert/encoder/layer_8/attention/self/key/kernel:0, shape = (768, 768), *INIT_FROM_CKPT*\n"
     ]
    },
    {
     "name": "stderr",
     "output_type": "stream",
     "text": [
      "I0502 03:27:17.220422 139747718563584 tf_logging.py:115]   name = bert/encoder/layer_8/attention/self/key/kernel:0, shape = (768, 768), *INIT_FROM_CKPT*\n"
     ]
    },
    {
     "name": "stdout",
     "output_type": "stream",
     "text": [
      "INFO:tensorflow:  name = bert/encoder/layer_8/attention/self/key/bias:0, shape = (768,), *INIT_FROM_CKPT*\n"
     ]
    },
    {
     "name": "stderr",
     "output_type": "stream",
     "text": [
      "I0502 03:27:17.221233 139747718563584 tf_logging.py:115]   name = bert/encoder/layer_8/attention/self/key/bias:0, shape = (768,), *INIT_FROM_CKPT*\n"
     ]
    },
    {
     "name": "stdout",
     "output_type": "stream",
     "text": [
      "INFO:tensorflow:  name = bert/encoder/layer_8/attention/self/value/kernel:0, shape = (768, 768), *INIT_FROM_CKPT*\n"
     ]
    },
    {
     "name": "stderr",
     "output_type": "stream",
     "text": [
      "I0502 03:27:17.222115 139747718563584 tf_logging.py:115]   name = bert/encoder/layer_8/attention/self/value/kernel:0, shape = (768, 768), *INIT_FROM_CKPT*\n"
     ]
    },
    {
     "name": "stdout",
     "output_type": "stream",
     "text": [
      "INFO:tensorflow:  name = bert/encoder/layer_8/attention/self/value/bias:0, shape = (768,), *INIT_FROM_CKPT*\n"
     ]
    },
    {
     "name": "stderr",
     "output_type": "stream",
     "text": [
      "I0502 03:27:17.223017 139747718563584 tf_logging.py:115]   name = bert/encoder/layer_8/attention/self/value/bias:0, shape = (768,), *INIT_FROM_CKPT*\n"
     ]
    },
    {
     "name": "stdout",
     "output_type": "stream",
     "text": [
      "INFO:tensorflow:  name = bert/encoder/layer_8/attention/output/dense/kernel:0, shape = (768, 768), *INIT_FROM_CKPT*\n"
     ]
    },
    {
     "name": "stderr",
     "output_type": "stream",
     "text": [
      "I0502 03:27:17.223790 139747718563584 tf_logging.py:115]   name = bert/encoder/layer_8/attention/output/dense/kernel:0, shape = (768, 768), *INIT_FROM_CKPT*\n"
     ]
    },
    {
     "name": "stdout",
     "output_type": "stream",
     "text": [
      "INFO:tensorflow:  name = bert/encoder/layer_8/attention/output/dense/bias:0, shape = (768,), *INIT_FROM_CKPT*\n"
     ]
    },
    {
     "name": "stderr",
     "output_type": "stream",
     "text": [
      "I0502 03:27:17.224617 139747718563584 tf_logging.py:115]   name = bert/encoder/layer_8/attention/output/dense/bias:0, shape = (768,), *INIT_FROM_CKPT*\n"
     ]
    },
    {
     "name": "stdout",
     "output_type": "stream",
     "text": [
      "INFO:tensorflow:  name = bert/encoder/layer_8/attention/output/LayerNorm/beta:0, shape = (768,), *INIT_FROM_CKPT*\n"
     ]
    },
    {
     "name": "stderr",
     "output_type": "stream",
     "text": [
      "I0502 03:27:17.225459 139747718563584 tf_logging.py:115]   name = bert/encoder/layer_8/attention/output/LayerNorm/beta:0, shape = (768,), *INIT_FROM_CKPT*\n"
     ]
    },
    {
     "name": "stdout",
     "output_type": "stream",
     "text": [
      "INFO:tensorflow:  name = bert/encoder/layer_8/attention/output/LayerNorm/gamma:0, shape = (768,), *INIT_FROM_CKPT*\n"
     ]
    },
    {
     "name": "stderr",
     "output_type": "stream",
     "text": [
      "I0502 03:27:17.226302 139747718563584 tf_logging.py:115]   name = bert/encoder/layer_8/attention/output/LayerNorm/gamma:0, shape = (768,), *INIT_FROM_CKPT*\n"
     ]
    },
    {
     "name": "stdout",
     "output_type": "stream",
     "text": [
      "INFO:tensorflow:  name = bert/encoder/layer_8/intermediate/dense/kernel:0, shape = (768, 3072), *INIT_FROM_CKPT*\n"
     ]
    },
    {
     "name": "stderr",
     "output_type": "stream",
     "text": [
      "I0502 03:27:17.227128 139747718563584 tf_logging.py:115]   name = bert/encoder/layer_8/intermediate/dense/kernel:0, shape = (768, 3072), *INIT_FROM_CKPT*\n"
     ]
    },
    {
     "name": "stdout",
     "output_type": "stream",
     "text": [
      "INFO:tensorflow:  name = bert/encoder/layer_8/intermediate/dense/bias:0, shape = (3072,), *INIT_FROM_CKPT*\n"
     ]
    },
    {
     "name": "stderr",
     "output_type": "stream",
     "text": [
      "I0502 03:27:17.227962 139747718563584 tf_logging.py:115]   name = bert/encoder/layer_8/intermediate/dense/bias:0, shape = (3072,), *INIT_FROM_CKPT*\n"
     ]
    },
    {
     "name": "stdout",
     "output_type": "stream",
     "text": [
      "INFO:tensorflow:  name = bert/encoder/layer_8/output/dense/kernel:0, shape = (3072, 768), *INIT_FROM_CKPT*\n"
     ]
    },
    {
     "name": "stderr",
     "output_type": "stream",
     "text": [
      "I0502 03:27:17.228796 139747718563584 tf_logging.py:115]   name = bert/encoder/layer_8/output/dense/kernel:0, shape = (3072, 768), *INIT_FROM_CKPT*\n"
     ]
    },
    {
     "name": "stdout",
     "output_type": "stream",
     "text": [
      "INFO:tensorflow:  name = bert/encoder/layer_8/output/dense/bias:0, shape = (768,), *INIT_FROM_CKPT*\n"
     ]
    },
    {
     "name": "stderr",
     "output_type": "stream",
     "text": [
      "I0502 03:27:17.229625 139747718563584 tf_logging.py:115]   name = bert/encoder/layer_8/output/dense/bias:0, shape = (768,), *INIT_FROM_CKPT*\n"
     ]
    },
    {
     "name": "stdout",
     "output_type": "stream",
     "text": [
      "INFO:tensorflow:  name = bert/encoder/layer_8/output/LayerNorm/beta:0, shape = (768,), *INIT_FROM_CKPT*\n"
     ]
    },
    {
     "name": "stderr",
     "output_type": "stream",
     "text": [
      "I0502 03:27:17.230570 139747718563584 tf_logging.py:115]   name = bert/encoder/layer_8/output/LayerNorm/beta:0, shape = (768,), *INIT_FROM_CKPT*\n"
     ]
    },
    {
     "name": "stdout",
     "output_type": "stream",
     "text": [
      "INFO:tensorflow:  name = bert/encoder/layer_8/output/LayerNorm/gamma:0, shape = (768,), *INIT_FROM_CKPT*\n"
     ]
    },
    {
     "name": "stderr",
     "output_type": "stream",
     "text": [
      "I0502 03:27:17.231389 139747718563584 tf_logging.py:115]   name = bert/encoder/layer_8/output/LayerNorm/gamma:0, shape = (768,), *INIT_FROM_CKPT*\n"
     ]
    },
    {
     "name": "stdout",
     "output_type": "stream",
     "text": [
      "INFO:tensorflow:  name = bert/encoder/layer_9/attention/self/query/kernel:0, shape = (768, 768), *INIT_FROM_CKPT*\n"
     ]
    },
    {
     "name": "stderr",
     "output_type": "stream",
     "text": [
      "I0502 03:27:17.232243 139747718563584 tf_logging.py:115]   name = bert/encoder/layer_9/attention/self/query/kernel:0, shape = (768, 768), *INIT_FROM_CKPT*\n"
     ]
    },
    {
     "name": "stdout",
     "output_type": "stream",
     "text": [
      "INFO:tensorflow:  name = bert/encoder/layer_9/attention/self/query/bias:0, shape = (768,), *INIT_FROM_CKPT*\n"
     ]
    },
    {
     "name": "stderr",
     "output_type": "stream",
     "text": [
      "I0502 03:27:17.233058 139747718563584 tf_logging.py:115]   name = bert/encoder/layer_9/attention/self/query/bias:0, shape = (768,), *INIT_FROM_CKPT*\n"
     ]
    },
    {
     "name": "stdout",
     "output_type": "stream",
     "text": [
      "INFO:tensorflow:  name = bert/encoder/layer_9/attention/self/key/kernel:0, shape = (768, 768), *INIT_FROM_CKPT*\n"
     ]
    },
    {
     "name": "stderr",
     "output_type": "stream",
     "text": [
      "I0502 03:27:17.233908 139747718563584 tf_logging.py:115]   name = bert/encoder/layer_9/attention/self/key/kernel:0, shape = (768, 768), *INIT_FROM_CKPT*\n"
     ]
    },
    {
     "name": "stdout",
     "output_type": "stream",
     "text": [
      "INFO:tensorflow:  name = bert/encoder/layer_9/attention/self/key/bias:0, shape = (768,), *INIT_FROM_CKPT*\n"
     ]
    },
    {
     "name": "stderr",
     "output_type": "stream",
     "text": [
      "I0502 03:27:17.234939 139747718563584 tf_logging.py:115]   name = bert/encoder/layer_9/attention/self/key/bias:0, shape = (768,), *INIT_FROM_CKPT*\n"
     ]
    },
    {
     "name": "stdout",
     "output_type": "stream",
     "text": [
      "INFO:tensorflow:  name = bert/encoder/layer_9/attention/self/value/kernel:0, shape = (768, 768), *INIT_FROM_CKPT*\n"
     ]
    },
    {
     "name": "stderr",
     "output_type": "stream",
     "text": [
      "I0502 03:27:17.235869 139747718563584 tf_logging.py:115]   name = bert/encoder/layer_9/attention/self/value/kernel:0, shape = (768, 768), *INIT_FROM_CKPT*\n"
     ]
    },
    {
     "name": "stdout",
     "output_type": "stream",
     "text": [
      "INFO:tensorflow:  name = bert/encoder/layer_9/attention/self/value/bias:0, shape = (768,), *INIT_FROM_CKPT*\n"
     ]
    },
    {
     "name": "stderr",
     "output_type": "stream",
     "text": [
      "I0502 03:27:17.236657 139747718563584 tf_logging.py:115]   name = bert/encoder/layer_9/attention/self/value/bias:0, shape = (768,), *INIT_FROM_CKPT*\n"
     ]
    },
    {
     "name": "stdout",
     "output_type": "stream",
     "text": [
      "INFO:tensorflow:  name = bert/encoder/layer_9/attention/output/dense/kernel:0, shape = (768, 768), *INIT_FROM_CKPT*\n"
     ]
    },
    {
     "name": "stderr",
     "output_type": "stream",
     "text": [
      "I0502 03:27:17.237507 139747718563584 tf_logging.py:115]   name = bert/encoder/layer_9/attention/output/dense/kernel:0, shape = (768, 768), *INIT_FROM_CKPT*\n"
     ]
    },
    {
     "name": "stdout",
     "output_type": "stream",
     "text": [
      "INFO:tensorflow:  name = bert/encoder/layer_9/attention/output/dense/bias:0, shape = (768,), *INIT_FROM_CKPT*\n"
     ]
    },
    {
     "name": "stderr",
     "output_type": "stream",
     "text": [
      "I0502 03:27:17.238361 139747718563584 tf_logging.py:115]   name = bert/encoder/layer_9/attention/output/dense/bias:0, shape = (768,), *INIT_FROM_CKPT*\n"
     ]
    },
    {
     "name": "stdout",
     "output_type": "stream",
     "text": [
      "INFO:tensorflow:  name = bert/encoder/layer_9/attention/output/LayerNorm/beta:0, shape = (768,), *INIT_FROM_CKPT*\n"
     ]
    },
    {
     "name": "stderr",
     "output_type": "stream",
     "text": [
      "I0502 03:27:17.239206 139747718563584 tf_logging.py:115]   name = bert/encoder/layer_9/attention/output/LayerNorm/beta:0, shape = (768,), *INIT_FROM_CKPT*\n"
     ]
    },
    {
     "name": "stdout",
     "output_type": "stream",
     "text": [
      "INFO:tensorflow:  name = bert/encoder/layer_9/attention/output/LayerNorm/gamma:0, shape = (768,), *INIT_FROM_CKPT*\n"
     ]
    },
    {
     "name": "stderr",
     "output_type": "stream",
     "text": [
      "I0502 03:27:17.240031 139747718563584 tf_logging.py:115]   name = bert/encoder/layer_9/attention/output/LayerNorm/gamma:0, shape = (768,), *INIT_FROM_CKPT*\n"
     ]
    },
    {
     "name": "stdout",
     "output_type": "stream",
     "text": [
      "INFO:tensorflow:  name = bert/encoder/layer_9/intermediate/dense/kernel:0, shape = (768, 3072), *INIT_FROM_CKPT*\n"
     ]
    },
    {
     "name": "stderr",
     "output_type": "stream",
     "text": [
      "I0502 03:27:17.240864 139747718563584 tf_logging.py:115]   name = bert/encoder/layer_9/intermediate/dense/kernel:0, shape = (768, 3072), *INIT_FROM_CKPT*\n"
     ]
    },
    {
     "name": "stdout",
     "output_type": "stream",
     "text": [
      "INFO:tensorflow:  name = bert/encoder/layer_9/intermediate/dense/bias:0, shape = (3072,), *INIT_FROM_CKPT*\n"
     ]
    },
    {
     "name": "stderr",
     "output_type": "stream",
     "text": [
      "I0502 03:27:17.241697 139747718563584 tf_logging.py:115]   name = bert/encoder/layer_9/intermediate/dense/bias:0, shape = (3072,), *INIT_FROM_CKPT*\n"
     ]
    },
    {
     "name": "stdout",
     "output_type": "stream",
     "text": [
      "INFO:tensorflow:  name = bert/encoder/layer_9/output/dense/kernel:0, shape = (3072, 768), *INIT_FROM_CKPT*\n"
     ]
    },
    {
     "name": "stderr",
     "output_type": "stream",
     "text": [
      "I0502 03:27:17.242555 139747718563584 tf_logging.py:115]   name = bert/encoder/layer_9/output/dense/kernel:0, shape = (3072, 768), *INIT_FROM_CKPT*\n"
     ]
    },
    {
     "name": "stdout",
     "output_type": "stream",
     "text": [
      "INFO:tensorflow:  name = bert/encoder/layer_9/output/dense/bias:0, shape = (768,), *INIT_FROM_CKPT*\n"
     ]
    },
    {
     "name": "stderr",
     "output_type": "stream",
     "text": [
      "I0502 03:27:17.243384 139747718563584 tf_logging.py:115]   name = bert/encoder/layer_9/output/dense/bias:0, shape = (768,), *INIT_FROM_CKPT*\n"
     ]
    },
    {
     "name": "stdout",
     "output_type": "stream",
     "text": [
      "INFO:tensorflow:  name = bert/encoder/layer_9/output/LayerNorm/beta:0, shape = (768,), *INIT_FROM_CKPT*\n"
     ]
    },
    {
     "name": "stderr",
     "output_type": "stream",
     "text": [
      "I0502 03:27:17.244230 139747718563584 tf_logging.py:115]   name = bert/encoder/layer_9/output/LayerNorm/beta:0, shape = (768,), *INIT_FROM_CKPT*\n"
     ]
    },
    {
     "name": "stdout",
     "output_type": "stream",
     "text": [
      "INFO:tensorflow:  name = bert/encoder/layer_9/output/LayerNorm/gamma:0, shape = (768,), *INIT_FROM_CKPT*\n"
     ]
    },
    {
     "name": "stderr",
     "output_type": "stream",
     "text": [
      "I0502 03:27:17.245053 139747718563584 tf_logging.py:115]   name = bert/encoder/layer_9/output/LayerNorm/gamma:0, shape = (768,), *INIT_FROM_CKPT*\n"
     ]
    },
    {
     "name": "stdout",
     "output_type": "stream",
     "text": [
      "INFO:tensorflow:  name = bert/encoder/layer_10/attention/self/query/kernel:0, shape = (768, 768), *INIT_FROM_CKPT*\n"
     ]
    },
    {
     "name": "stderr",
     "output_type": "stream",
     "text": [
      "I0502 03:27:17.245924 139747718563584 tf_logging.py:115]   name = bert/encoder/layer_10/attention/self/query/kernel:0, shape = (768, 768), *INIT_FROM_CKPT*\n"
     ]
    },
    {
     "name": "stdout",
     "output_type": "stream",
     "text": [
      "INFO:tensorflow:  name = bert/encoder/layer_10/attention/self/query/bias:0, shape = (768,), *INIT_FROM_CKPT*\n"
     ]
    },
    {
     "name": "stderr",
     "output_type": "stream",
     "text": [
      "I0502 03:27:17.246738 139747718563584 tf_logging.py:115]   name = bert/encoder/layer_10/attention/self/query/bias:0, shape = (768,), *INIT_FROM_CKPT*\n"
     ]
    },
    {
     "name": "stdout",
     "output_type": "stream",
     "text": [
      "INFO:tensorflow:  name = bert/encoder/layer_10/attention/self/key/kernel:0, shape = (768, 768), *INIT_FROM_CKPT*\n"
     ]
    },
    {
     "name": "stderr",
     "output_type": "stream",
     "text": [
      "I0502 03:27:17.247769 139747718563584 tf_logging.py:115]   name = bert/encoder/layer_10/attention/self/key/kernel:0, shape = (768, 768), *INIT_FROM_CKPT*\n"
     ]
    },
    {
     "name": "stdout",
     "output_type": "stream",
     "text": [
      "INFO:tensorflow:  name = bert/encoder/layer_10/attention/self/key/bias:0, shape = (768,), *INIT_FROM_CKPT*\n"
     ]
    },
    {
     "name": "stderr",
     "output_type": "stream",
     "text": [
      "I0502 03:27:17.248592 139747718563584 tf_logging.py:115]   name = bert/encoder/layer_10/attention/self/key/bias:0, shape = (768,), *INIT_FROM_CKPT*\n"
     ]
    },
    {
     "name": "stdout",
     "output_type": "stream",
     "text": [
      "INFO:tensorflow:  name = bert/encoder/layer_10/attention/self/value/kernel:0, shape = (768, 768), *INIT_FROM_CKPT*\n"
     ]
    },
    {
     "name": "stderr",
     "output_type": "stream",
     "text": [
      "I0502 03:27:17.249353 139747718563584 tf_logging.py:115]   name = bert/encoder/layer_10/attention/self/value/kernel:0, shape = (768, 768), *INIT_FROM_CKPT*\n"
     ]
    },
    {
     "name": "stdout",
     "output_type": "stream",
     "text": [
      "INFO:tensorflow:  name = bert/encoder/layer_10/attention/self/value/bias:0, shape = (768,), *INIT_FROM_CKPT*\n"
     ]
    },
    {
     "name": "stderr",
     "output_type": "stream",
     "text": [
      "I0502 03:27:17.250260 139747718563584 tf_logging.py:115]   name = bert/encoder/layer_10/attention/self/value/bias:0, shape = (768,), *INIT_FROM_CKPT*\n"
     ]
    },
    {
     "name": "stdout",
     "output_type": "stream",
     "text": [
      "INFO:tensorflow:  name = bert/encoder/layer_10/attention/output/dense/kernel:0, shape = (768, 768), *INIT_FROM_CKPT*\n"
     ]
    },
    {
     "name": "stderr",
     "output_type": "stream",
     "text": [
      "I0502 03:27:17.251049 139747718563584 tf_logging.py:115]   name = bert/encoder/layer_10/attention/output/dense/kernel:0, shape = (768, 768), *INIT_FROM_CKPT*\n"
     ]
    },
    {
     "name": "stdout",
     "output_type": "stream",
     "text": [
      "INFO:tensorflow:  name = bert/encoder/layer_10/attention/output/dense/bias:0, shape = (768,), *INIT_FROM_CKPT*\n"
     ]
    },
    {
     "name": "stderr",
     "output_type": "stream",
     "text": [
      "I0502 03:27:17.252112 139747718563584 tf_logging.py:115]   name = bert/encoder/layer_10/attention/output/dense/bias:0, shape = (768,), *INIT_FROM_CKPT*\n"
     ]
    },
    {
     "name": "stdout",
     "output_type": "stream",
     "text": [
      "INFO:tensorflow:  name = bert/encoder/layer_10/attention/output/LayerNorm/beta:0, shape = (768,), *INIT_FROM_CKPT*\n"
     ]
    },
    {
     "name": "stderr",
     "output_type": "stream",
     "text": [
      "I0502 03:27:17.252942 139747718563584 tf_logging.py:115]   name = bert/encoder/layer_10/attention/output/LayerNorm/beta:0, shape = (768,), *INIT_FROM_CKPT*\n"
     ]
    },
    {
     "name": "stdout",
     "output_type": "stream",
     "text": [
      "INFO:tensorflow:  name = bert/encoder/layer_10/attention/output/LayerNorm/gamma:0, shape = (768,), *INIT_FROM_CKPT*\n"
     ]
    },
    {
     "name": "stderr",
     "output_type": "stream",
     "text": [
      "I0502 03:27:17.253809 139747718563584 tf_logging.py:115]   name = bert/encoder/layer_10/attention/output/LayerNorm/gamma:0, shape = (768,), *INIT_FROM_CKPT*\n"
     ]
    },
    {
     "name": "stdout",
     "output_type": "stream",
     "text": [
      "INFO:tensorflow:  name = bert/encoder/layer_10/intermediate/dense/kernel:0, shape = (768, 3072), *INIT_FROM_CKPT*\n"
     ]
    },
    {
     "name": "stderr",
     "output_type": "stream",
     "text": [
      "I0502 03:27:17.254681 139747718563584 tf_logging.py:115]   name = bert/encoder/layer_10/intermediate/dense/kernel:0, shape = (768, 3072), *INIT_FROM_CKPT*\n"
     ]
    },
    {
     "name": "stdout",
     "output_type": "stream",
     "text": [
      "INFO:tensorflow:  name = bert/encoder/layer_10/intermediate/dense/bias:0, shape = (3072,), *INIT_FROM_CKPT*\n"
     ]
    },
    {
     "name": "stderr",
     "output_type": "stream",
     "text": [
      "I0502 03:27:17.255521 139747718563584 tf_logging.py:115]   name = bert/encoder/layer_10/intermediate/dense/bias:0, shape = (3072,), *INIT_FROM_CKPT*\n"
     ]
    },
    {
     "name": "stdout",
     "output_type": "stream",
     "text": [
      "INFO:tensorflow:  name = bert/encoder/layer_10/output/dense/kernel:0, shape = (3072, 768), *INIT_FROM_CKPT*\n"
     ]
    },
    {
     "name": "stderr",
     "output_type": "stream",
     "text": [
      "I0502 03:27:17.256568 139747718563584 tf_logging.py:115]   name = bert/encoder/layer_10/output/dense/kernel:0, shape = (3072, 768), *INIT_FROM_CKPT*\n"
     ]
    },
    {
     "name": "stdout",
     "output_type": "stream",
     "text": [
      "INFO:tensorflow:  name = bert/encoder/layer_10/output/dense/bias:0, shape = (768,), *INIT_FROM_CKPT*\n"
     ]
    },
    {
     "name": "stderr",
     "output_type": "stream",
     "text": [
      "I0502 03:27:17.257367 139747718563584 tf_logging.py:115]   name = bert/encoder/layer_10/output/dense/bias:0, shape = (768,), *INIT_FROM_CKPT*\n"
     ]
    },
    {
     "name": "stdout",
     "output_type": "stream",
     "text": [
      "INFO:tensorflow:  name = bert/encoder/layer_10/output/LayerNorm/beta:0, shape = (768,), *INIT_FROM_CKPT*\n"
     ]
    },
    {
     "name": "stderr",
     "output_type": "stream",
     "text": [
      "I0502 03:27:17.258320 139747718563584 tf_logging.py:115]   name = bert/encoder/layer_10/output/LayerNorm/beta:0, shape = (768,), *INIT_FROM_CKPT*\n"
     ]
    },
    {
     "name": "stdout",
     "output_type": "stream",
     "text": [
      "INFO:tensorflow:  name = bert/encoder/layer_10/output/LayerNorm/gamma:0, shape = (768,), *INIT_FROM_CKPT*\n"
     ]
    },
    {
     "name": "stderr",
     "output_type": "stream",
     "text": [
      "I0502 03:27:17.281285 139747718563584 tf_logging.py:115]   name = bert/encoder/layer_10/output/LayerNorm/gamma:0, shape = (768,), *INIT_FROM_CKPT*\n"
     ]
    },
    {
     "name": "stdout",
     "output_type": "stream",
     "text": [
      "INFO:tensorflow:  name = bert/encoder/layer_11/attention/self/query/kernel:0, shape = (768, 768), *INIT_FROM_CKPT*\n"
     ]
    },
    {
     "name": "stderr",
     "output_type": "stream",
     "text": [
      "I0502 03:27:17.282127 139747718563584 tf_logging.py:115]   name = bert/encoder/layer_11/attention/self/query/kernel:0, shape = (768, 768), *INIT_FROM_CKPT*\n"
     ]
    },
    {
     "name": "stdout",
     "output_type": "stream",
     "text": [
      "INFO:tensorflow:  name = bert/encoder/layer_11/attention/self/query/bias:0, shape = (768,), *INIT_FROM_CKPT*\n"
     ]
    },
    {
     "name": "stderr",
     "output_type": "stream",
     "text": [
      "I0502 03:27:17.283105 139747718563584 tf_logging.py:115]   name = bert/encoder/layer_11/attention/self/query/bias:0, shape = (768,), *INIT_FROM_CKPT*\n"
     ]
    },
    {
     "name": "stdout",
     "output_type": "stream",
     "text": [
      "INFO:tensorflow:  name = bert/encoder/layer_11/attention/self/key/kernel:0, shape = (768, 768), *INIT_FROM_CKPT*\n"
     ]
    },
    {
     "name": "stderr",
     "output_type": "stream",
     "text": [
      "I0502 03:27:17.283867 139747718563584 tf_logging.py:115]   name = bert/encoder/layer_11/attention/self/key/kernel:0, shape = (768, 768), *INIT_FROM_CKPT*\n"
     ]
    },
    {
     "name": "stdout",
     "output_type": "stream",
     "text": [
      "INFO:tensorflow:  name = bert/encoder/layer_11/attention/self/key/bias:0, shape = (768,), *INIT_FROM_CKPT*\n"
     ]
    },
    {
     "name": "stderr",
     "output_type": "stream",
     "text": [
      "I0502 03:27:17.284730 139747718563584 tf_logging.py:115]   name = bert/encoder/layer_11/attention/self/key/bias:0, shape = (768,), *INIT_FROM_CKPT*\n"
     ]
    },
    {
     "name": "stdout",
     "output_type": "stream",
     "text": [
      "INFO:tensorflow:  name = bert/encoder/layer_11/attention/self/value/kernel:0, shape = (768, 768), *INIT_FROM_CKPT*\n"
     ]
    },
    {
     "name": "stderr",
     "output_type": "stream",
     "text": [
      "I0502 03:27:17.285595 139747718563584 tf_logging.py:115]   name = bert/encoder/layer_11/attention/self/value/kernel:0, shape = (768, 768), *INIT_FROM_CKPT*\n"
     ]
    },
    {
     "name": "stdout",
     "output_type": "stream",
     "text": [
      "INFO:tensorflow:  name = bert/encoder/layer_11/attention/self/value/bias:0, shape = (768,), *INIT_FROM_CKPT*\n"
     ]
    },
    {
     "name": "stderr",
     "output_type": "stream",
     "text": [
      "I0502 03:27:17.286568 139747718563584 tf_logging.py:115]   name = bert/encoder/layer_11/attention/self/value/bias:0, shape = (768,), *INIT_FROM_CKPT*\n"
     ]
    },
    {
     "name": "stdout",
     "output_type": "stream",
     "text": [
      "INFO:tensorflow:  name = bert/encoder/layer_11/attention/output/dense/kernel:0, shape = (768, 768), *INIT_FROM_CKPT*\n"
     ]
    },
    {
     "name": "stderr",
     "output_type": "stream",
     "text": [
      "I0502 03:27:17.287526 139747718563584 tf_logging.py:115]   name = bert/encoder/layer_11/attention/output/dense/kernel:0, shape = (768, 768), *INIT_FROM_CKPT*\n"
     ]
    },
    {
     "name": "stdout",
     "output_type": "stream",
     "text": [
      "INFO:tensorflow:  name = bert/encoder/layer_11/attention/output/dense/bias:0, shape = (768,), *INIT_FROM_CKPT*\n"
     ]
    },
    {
     "name": "stderr",
     "output_type": "stream",
     "text": [
      "I0502 03:27:17.288321 139747718563584 tf_logging.py:115]   name = bert/encoder/layer_11/attention/output/dense/bias:0, shape = (768,), *INIT_FROM_CKPT*\n"
     ]
    },
    {
     "name": "stdout",
     "output_type": "stream",
     "text": [
      "INFO:tensorflow:  name = bert/encoder/layer_11/attention/output/LayerNorm/beta:0, shape = (768,), *INIT_FROM_CKPT*\n"
     ]
    },
    {
     "name": "stderr",
     "output_type": "stream",
     "text": [
      "I0502 03:27:17.289157 139747718563584 tf_logging.py:115]   name = bert/encoder/layer_11/attention/output/LayerNorm/beta:0, shape = (768,), *INIT_FROM_CKPT*\n"
     ]
    },
    {
     "name": "stdout",
     "output_type": "stream",
     "text": [
      "INFO:tensorflow:  name = bert/encoder/layer_11/attention/output/LayerNorm/gamma:0, shape = (768,), *INIT_FROM_CKPT*\n"
     ]
    },
    {
     "name": "stderr",
     "output_type": "stream",
     "text": [
      "I0502 03:27:17.290178 139747718563584 tf_logging.py:115]   name = bert/encoder/layer_11/attention/output/LayerNorm/gamma:0, shape = (768,), *INIT_FROM_CKPT*\n"
     ]
    },
    {
     "name": "stdout",
     "output_type": "stream",
     "text": [
      "INFO:tensorflow:  name = bert/encoder/layer_11/intermediate/dense/kernel:0, shape = (768, 3072), *INIT_FROM_CKPT*\n"
     ]
    },
    {
     "name": "stderr",
     "output_type": "stream",
     "text": [
      "I0502 03:27:17.291161 139747718563584 tf_logging.py:115]   name = bert/encoder/layer_11/intermediate/dense/kernel:0, shape = (768, 3072), *INIT_FROM_CKPT*\n"
     ]
    },
    {
     "name": "stdout",
     "output_type": "stream",
     "text": [
      "INFO:tensorflow:  name = bert/encoder/layer_11/intermediate/dense/bias:0, shape = (3072,), *INIT_FROM_CKPT*\n"
     ]
    },
    {
     "name": "stderr",
     "output_type": "stream",
     "text": [
      "I0502 03:27:17.292171 139747718563584 tf_logging.py:115]   name = bert/encoder/layer_11/intermediate/dense/bias:0, shape = (3072,), *INIT_FROM_CKPT*\n"
     ]
    },
    {
     "name": "stdout",
     "output_type": "stream",
     "text": [
      "INFO:tensorflow:  name = bert/encoder/layer_11/output/dense/kernel:0, shape = (3072, 768), *INIT_FROM_CKPT*\n"
     ]
    },
    {
     "name": "stderr",
     "output_type": "stream",
     "text": [
      "I0502 03:27:17.293231 139747718563584 tf_logging.py:115]   name = bert/encoder/layer_11/output/dense/kernel:0, shape = (3072, 768), *INIT_FROM_CKPT*\n"
     ]
    },
    {
     "name": "stdout",
     "output_type": "stream",
     "text": [
      "INFO:tensorflow:  name = bert/encoder/layer_11/output/dense/bias:0, shape = (768,), *INIT_FROM_CKPT*\n"
     ]
    },
    {
     "name": "stderr",
     "output_type": "stream",
     "text": [
      "I0502 03:27:17.294178 139747718563584 tf_logging.py:115]   name = bert/encoder/layer_11/output/dense/bias:0, shape = (768,), *INIT_FROM_CKPT*\n"
     ]
    },
    {
     "name": "stdout",
     "output_type": "stream",
     "text": [
      "INFO:tensorflow:  name = bert/encoder/layer_11/output/LayerNorm/beta:0, shape = (768,), *INIT_FROM_CKPT*\n"
     ]
    },
    {
     "name": "stderr",
     "output_type": "stream",
     "text": [
      "I0502 03:27:17.295303 139747718563584 tf_logging.py:115]   name = bert/encoder/layer_11/output/LayerNorm/beta:0, shape = (768,), *INIT_FROM_CKPT*\n"
     ]
    },
    {
     "name": "stdout",
     "output_type": "stream",
     "text": [
      "INFO:tensorflow:  name = bert/encoder/layer_11/output/LayerNorm/gamma:0, shape = (768,), *INIT_FROM_CKPT*\n"
     ]
    },
    {
     "name": "stderr",
     "output_type": "stream",
     "text": [
      "I0502 03:27:17.296228 139747718563584 tf_logging.py:115]   name = bert/encoder/layer_11/output/LayerNorm/gamma:0, shape = (768,), *INIT_FROM_CKPT*\n"
     ]
    },
    {
     "name": "stdout",
     "output_type": "stream",
     "text": [
      "INFO:tensorflow:  name = bert/pooler/dense/kernel:0, shape = (768, 768), *INIT_FROM_CKPT*\n"
     ]
    },
    {
     "name": "stderr",
     "output_type": "stream",
     "text": [
      "I0502 03:27:17.297012 139747718563584 tf_logging.py:115]   name = bert/pooler/dense/kernel:0, shape = (768, 768), *INIT_FROM_CKPT*\n"
     ]
    },
    {
     "name": "stdout",
     "output_type": "stream",
     "text": [
      "INFO:tensorflow:  name = bert/pooler/dense/bias:0, shape = (768,), *INIT_FROM_CKPT*\n"
     ]
    },
    {
     "name": "stderr",
     "output_type": "stream",
     "text": [
      "I0502 03:27:17.297917 139747718563584 tf_logging.py:115]   name = bert/pooler/dense/bias:0, shape = (768,), *INIT_FROM_CKPT*\n"
     ]
    },
    {
     "name": "stdout",
     "output_type": "stream",
     "text": [
      "INFO:tensorflow:  name = cls/squad/output_weights:0, shape = (2, 768), *INIT_FROM_CKPT*\n"
     ]
    },
    {
     "name": "stderr",
     "output_type": "stream",
     "text": [
      "I0502 03:27:17.298999 139747718563584 tf_logging.py:115]   name = cls/squad/output_weights:0, shape = (2, 768), *INIT_FROM_CKPT*\n"
     ]
    },
    {
     "name": "stdout",
     "output_type": "stream",
     "text": [
      "INFO:tensorflow:  name = cls/squad/output_bias:0, shape = (2,), *INIT_FROM_CKPT*\n"
     ]
    },
    {
     "name": "stderr",
     "output_type": "stream",
     "text": [
      "I0502 03:27:17.300077 139747718563584 tf_logging.py:115]   name = cls/squad/output_bias:0, shape = (2,), *INIT_FROM_CKPT*\n"
     ]
    },
    {
     "name": "stdout",
     "output_type": "stream",
     "text": [
      "INFO:tensorflow:Done calling model_fn.\n"
     ]
    },
    {
     "name": "stderr",
     "output_type": "stream",
     "text": [
      "I0502 03:27:17.301251 139747718563584 tf_logging.py:115] Done calling model_fn.\n"
     ]
    },
    {
     "name": "stdout",
     "output_type": "stream",
     "text": [
      "INFO:tensorflow:Graph was finalized.\n"
     ]
    },
    {
     "name": "stderr",
     "output_type": "stream",
     "text": [
      "I0502 03:27:17.747633 139747718563584 tf_logging.py:115] Graph was finalized.\n"
     ]
    },
    {
     "name": "stdout",
     "output_type": "stream",
     "text": [
      "INFO:tensorflow:Running local_init_op.\n"
     ]
    },
    {
     "name": "stderr",
     "output_type": "stream",
     "text": [
      "I0502 03:27:18.532622 139747718563584 tf_logging.py:115] Running local_init_op.\n"
     ]
    },
    {
     "name": "stdout",
     "output_type": "stream",
     "text": [
      "INFO:tensorflow:Done running local_init_op.\n"
     ]
    },
    {
     "name": "stderr",
     "output_type": "stream",
     "text": [
      "I0502 03:27:18.581474 139747718563584 tf_logging.py:115] Done running local_init_op.\n"
     ]
    },
    {
     "name": "stdout",
     "output_type": "stream",
     "text": [
      "INFO:tensorflow:Processing example: 0\n"
     ]
    },
    {
     "name": "stderr",
     "output_type": "stream",
     "text": [
      "I0502 03:27:19.142784 139747718563584 tf_logging.py:115] Processing example: 0\n"
     ]
    }
   ],
   "source": [
    "# If running eval on the TPU, you will need to specify the number of\n",
    "# steps.\n",
    "all_results = []\n",
    "\n",
    "for result in estimator.predict(\n",
    "    predict_input_fn, yield_single_examples=True):\n",
    "  \n",
    "    if len(all_results) % 1000 == 0:\n",
    "        tf.logging.info(\"Processing example: %d\" % (len(all_results)))\n",
    "    \n",
    "    unique_id = int(result[\"unique_ids\"])\n",
    "    start_logits = [float(x) for x in result[\"start_logits\"].flat]\n",
    "    end_logits = [float(x) for x in result[\"end_logits\"].flat]\n",
    "    all_results.append(\n",
    "          RawResult(\n",
    "              unique_id=unique_id,\n",
    "              start_logits=start_logits,\n",
    "              end_logits=end_logits))\n",
    "\n",
    "\n",
    "# output_prediction_file = os.path.join(FLAGS.output_dir, \"predictions.json\")\n",
    "# output_nbest_file = os.path.join(FLAGS.output_dir, \"nbest_predictions.json\")\n",
    "# output_null_log_odds_file = os.path.join(FLAGS.output_dir, \"null_odds.json\")"
   ]
  },
  {
   "cell_type": "code",
   "execution_count": 78,
   "metadata": {
    "scrolled": false
   },
   "outputs": [
    {
     "name": "stdout",
     "output_type": "stream",
     "text": [
      "ALL PREDICTIONS\n",
      "\n",
      "OrderedDict([('56ddde6b9a695914005b9628', 'France')])\n",
      "\n",
      "ALL NBEST\n",
      "\n",
      "OrderedDict([('56ddde6b9a695914005b9628', [OrderedDict([('text', 'France'), ('probability', 0.9993119383809461), ('start_logit', 7.207293510437012), ('end_logit', 7.359610557556152)]), OrderedDict([('text', 'in France'), ('probability', 0.00016633520044798589), ('start_logit', -1.4935237169265747), ('end_logit', 7.359610557556152)]), OrderedDict([('text', 'France.'), ('probability', 0.00014845156548925738), ('start_logit', 7.207293510437012), ('end_logit', -1.4549529552459717)]), OrderedDict([('text', 'France. They were descended from Norse (\"Norman\" comes from \"Norseman\") raiders and pirates from Denmark'), ('probability', 0.00011778526099409125), ('start_logit', 7.207293510437012), ('end_logit', -1.686348557472229)]), OrderedDict([('text', 'France. They were descended from Norse (\"Norman\" comes from \"Norseman\") raiders and pirates from Denmark, Iceland and Norway'), ('probability', 9.809031998744387e-05), ('start_logit', 7.207293510437012), ('end_logit', -1.8693230152130127)]), OrderedDict([('text', 'Normandy, a region in France'), ('probability', 6.387940621409294e-05), ('start_logit', -2.4505317211151123), ('end_logit', 7.359610557556152)]), OrderedDict([('text', 'a region in France'), ('probability', 2.671076498680025e-05), ('start_logit', -3.3224620819091797), ('end_logit', 7.359610557556152)]), OrderedDict([('text', 'France. They were descended from Norse'), ('probability', 2.1727827091696757e-05), ('start_logit', 7.207293510437012), ('end_logit', -3.376617908477783)]), OrderedDict([('text', 'France. They were descended from Norse (\"Norman\" comes from \"Norseman\") raiders and pirates from Denmark, Iceland'), ('probability', 1.4394920840584444e-05), ('start_logit', 7.207293510437012), ('end_logit', -3.7883362770080566)]), OrderedDict([('text', 'France. They were descended from Norse (\"Norman\" comes from \"Norseman\") raiders and pirates'), ('probability', 7.9441546594403e-06), ('start_logit', 7.207293510437012), ('end_logit', -4.38277530670166)]), OrderedDict([('text', 'region in France'), ('probability', 7.696016692815647e-06), ('start_logit', -4.566825866699219), ('end_logit', 7.359610557556152)]), OrderedDict([('text', '10th and 11th centuries gave their name to Normandy, a region in France'), ('probability', 5.683815785746807e-06), ('start_logit', -4.869905948638916), ('end_logit', 7.359610557556152)]), OrderedDict([('text', 'France. They were descended from Norse (\"Norman\" comes from \"Norseman\")'), ('probability', 5.253655738103843e-06), ('start_logit', 7.207293510437012), ('end_logit', -4.796287536621094)]), OrderedDict([('text', 'French: Normands; Latin: Normanni) were the people who in the 10th and 11th centuries gave their name to Normandy, a region in France'), ('probability', 3.986640666248084e-06), ('start_logit', -5.224579811096191), ('end_logit', 7.359610557556152)]), OrderedDict([('text', ''), ('probability', 2.5933645300901233e-08), ('start_logit', -1.7787433862686157), ('end_logit', -1.1213889122009277)]), OrderedDict([('text', 'in France.'), ('probability', 2.4709722714290095e-08), ('start_logit', -1.4935237169265747), ('end_logit', -1.4549529552459717)]), OrderedDict([('text', 'in France. They were descended from Norse (\"Norman\" comes from \"Norseman\") raiders and pirates from Denmark'), ('probability', 1.9605324668704123e-08), ('start_logit', -1.4935237169265747), ('end_logit', -1.686348557472229)]), OrderedDict([('text', 'Denmark'), ('probability', 1.9365923673026676e-08), ('start_logit', -1.5058099031448364), ('end_logit', -1.686348557472229)]), OrderedDict([('text', 'in France. They were descended from Norse (\"Norman\" comes from \"Norseman\") raiders and pirates from Denmark, Iceland and Norway'), ('probability', 1.632710709285933e-08), ('start_logit', -1.4935237169265747), ('end_logit', -1.8693230152130127)]), OrderedDict([('text', 'Denmark, Iceland and Norway'), ('probability', 1.612773647489643e-08), ('start_logit', -1.5058099031448364), ('end_logit', -1.8693230152130127)])])])\n",
      "\n",
      "ALL NULL LOG ODDS\n",
      "\n",
      "OrderedDict([('56ddde6b9a695914005b9628', -17.467036366462708)])\n"
     ]
    }
   ],
   "source": [
    "print_predictions(eval_examples, eval_features, all_results,\n",
    "                  20, 30, True)"
   ]
  },
  {
   "cell_type": "code",
   "execution_count": null,
   "metadata": {},
   "outputs": [],
   "source": []
  }
 ],
 "metadata": {
  "kernelspec": {
   "display_name": "Python 3",
   "language": "python",
   "name": "python3"
  },
  "language_info": {
   "codemirror_mode": {
    "name": "ipython",
    "version": 3
   },
   "file_extension": ".py",
   "mimetype": "text/x-python",
   "name": "python",
   "nbconvert_exporter": "python",
   "pygments_lexer": "ipython3",
   "version": "3.6.5"
  }
 },
 "nbformat": 4,
 "nbformat_minor": 2
}
